{
  "cells": [
    {
      "cell_type": "markdown",
      "metadata": {
        "id": "kkAic4Du3FoF"
      },
      "source": [
        "# Installs"
      ]
    },
    {
      "cell_type": "code",
      "execution_count": 1,
      "metadata": {
        "id": "xFMvT9LnjYlj"
      },
      "outputs": [],
      "source": [
        "# Basic stuff\n",
        "import numpy as np\n",
        "import pandas as pd\n",
        "# importing libraries for data visualisations\n",
        "from matplotlib import pyplot\n",
        "import matplotlib.pyplot as plt\n",
        "# Feature engineering\n",
        "from sklearn.preprocessing import MinMaxScaler\n",
        "from sklearn.model_selection import train_test_split\n",
        "from sklearn.metrics import mean_squared_error\n",
        "from imblearn.over_sampling import SMOTE\n",
        "#Evaluation and saving models\n",
        "import joblib\n",
        "# Importing Required Libraries\n",
        "import pandas as pd\n",
        "import numpy as np \n",
        "import torch\n",
        "import matplotlib.pyplot as plt\n",
        "from tqdm import tqdm_notebook\n",
        "from sklearn.metrics import accuracy_score, mean_squared_error\n",
        "from statistics import mean\n",
        "from sklearn.preprocessing import LabelEncoder\n",
        "import seaborn as sns"
      ]
    },
    {
      "cell_type": "markdown",
      "metadata": {
        "id": "nqA5kbtz3Oda"
      },
      "source": [
        "#Data Management and cleaning\n",
        "\n",
        "\n",
        "\n"
      ]
    },
    {
      "cell_type": "markdown",
      "metadata": {
        "id": "CvV-l9LDed_b"
      },
      "source": [
        "### This part of the code is something that's basically been copied over from an old assignment for the HR Attrition dataset.\n",
        "Before loading the .csv files into the database, we might as well handle the basic cleaning steps beforehand"
      ]
    },
    {
      "cell_type": "code",
      "execution_count": 2,
      "metadata": {
        "id": "N6SkVHSc8nVx"
      },
      "outputs": [],
      "source": [
        "#importing data into variables\n",
        "employee_survey = pd.read_csv('https://raw.githubusercontent.com/CNielsen94/NN_exercises_AAUBSDS/main/Assignment%201%20-%20Simple%20NN/employee_survey_data.csv')\n",
        "df_general = pd.read_csv('https://raw.githubusercontent.com/CNielsen94/NN_exercises_AAUBSDS/main/Assignment%201%20-%20Simple%20NN/general_data.csv')\n",
        "manager_survey = pd.read_csv('https://raw.githubusercontent.com/CNielsen94/NN_exercises_AAUBSDS/main/Assignment%201%20-%20Simple%20NN/manager_survey_data.csv')"
      ]
    },
    {
      "cell_type": "markdown",
      "metadata": {
        "id": "ARFcXoL28qWa"
      },
      "source": [
        "Taking a quick look at the data structure and information"
      ]
    },
    {
      "cell_type": "code",
      "execution_count": 3,
      "metadata": {
        "colab": {
          "base_uri": "https://localhost:8080/"
        },
        "id": "2p2e-mTg8utp",
        "outputId": "6eb2acac-505e-4e90-8d9d-c5233c6e9d0b"
      },
      "outputs": [
        {
          "output_type": "stream",
          "name": "stdout",
          "text": [
            "<class 'pandas.core.frame.DataFrame'>\n",
            "RangeIndex: 4410 entries, 0 to 4409\n",
            "Data columns (total 4 columns):\n",
            " #   Column                   Non-Null Count  Dtype  \n",
            "---  ------                   --------------  -----  \n",
            " 0   EmployeeID               4410 non-null   int64  \n",
            " 1   EnvironmentSatisfaction  4385 non-null   float64\n",
            " 2   JobSatisfaction          4390 non-null   float64\n",
            " 3   WorkLifeBalance          4372 non-null   float64\n",
            "dtypes: float64(3), int64(1)\n",
            "memory usage: 137.9 KB\n"
          ]
        }
      ],
      "source": [
        "employee_survey.info()"
      ]
    },
    {
      "cell_type": "markdown",
      "metadata": {
        "id": "L0F31lDo9ely"
      },
      "source": [
        "Looks like the employee_survey contains a few NaNs"
      ]
    },
    {
      "cell_type": "code",
      "execution_count": 4,
      "metadata": {
        "colab": {
          "base_uri": "https://localhost:8080/"
        },
        "id": "d0j0y_3s80jx",
        "outputId": "0d5fde36-76e6-454c-ac5d-56ad79d7d938"
      },
      "outputs": [
        {
          "output_type": "stream",
          "name": "stdout",
          "text": [
            "<class 'pandas.core.frame.DataFrame'>\n",
            "RangeIndex: 4410 entries, 0 to 4409\n",
            "Data columns (total 3 columns):\n",
            " #   Column             Non-Null Count  Dtype\n",
            "---  ------             --------------  -----\n",
            " 0   EmployeeID         4410 non-null   int64\n",
            " 1   JobInvolvement     4410 non-null   int64\n",
            " 2   PerformanceRating  4410 non-null   int64\n",
            "dtypes: int64(3)\n",
            "memory usage: 103.5 KB\n"
          ]
        }
      ],
      "source": [
        "manager_survey.info()"
      ]
    },
    {
      "cell_type": "markdown",
      "metadata": {
        "id": "d7ZZj5gB9j4S"
      },
      "source": [
        "The manager_survey however looks clean"
      ]
    },
    {
      "cell_type": "code",
      "execution_count": 5,
      "metadata": {
        "colab": {
          "base_uri": "https://localhost:8080/"
        },
        "id": "_E3P4Zqm82CZ",
        "outputId": "b18340d6-b7c5-462b-9976-065b5dba20cb"
      },
      "outputs": [
        {
          "output_type": "stream",
          "name": "stdout",
          "text": [
            "<class 'pandas.core.frame.DataFrame'>\n",
            "RangeIndex: 4410 entries, 0 to 4409\n",
            "Data columns (total 24 columns):\n",
            " #   Column                   Non-Null Count  Dtype  \n",
            "---  ------                   --------------  -----  \n",
            " 0   Age                      4410 non-null   int64  \n",
            " 1   Attrition                4410 non-null   object \n",
            " 2   BusinessTravel           4410 non-null   object \n",
            " 3   Department               4410 non-null   object \n",
            " 4   DistanceFromHome         4410 non-null   int64  \n",
            " 5   Education                4410 non-null   int64  \n",
            " 6   EducationField           4410 non-null   object \n",
            " 7   EmployeeCount            4410 non-null   int64  \n",
            " 8   EmployeeID               4410 non-null   int64  \n",
            " 9   Gender                   4410 non-null   object \n",
            " 10  JobLevel                 4410 non-null   int64  \n",
            " 11  JobRole                  4410 non-null   object \n",
            " 12  MaritalStatus            4410 non-null   object \n",
            " 13  MonthlyIncome            4410 non-null   int64  \n",
            " 14  NumCompaniesWorked       4391 non-null   float64\n",
            " 15  Over18                   4410 non-null   object \n",
            " 16  PercentSalaryHike        4410 non-null   int64  \n",
            " 17  StandardHours            4410 non-null   int64  \n",
            " 18  StockOptionLevel         4410 non-null   int64  \n",
            " 19  TotalWorkingYears        4401 non-null   float64\n",
            " 20  TrainingTimesLastYear    4410 non-null   int64  \n",
            " 21  YearsAtCompany           4410 non-null   int64  \n",
            " 22  YearsSinceLastPromotion  4410 non-null   int64  \n",
            " 23  YearsWithCurrManager     4410 non-null   int64  \n",
            "dtypes: float64(2), int64(14), object(8)\n",
            "memory usage: 827.0+ KB\n"
          ]
        }
      ],
      "source": [
        "df_general.info()"
      ]
    },
    {
      "cell_type": "markdown",
      "metadata": {
        "id": "SStKykeK9oj6"
      },
      "source": [
        "In the general data, it looks a few of the columns have rows with missing values in them. These need to be cleaned up"
      ]
    },
    {
      "cell_type": "markdown",
      "metadata": {
        "id": "PmITbSK382yJ"
      },
      "source": [
        "We have decided in this case to use simple imputation with the mean value  into the missing values of the employee_survey dataframe, as it is a relatively few amount of values that have gone missing."
      ]
    },
    {
      "cell_type": "code",
      "execution_count": 6,
      "metadata": {
        "id": "lb8AjRAg47j0"
      },
      "outputs": [],
      "source": [
        "#Cleaning up some missing values by imputing the mean into employee_survey\n",
        "employee_survey = employee_survey.fillna(employee_survey.mean())\n",
        "\n",
        "manager_survey['total_mn'] = (manager_survey['JobInvolvement']+manager_survey['PerformanceRating'])/2\n",
        "employee_survey['total_em'] = (employee_survey['EnvironmentSatisfaction']+employee_survey['JobSatisfaction']+employee_survey['WorkLifeBalance'])/3\n",
        "general_df = df_general.dropna(axis=0) # Making it a variable here just in case something breaks before this point (You never know)"
      ]
    },
    {
      "cell_type": "code",
      "source": [
        "#Let's make sure we don't have misaligned dataframes before loading it up\n",
        "\n",
        "# create a list of all EmployeeIDs that exist in the other dataframe\n",
        "existing_ids = list(general_df['EmployeeID'].unique())\n",
        "\n",
        "# drop all rows with EmployeeID not in existing_ids from manager_survey\n",
        "manager_survey = manager_survey[manager_survey['EmployeeID'].isin(existing_ids)]\n",
        "\n",
        "# drop all rows with EmployeeID not in existing_ids from employee_survey\n",
        "employee_survey = employee_survey[employee_survey['EmployeeID'].isin(existing_ids)]"
      ],
      "metadata": {
        "id": "w2eGEJpIrLZd"
      },
      "execution_count": 7,
      "outputs": []
    },
    {
      "cell_type": "markdown",
      "source": [
        "After this point the code simply merges all the dataframes into a single one, which we used in the original assignment, but now that the data is clean, we'll load it into a database instead for further use."
      ],
      "metadata": {
        "id": "bruGD9VznIf0"
      }
    },
    {
      "cell_type": "markdown",
      "source": [
        "## Old code using csv"
      ],
      "metadata": {
        "id": "-MXsy_eZoMag"
      }
    },
    {
      "cell_type": "code",
      "source": [
        "# Merging dataframe manager_survey to df_general based on 'EmployeeID'\n",
        "#df_general = df_general.merge(manager_survey[['EmployeeID', 'JobInvolvement', 'PerformanceRating','total_mn']], on='EmployeeID')\n",
        "#df_EDA = df_general.merge(manager_survey[['EmployeeID', 'JobInvolvement', 'PerformanceRating','total_mn']], on='EmployeeID')\n",
        "# Merging dataframe employee_survey to df_general based on 'EmployeeID'\n",
        "#df_general = df_general.merge(employee_survey[['EmployeeID', 'EnvironmentSatisfaction', 'JobSatisfaction','WorkLifeBalance','total_em']], on='EmployeeID')\n",
        "#df_EDA = df_general.merge(manager_survey[['EmployeeID', 'JobInvolvement', 'PerformanceRating','total_mn']], on='EmployeeID')\n",
        "# Dropping rows containing NaN-values\n",
        "#df_EDA.dropna(axis=0,inplace=True)\n",
        "#df_general.dropna(axis=0,inplace=True)\n",
        "#df_general.info()"
      ],
      "metadata": {
        "id": "OzdyPlWBnAwW"
      },
      "execution_count": 8,
      "outputs": []
    },
    {
      "cell_type": "code",
      "execution_count": 9,
      "metadata": {
        "id": "T--YMZ5qu9sm"
      },
      "outputs": [],
      "source": [
        "#df_EDA.info()"
      ]
    },
    {
      "cell_type": "code",
      "execution_count": 10,
      "metadata": {
        "id": "PSRdD4PWsJaT"
      },
      "outputs": [],
      "source": [
        "#df_EDA['MaritalStatus']"
      ]
    },
    {
      "cell_type": "markdown",
      "metadata": {
        "id": "dQexmeubCJEw"
      },
      "source": [
        "We also drop some \"useless\" features from the dataset, as for example the \"EmployeeCount\" simply goes from 1-4410 along with the indexes, \"Over18\" only contains values for \"Yes\" as all employees are above 18. Finally the \"StandardHours\" only contain the value \"8\". Therefore these columns have no variance and don't tell us anything."
      ]
    },
    {
      "cell_type": "code",
      "execution_count": 11,
      "metadata": {
        "id": "QaEGELXqCASo"
      },
      "outputs": [],
      "source": [
        "#df_general.drop(columns=['EmployeeCount','Over18','StandardHours','EmployeeID'], axis = 1, inplace = True)\n",
        "#df_general.head()"
      ]
    },
    {
      "cell_type": "code",
      "execution_count": 12,
      "metadata": {
        "id": "mVd2aXCfr2fr"
      },
      "outputs": [],
      "source": [
        "#df_general['MaritalStatus']"
      ]
    },
    {
      "cell_type": "code",
      "execution_count": 13,
      "metadata": {
        "id": "9-kpKnu9cuu5"
      },
      "outputs": [],
      "source": [
        "#df_general.columns"
      ]
    },
    {
      "cell_type": "code",
      "execution_count": 14,
      "metadata": {
        "id": "Vt7DGxhHriVA"
      },
      "outputs": [],
      "source": [
        "#df_EDA['MaritalStatus']"
      ]
    },
    {
      "cell_type": "markdown",
      "source": [
        "## DB stuff starts here"
      ],
      "metadata": {
        "id": "L02LKZWlont4"
      }
    },
    {
      "cell_type": "code",
      "source": [
        "import sqlite3"
      ],
      "metadata": {
        "id": "0Sw-OQYYosVw"
      },
      "execution_count": 15,
      "outputs": []
    },
    {
      "cell_type": "code",
      "source": [
        "conn = sqlite3.connect('HR_DB.db')\n",
        "general_df['Attrition_Class'] = ''"
      ],
      "metadata": {
        "id": "AuLxscPtpAph",
        "outputId": "5eba3385-e455-4384-e725-e2cfc0f87729",
        "colab": {
          "base_uri": "https://localhost:8080/"
        }
      },
      "execution_count": 16,
      "outputs": [
        {
          "output_type": "stream",
          "name": "stderr",
          "text": [
            "<ipython-input-16-8919ec8d48d1>:2: SettingWithCopyWarning: \n",
            "A value is trying to be set on a copy of a slice from a DataFrame.\n",
            "Try using .loc[row_indexer,col_indexer] = value instead\n",
            "\n",
            "See the caveats in the documentation: https://pandas.pydata.org/pandas-docs/stable/user_guide/indexing.html#returning-a-view-versus-a-copy\n",
            "  general_df['Attrition_Class'] = ''\n"
          ]
        }
      ]
    },
    {
      "cell_type": "code",
      "source": [
        "general_df.to_sql('general', conn, if_exists='append', index=False)"
      ],
      "metadata": {
        "id": "UJiTm-NXp9Mj",
        "outputId": "3146fbd9-46f8-4935-a921-1486cbb10ac7",
        "colab": {
          "base_uri": "https://localhost:8080/"
        }
      },
      "execution_count": 17,
      "outputs": [
        {
          "output_type": "execute_result",
          "data": {
            "text/plain": [
              "4382"
            ]
          },
          "metadata": {},
          "execution_count": 17
        }
      ]
    },
    {
      "cell_type": "code",
      "source": [
        "employee_survey.to_sql('employee_survey', conn, if_exists='append',index=False)"
      ],
      "metadata": {
        "id": "9sRquT4-qSdj",
        "outputId": "5c090ede-57cc-4787-cc90-375808adac24",
        "colab": {
          "base_uri": "https://localhost:8080/"
        }
      },
      "execution_count": 18,
      "outputs": [
        {
          "output_type": "execute_result",
          "data": {
            "text/plain": [
              "4382"
            ]
          },
          "metadata": {},
          "execution_count": 18
        }
      ]
    },
    {
      "cell_type": "code",
      "source": [
        "manager_survey.to_sql('manager_survey', conn, if_exists='append',index=False)"
      ],
      "metadata": {
        "id": "6J5kKvfhrwJd",
        "outputId": "b79bca8a-95ad-4f09-af13-ca4beb94f600",
        "colab": {
          "base_uri": "https://localhost:8080/"
        }
      },
      "execution_count": 19,
      "outputs": [
        {
          "output_type": "execute_result",
          "data": {
            "text/plain": [
              "4382"
            ]
          },
          "metadata": {},
          "execution_count": 19
        }
      ]
    },
    {
      "cell_type": "markdown",
      "metadata": {
        "id": "ZJt50oFgFL5f"
      },
      "source": [
        "Now we recode some of the columns into bins or tiers. We can read in our dataframes from the DB again, adapt them using some fancy math, and then update the data in the DB."
      ]
    },
    {
      "cell_type": "code",
      "source": [
        "query = 'SELECT EmployeeID, Age, DistanceFromHome, YearsAtCompany, TotalWorkingYears, MonthlyIncome FROM general'\n",
        "df_tiers = pd.read_sql(query, conn)"
      ],
      "metadata": {
        "id": "HFMmf5cItBWn"
      },
      "execution_count": 20,
      "outputs": []
    },
    {
      "cell_type": "code",
      "source": [
        "df_tiers.head(5)"
      ],
      "metadata": {
        "id": "rqW-cgsFuJfI",
        "outputId": "6859a482-c27a-42f4-905c-c31e8d0e0dd9",
        "colab": {
          "base_uri": "https://localhost:8080/",
          "height": 206
        }
      },
      "execution_count": 21,
      "outputs": [
        {
          "output_type": "execute_result",
          "data": {
            "text/plain": [
              "   EmployeeID  Age  DistanceFromHome  YearsAtCompany  TotalWorkingYears  \\\n",
              "0           1   51                 6               1                1.0   \n",
              "1           2   31                10               5                6.0   \n",
              "2           3   32                17               5                5.0   \n",
              "3           4   38                 2               8               13.0   \n",
              "4           5   32                10               6                9.0   \n",
              "\n",
              "   MonthlyIncome  \n",
              "0         131160  \n",
              "1          41890  \n",
              "2         193280  \n",
              "3          83210  \n",
              "4          23420  "
            ],
            "text/html": [
              "\n",
              "  <div id=\"df-3bf3f856-8498-4732-9f19-21b983873243\">\n",
              "    <div class=\"colab-df-container\">\n",
              "      <div>\n",
              "<style scoped>\n",
              "    .dataframe tbody tr th:only-of-type {\n",
              "        vertical-align: middle;\n",
              "    }\n",
              "\n",
              "    .dataframe tbody tr th {\n",
              "        vertical-align: top;\n",
              "    }\n",
              "\n",
              "    .dataframe thead th {\n",
              "        text-align: right;\n",
              "    }\n",
              "</style>\n",
              "<table border=\"1\" class=\"dataframe\">\n",
              "  <thead>\n",
              "    <tr style=\"text-align: right;\">\n",
              "      <th></th>\n",
              "      <th>EmployeeID</th>\n",
              "      <th>Age</th>\n",
              "      <th>DistanceFromHome</th>\n",
              "      <th>YearsAtCompany</th>\n",
              "      <th>TotalWorkingYears</th>\n",
              "      <th>MonthlyIncome</th>\n",
              "    </tr>\n",
              "  </thead>\n",
              "  <tbody>\n",
              "    <tr>\n",
              "      <th>0</th>\n",
              "      <td>1</td>\n",
              "      <td>51</td>\n",
              "      <td>6</td>\n",
              "      <td>1</td>\n",
              "      <td>1.0</td>\n",
              "      <td>131160</td>\n",
              "    </tr>\n",
              "    <tr>\n",
              "      <th>1</th>\n",
              "      <td>2</td>\n",
              "      <td>31</td>\n",
              "      <td>10</td>\n",
              "      <td>5</td>\n",
              "      <td>6.0</td>\n",
              "      <td>41890</td>\n",
              "    </tr>\n",
              "    <tr>\n",
              "      <th>2</th>\n",
              "      <td>3</td>\n",
              "      <td>32</td>\n",
              "      <td>17</td>\n",
              "      <td>5</td>\n",
              "      <td>5.0</td>\n",
              "      <td>193280</td>\n",
              "    </tr>\n",
              "    <tr>\n",
              "      <th>3</th>\n",
              "      <td>4</td>\n",
              "      <td>38</td>\n",
              "      <td>2</td>\n",
              "      <td>8</td>\n",
              "      <td>13.0</td>\n",
              "      <td>83210</td>\n",
              "    </tr>\n",
              "    <tr>\n",
              "      <th>4</th>\n",
              "      <td>5</td>\n",
              "      <td>32</td>\n",
              "      <td>10</td>\n",
              "      <td>6</td>\n",
              "      <td>9.0</td>\n",
              "      <td>23420</td>\n",
              "    </tr>\n",
              "  </tbody>\n",
              "</table>\n",
              "</div>\n",
              "      <button class=\"colab-df-convert\" onclick=\"convertToInteractive('df-3bf3f856-8498-4732-9f19-21b983873243')\"\n",
              "              title=\"Convert this dataframe to an interactive table.\"\n",
              "              style=\"display:none;\">\n",
              "        \n",
              "  <svg xmlns=\"http://www.w3.org/2000/svg\" height=\"24px\"viewBox=\"0 0 24 24\"\n",
              "       width=\"24px\">\n",
              "    <path d=\"M0 0h24v24H0V0z\" fill=\"none\"/>\n",
              "    <path d=\"M18.56 5.44l.94 2.06.94-2.06 2.06-.94-2.06-.94-.94-2.06-.94 2.06-2.06.94zm-11 1L8.5 8.5l.94-2.06 2.06-.94-2.06-.94L8.5 2.5l-.94 2.06-2.06.94zm10 10l.94 2.06.94-2.06 2.06-.94-2.06-.94-.94-2.06-.94 2.06-2.06.94z\"/><path d=\"M17.41 7.96l-1.37-1.37c-.4-.4-.92-.59-1.43-.59-.52 0-1.04.2-1.43.59L10.3 9.45l-7.72 7.72c-.78.78-.78 2.05 0 2.83L4 21.41c.39.39.9.59 1.41.59.51 0 1.02-.2 1.41-.59l7.78-7.78 2.81-2.81c.8-.78.8-2.07 0-2.86zM5.41 20L4 18.59l7.72-7.72 1.47 1.35L5.41 20z\"/>\n",
              "  </svg>\n",
              "      </button>\n",
              "      \n",
              "  <style>\n",
              "    .colab-df-container {\n",
              "      display:flex;\n",
              "      flex-wrap:wrap;\n",
              "      gap: 12px;\n",
              "    }\n",
              "\n",
              "    .colab-df-convert {\n",
              "      background-color: #E8F0FE;\n",
              "      border: none;\n",
              "      border-radius: 50%;\n",
              "      cursor: pointer;\n",
              "      display: none;\n",
              "      fill: #1967D2;\n",
              "      height: 32px;\n",
              "      padding: 0 0 0 0;\n",
              "      width: 32px;\n",
              "    }\n",
              "\n",
              "    .colab-df-convert:hover {\n",
              "      background-color: #E2EBFA;\n",
              "      box-shadow: 0px 1px 2px rgba(60, 64, 67, 0.3), 0px 1px 3px 1px rgba(60, 64, 67, 0.15);\n",
              "      fill: #174EA6;\n",
              "    }\n",
              "\n",
              "    [theme=dark] .colab-df-convert {\n",
              "      background-color: #3B4455;\n",
              "      fill: #D2E3FC;\n",
              "    }\n",
              "\n",
              "    [theme=dark] .colab-df-convert:hover {\n",
              "      background-color: #434B5C;\n",
              "      box-shadow: 0px 1px 3px 1px rgba(0, 0, 0, 0.15);\n",
              "      filter: drop-shadow(0px 1px 2px rgba(0, 0, 0, 0.3));\n",
              "      fill: #FFFFFF;\n",
              "    }\n",
              "  </style>\n",
              "\n",
              "      <script>\n",
              "        const buttonEl =\n",
              "          document.querySelector('#df-3bf3f856-8498-4732-9f19-21b983873243 button.colab-df-convert');\n",
              "        buttonEl.style.display =\n",
              "          google.colab.kernel.accessAllowed ? 'block' : 'none';\n",
              "\n",
              "        async function convertToInteractive(key) {\n",
              "          const element = document.querySelector('#df-3bf3f856-8498-4732-9f19-21b983873243');\n",
              "          const dataTable =\n",
              "            await google.colab.kernel.invokeFunction('convertToInteractive',\n",
              "                                                     [key], {});\n",
              "          if (!dataTable) return;\n",
              "\n",
              "          const docLinkHtml = 'Like what you see? Visit the ' +\n",
              "            '<a target=\"_blank\" href=https://colab.research.google.com/notebooks/data_table.ipynb>data table notebook</a>'\n",
              "            + ' to learn more about interactive tables.';\n",
              "          element.innerHTML = '';\n",
              "          dataTable['output_type'] = 'display_data';\n",
              "          await google.colab.output.renderOutput(dataTable, element);\n",
              "          const docLink = document.createElement('div');\n",
              "          docLink.innerHTML = docLinkHtml;\n",
              "          element.appendChild(docLink);\n",
              "        }\n",
              "      </script>\n",
              "    </div>\n",
              "  </div>\n",
              "  "
            ]
          },
          "metadata": {},
          "execution_count": 21
        }
      ]
    },
    {
      "cell_type": "code",
      "execution_count": 22,
      "metadata": {
        "id": "KjBnMsrp8fL6"
      },
      "outputs": [],
      "source": [
        "# create a list of our conditions\n",
        "conditions = [\n",
        "    (df_tiers['Age'] <= 20),\n",
        "    (df_tiers['Age'] > 20) & (df_tiers['Age'] <= 30),\n",
        "    (df_tiers['Age'] > 30) & (df_tiers['Age'] <= 40),\n",
        "    (df_tiers['Age'] > 40) & (df_tiers['Age'] <= 50),\n",
        "    (df_tiers['Age'] > 50) & (df_tiers['Age'] <= 60)\n",
        "    ]\n",
        "\n",
        "# create a list of the values we want to assign for each condition\n",
        "values = ['less_20', '20_30', '30_40', '40_50', '50_60']\n",
        "\n",
        "# create a new column and use np.select to assign values to it using our lists as arguments\n",
        "df_tiers['Age_tier'] = np.select(conditions, values)"
      ]
    },
    {
      "cell_type": "code",
      "execution_count": 23,
      "metadata": {
        "id": "mwevhVTBQ2Vs"
      },
      "outputs": [],
      "source": [
        "# create a list of our conditions\n",
        "conditions = [\n",
        "    (df_tiers['DistanceFromHome'] > 0) & (df_tiers['DistanceFromHome'] <= 5),\n",
        "    (df_tiers['DistanceFromHome'] > 5) & (df_tiers['DistanceFromHome'] <= 10),\n",
        "    (df_tiers['DistanceFromHome'] > 10) & (df_tiers['DistanceFromHome'] <= 20),\n",
        "    (df_tiers['DistanceFromHome'] > 20) & (df_tiers['DistanceFromHome'] <= 29)\n",
        "    ]\n",
        "\n",
        "# create a list of the values we want to assign for each condition\n",
        "values = [4,3,2,1]\n",
        "\n",
        "# create a new column and use np.select to assign values to it using our lists as arguments\n",
        "df_tiers['distancehome_tier'] = np.select(conditions, values)"
      ]
    },
    {
      "cell_type": "code",
      "execution_count": 24,
      "metadata": {
        "colab": {
          "base_uri": "https://localhost:8080/"
        },
        "id": "F62BmsMESxv0",
        "outputId": "3ba36abb-f0bb-4da9-ebe0-3999e7cf2cca"
      },
      "outputs": [
        {
          "output_type": "execute_result",
          "data": {
            "text/plain": [
              "array(['Healthcare Representative', 'Research Scientist',\n",
              "       'Sales Executive', 'Human Resources', 'Research Director',\n",
              "       'Laboratory Technician', 'Manufacturing Director',\n",
              "       'Sales Representative', 'Manager'], dtype=object)"
            ]
          },
          "metadata": {},
          "execution_count": 24
        }
      ],
      "source": [
        "df_general['JobRole'].unique()"
      ]
    },
    {
      "cell_type": "code",
      "execution_count": 25,
      "metadata": {
        "id": "4ikxw0qiQ3FE"
      },
      "outputs": [],
      "source": [
        "# create a list of our conditions\n",
        "conditions = [\n",
        "    (df_tiers['YearsAtCompany'] >= 0) & (df_tiers['YearsAtCompany'] <2),\n",
        "    (df_tiers['YearsAtCompany'] >= 2) & (df_tiers['YearsAtCompany'] <5),\n",
        "    (df_tiers['YearsAtCompany'] >= 5) & (df_tiers['YearsAtCompany'] <8),\n",
        "    (df_tiers['YearsAtCompany'] >= 8) & (df_tiers['YearsAtCompany'] <12),\n",
        "    (df_tiers['YearsAtCompany'] >=12)\n",
        "    ]\n",
        "\n",
        "# create a list of the values we want to assign for each condition\n",
        "values = [1,2,3,4,5]\n",
        "\n",
        "# create a new column and use np.select to assign values to it using our lists as arguments\n",
        "df_tiers['YearsAtCompany_tier'] = np.select(conditions, values)"
      ]
    },
    {
      "cell_type": "code",
      "execution_count": 26,
      "metadata": {
        "id": "ZiVlp-WAaInO"
      },
      "outputs": [],
      "source": [
        "# create a list of our conditions\n",
        "conditions = [\n",
        "    (df_tiers['TotalWorkingYears'] >= 0) & (df_tiers['TotalWorkingYears'] <2),\n",
        "    (df_tiers['TotalWorkingYears'] >= 2) & (df_tiers['TotalWorkingYears'] <5),\n",
        "    (df_tiers['TotalWorkingYears'] >= 5) & (df_tiers['TotalWorkingYears'] <8),\n",
        "    (df_tiers['TotalWorkingYears'] >= 8) & (df_tiers['TotalWorkingYears'] <12),\n",
        "    (df_tiers['TotalWorkingYears'] >=12)\n",
        "    ]\n",
        "# create a list of the values we want to assign for each condition\n",
        "values = [1,2,3,4,5]\n",
        "\n",
        "# create a new column and use np.select to assign values to it using our lists as arguments\n",
        "df_tiers['TotalWorkingYear_tier'] = np.select(conditions, values)"
      ]
    },
    {
      "cell_type": "code",
      "execution_count": 27,
      "metadata": {
        "id": "16TRm9NRQ5IU"
      },
      "outputs": [],
      "source": [
        "# create a list of our conditions\n",
        "conditions = [\n",
        "    (df_tiers['MonthlyIncome'] >= 10000) & (df_tiers['MonthlyIncome'] <25000),\n",
        "    (df_tiers['MonthlyIncome'] >= 25000) & (df_tiers['MonthlyIncome'] <35000),\n",
        "    (df_tiers['MonthlyIncome'] >= 35000) & (df_tiers['MonthlyIncome'] <60000),\n",
        "    (df_tiers['MonthlyIncome'] >=60000) & (df_tiers['MonthlyIncome'] <100000),\n",
        "    (df_tiers['MonthlyIncome'] >=100000)\n",
        "    ]\n",
        "\n",
        "# create a list of the values we want to assign for each condition\n",
        "values = [1,2,3,4,5]\n",
        "\n",
        "# create a new column and use np.select to assign values to it using our lists as arguments\n",
        "df_tiers['MonthlyIncome_tier'] = np.select(conditions, values)"
      ]
    },
    {
      "cell_type": "code",
      "source": [
        "df_tiers.head(5)"
      ],
      "metadata": {
        "id": "WV2Uf4rHyPd8",
        "outputId": "c5bd54fc-1d9e-4152-ba14-db9b2fb4309d",
        "colab": {
          "base_uri": "https://localhost:8080/",
          "height": 206
        }
      },
      "execution_count": 28,
      "outputs": [
        {
          "output_type": "execute_result",
          "data": {
            "text/plain": [
              "   EmployeeID  Age  DistanceFromHome  YearsAtCompany  TotalWorkingYears  \\\n",
              "0           1   51                 6               1                1.0   \n",
              "1           2   31                10               5                6.0   \n",
              "2           3   32                17               5                5.0   \n",
              "3           4   38                 2               8               13.0   \n",
              "4           5   32                10               6                9.0   \n",
              "\n",
              "   MonthlyIncome Age_tier  distancehome_tier  YearsAtCompany_tier  \\\n",
              "0         131160    50_60                  3                    1   \n",
              "1          41890    30_40                  3                    3   \n",
              "2         193280    30_40                  2                    3   \n",
              "3          83210    30_40                  4                    4   \n",
              "4          23420    30_40                  3                    3   \n",
              "\n",
              "   TotalWorkingYear_tier  MonthlyIncome_tier  \n",
              "0                      1                   5  \n",
              "1                      3                   3  \n",
              "2                      3                   5  \n",
              "3                      5                   4  \n",
              "4                      4                   1  "
            ],
            "text/html": [
              "\n",
              "  <div id=\"df-f2391c2b-dc23-4d2d-8958-b276352bb254\">\n",
              "    <div class=\"colab-df-container\">\n",
              "      <div>\n",
              "<style scoped>\n",
              "    .dataframe tbody tr th:only-of-type {\n",
              "        vertical-align: middle;\n",
              "    }\n",
              "\n",
              "    .dataframe tbody tr th {\n",
              "        vertical-align: top;\n",
              "    }\n",
              "\n",
              "    .dataframe thead th {\n",
              "        text-align: right;\n",
              "    }\n",
              "</style>\n",
              "<table border=\"1\" class=\"dataframe\">\n",
              "  <thead>\n",
              "    <tr style=\"text-align: right;\">\n",
              "      <th></th>\n",
              "      <th>EmployeeID</th>\n",
              "      <th>Age</th>\n",
              "      <th>DistanceFromHome</th>\n",
              "      <th>YearsAtCompany</th>\n",
              "      <th>TotalWorkingYears</th>\n",
              "      <th>MonthlyIncome</th>\n",
              "      <th>Age_tier</th>\n",
              "      <th>distancehome_tier</th>\n",
              "      <th>YearsAtCompany_tier</th>\n",
              "      <th>TotalWorkingYear_tier</th>\n",
              "      <th>MonthlyIncome_tier</th>\n",
              "    </tr>\n",
              "  </thead>\n",
              "  <tbody>\n",
              "    <tr>\n",
              "      <th>0</th>\n",
              "      <td>1</td>\n",
              "      <td>51</td>\n",
              "      <td>6</td>\n",
              "      <td>1</td>\n",
              "      <td>1.0</td>\n",
              "      <td>131160</td>\n",
              "      <td>50_60</td>\n",
              "      <td>3</td>\n",
              "      <td>1</td>\n",
              "      <td>1</td>\n",
              "      <td>5</td>\n",
              "    </tr>\n",
              "    <tr>\n",
              "      <th>1</th>\n",
              "      <td>2</td>\n",
              "      <td>31</td>\n",
              "      <td>10</td>\n",
              "      <td>5</td>\n",
              "      <td>6.0</td>\n",
              "      <td>41890</td>\n",
              "      <td>30_40</td>\n",
              "      <td>3</td>\n",
              "      <td>3</td>\n",
              "      <td>3</td>\n",
              "      <td>3</td>\n",
              "    </tr>\n",
              "    <tr>\n",
              "      <th>2</th>\n",
              "      <td>3</td>\n",
              "      <td>32</td>\n",
              "      <td>17</td>\n",
              "      <td>5</td>\n",
              "      <td>5.0</td>\n",
              "      <td>193280</td>\n",
              "      <td>30_40</td>\n",
              "      <td>2</td>\n",
              "      <td>3</td>\n",
              "      <td>3</td>\n",
              "      <td>5</td>\n",
              "    </tr>\n",
              "    <tr>\n",
              "      <th>3</th>\n",
              "      <td>4</td>\n",
              "      <td>38</td>\n",
              "      <td>2</td>\n",
              "      <td>8</td>\n",
              "      <td>13.0</td>\n",
              "      <td>83210</td>\n",
              "      <td>30_40</td>\n",
              "      <td>4</td>\n",
              "      <td>4</td>\n",
              "      <td>5</td>\n",
              "      <td>4</td>\n",
              "    </tr>\n",
              "    <tr>\n",
              "      <th>4</th>\n",
              "      <td>5</td>\n",
              "      <td>32</td>\n",
              "      <td>10</td>\n",
              "      <td>6</td>\n",
              "      <td>9.0</td>\n",
              "      <td>23420</td>\n",
              "      <td>30_40</td>\n",
              "      <td>3</td>\n",
              "      <td>3</td>\n",
              "      <td>4</td>\n",
              "      <td>1</td>\n",
              "    </tr>\n",
              "  </tbody>\n",
              "</table>\n",
              "</div>\n",
              "      <button class=\"colab-df-convert\" onclick=\"convertToInteractive('df-f2391c2b-dc23-4d2d-8958-b276352bb254')\"\n",
              "              title=\"Convert this dataframe to an interactive table.\"\n",
              "              style=\"display:none;\">\n",
              "        \n",
              "  <svg xmlns=\"http://www.w3.org/2000/svg\" height=\"24px\"viewBox=\"0 0 24 24\"\n",
              "       width=\"24px\">\n",
              "    <path d=\"M0 0h24v24H0V0z\" fill=\"none\"/>\n",
              "    <path d=\"M18.56 5.44l.94 2.06.94-2.06 2.06-.94-2.06-.94-.94-2.06-.94 2.06-2.06.94zm-11 1L8.5 8.5l.94-2.06 2.06-.94-2.06-.94L8.5 2.5l-.94 2.06-2.06.94zm10 10l.94 2.06.94-2.06 2.06-.94-2.06-.94-.94-2.06-.94 2.06-2.06.94z\"/><path d=\"M17.41 7.96l-1.37-1.37c-.4-.4-.92-.59-1.43-.59-.52 0-1.04.2-1.43.59L10.3 9.45l-7.72 7.72c-.78.78-.78 2.05 0 2.83L4 21.41c.39.39.9.59 1.41.59.51 0 1.02-.2 1.41-.59l7.78-7.78 2.81-2.81c.8-.78.8-2.07 0-2.86zM5.41 20L4 18.59l7.72-7.72 1.47 1.35L5.41 20z\"/>\n",
              "  </svg>\n",
              "      </button>\n",
              "      \n",
              "  <style>\n",
              "    .colab-df-container {\n",
              "      display:flex;\n",
              "      flex-wrap:wrap;\n",
              "      gap: 12px;\n",
              "    }\n",
              "\n",
              "    .colab-df-convert {\n",
              "      background-color: #E8F0FE;\n",
              "      border: none;\n",
              "      border-radius: 50%;\n",
              "      cursor: pointer;\n",
              "      display: none;\n",
              "      fill: #1967D2;\n",
              "      height: 32px;\n",
              "      padding: 0 0 0 0;\n",
              "      width: 32px;\n",
              "    }\n",
              "\n",
              "    .colab-df-convert:hover {\n",
              "      background-color: #E2EBFA;\n",
              "      box-shadow: 0px 1px 2px rgba(60, 64, 67, 0.3), 0px 1px 3px 1px rgba(60, 64, 67, 0.15);\n",
              "      fill: #174EA6;\n",
              "    }\n",
              "\n",
              "    [theme=dark] .colab-df-convert {\n",
              "      background-color: #3B4455;\n",
              "      fill: #D2E3FC;\n",
              "    }\n",
              "\n",
              "    [theme=dark] .colab-df-convert:hover {\n",
              "      background-color: #434B5C;\n",
              "      box-shadow: 0px 1px 3px 1px rgba(0, 0, 0, 0.15);\n",
              "      filter: drop-shadow(0px 1px 2px rgba(0, 0, 0, 0.3));\n",
              "      fill: #FFFFFF;\n",
              "    }\n",
              "  </style>\n",
              "\n",
              "      <script>\n",
              "        const buttonEl =\n",
              "          document.querySelector('#df-f2391c2b-dc23-4d2d-8958-b276352bb254 button.colab-df-convert');\n",
              "        buttonEl.style.display =\n",
              "          google.colab.kernel.accessAllowed ? 'block' : 'none';\n",
              "\n",
              "        async function convertToInteractive(key) {\n",
              "          const element = document.querySelector('#df-f2391c2b-dc23-4d2d-8958-b276352bb254');\n",
              "          const dataTable =\n",
              "            await google.colab.kernel.invokeFunction('convertToInteractive',\n",
              "                                                     [key], {});\n",
              "          if (!dataTable) return;\n",
              "\n",
              "          const docLinkHtml = 'Like what you see? Visit the ' +\n",
              "            '<a target=\"_blank\" href=https://colab.research.google.com/notebooks/data_table.ipynb>data table notebook</a>'\n",
              "            + ' to learn more about interactive tables.';\n",
              "          element.innerHTML = '';\n",
              "          dataTable['output_type'] = 'display_data';\n",
              "          await google.colab.output.renderOutput(dataTable, element);\n",
              "          const docLink = document.createElement('div');\n",
              "          docLink.innerHTML = docLinkHtml;\n",
              "          element.appendChild(docLink);\n",
              "        }\n",
              "      </script>\n",
              "    </div>\n",
              "  </div>\n",
              "  "
            ]
          },
          "metadata": {},
          "execution_count": 28
        }
      ]
    },
    {
      "cell_type": "markdown",
      "source": [
        "Now we can create a new DF for the DB containing the corresponding variable tiers of the company employees. The general information dataframe is already large enough without adding an additional 5 that may not be needed anywhere else in a company. Keeping track of attrition is an ongoing process however, so keeping these tiers separately updated could be useful"
      ],
      "metadata": {
        "id": "gejj058pxq8V"
      }
    },
    {
      "cell_type": "code",
      "source": [
        "new_df = df_tiers[['EmployeeID', 'Age_tier', 'distancehome_tier','YearsAtCompany_tier','TotalWorkingYear_tier','MonthlyIncome_tier']]"
      ],
      "metadata": {
        "id": "jjYImCXFxLlL"
      },
      "execution_count": 29,
      "outputs": []
    },
    {
      "cell_type": "code",
      "source": [
        "new_df.head(5)"
      ],
      "metadata": {
        "id": "gF3eVei2yqEN",
        "outputId": "3cc0a40b-1b25-426f-aa37-93ed02d0f142",
        "colab": {
          "base_uri": "https://localhost:8080/",
          "height": 206
        }
      },
      "execution_count": 30,
      "outputs": [
        {
          "output_type": "execute_result",
          "data": {
            "text/plain": [
              "   EmployeeID Age_tier  distancehome_tier  YearsAtCompany_tier  \\\n",
              "0           1    50_60                  3                    1   \n",
              "1           2    30_40                  3                    3   \n",
              "2           3    30_40                  2                    3   \n",
              "3           4    30_40                  4                    4   \n",
              "4           5    30_40                  3                    3   \n",
              "\n",
              "   TotalWorkingYear_tier  MonthlyIncome_tier  \n",
              "0                      1                   5  \n",
              "1                      3                   3  \n",
              "2                      3                   5  \n",
              "3                      5                   4  \n",
              "4                      4                   1  "
            ],
            "text/html": [
              "\n",
              "  <div id=\"df-3f330f06-fa38-43c4-83bc-3c9da7129201\">\n",
              "    <div class=\"colab-df-container\">\n",
              "      <div>\n",
              "<style scoped>\n",
              "    .dataframe tbody tr th:only-of-type {\n",
              "        vertical-align: middle;\n",
              "    }\n",
              "\n",
              "    .dataframe tbody tr th {\n",
              "        vertical-align: top;\n",
              "    }\n",
              "\n",
              "    .dataframe thead th {\n",
              "        text-align: right;\n",
              "    }\n",
              "</style>\n",
              "<table border=\"1\" class=\"dataframe\">\n",
              "  <thead>\n",
              "    <tr style=\"text-align: right;\">\n",
              "      <th></th>\n",
              "      <th>EmployeeID</th>\n",
              "      <th>Age_tier</th>\n",
              "      <th>distancehome_tier</th>\n",
              "      <th>YearsAtCompany_tier</th>\n",
              "      <th>TotalWorkingYear_tier</th>\n",
              "      <th>MonthlyIncome_tier</th>\n",
              "    </tr>\n",
              "  </thead>\n",
              "  <tbody>\n",
              "    <tr>\n",
              "      <th>0</th>\n",
              "      <td>1</td>\n",
              "      <td>50_60</td>\n",
              "      <td>3</td>\n",
              "      <td>1</td>\n",
              "      <td>1</td>\n",
              "      <td>5</td>\n",
              "    </tr>\n",
              "    <tr>\n",
              "      <th>1</th>\n",
              "      <td>2</td>\n",
              "      <td>30_40</td>\n",
              "      <td>3</td>\n",
              "      <td>3</td>\n",
              "      <td>3</td>\n",
              "      <td>3</td>\n",
              "    </tr>\n",
              "    <tr>\n",
              "      <th>2</th>\n",
              "      <td>3</td>\n",
              "      <td>30_40</td>\n",
              "      <td>2</td>\n",
              "      <td>3</td>\n",
              "      <td>3</td>\n",
              "      <td>5</td>\n",
              "    </tr>\n",
              "    <tr>\n",
              "      <th>3</th>\n",
              "      <td>4</td>\n",
              "      <td>30_40</td>\n",
              "      <td>4</td>\n",
              "      <td>4</td>\n",
              "      <td>5</td>\n",
              "      <td>4</td>\n",
              "    </tr>\n",
              "    <tr>\n",
              "      <th>4</th>\n",
              "      <td>5</td>\n",
              "      <td>30_40</td>\n",
              "      <td>3</td>\n",
              "      <td>3</td>\n",
              "      <td>4</td>\n",
              "      <td>1</td>\n",
              "    </tr>\n",
              "  </tbody>\n",
              "</table>\n",
              "</div>\n",
              "      <button class=\"colab-df-convert\" onclick=\"convertToInteractive('df-3f330f06-fa38-43c4-83bc-3c9da7129201')\"\n",
              "              title=\"Convert this dataframe to an interactive table.\"\n",
              "              style=\"display:none;\">\n",
              "        \n",
              "  <svg xmlns=\"http://www.w3.org/2000/svg\" height=\"24px\"viewBox=\"0 0 24 24\"\n",
              "       width=\"24px\">\n",
              "    <path d=\"M0 0h24v24H0V0z\" fill=\"none\"/>\n",
              "    <path d=\"M18.56 5.44l.94 2.06.94-2.06 2.06-.94-2.06-.94-.94-2.06-.94 2.06-2.06.94zm-11 1L8.5 8.5l.94-2.06 2.06-.94-2.06-.94L8.5 2.5l-.94 2.06-2.06.94zm10 10l.94 2.06.94-2.06 2.06-.94-2.06-.94-.94-2.06-.94 2.06-2.06.94z\"/><path d=\"M17.41 7.96l-1.37-1.37c-.4-.4-.92-.59-1.43-.59-.52 0-1.04.2-1.43.59L10.3 9.45l-7.72 7.72c-.78.78-.78 2.05 0 2.83L4 21.41c.39.39.9.59 1.41.59.51 0 1.02-.2 1.41-.59l7.78-7.78 2.81-2.81c.8-.78.8-2.07 0-2.86zM5.41 20L4 18.59l7.72-7.72 1.47 1.35L5.41 20z\"/>\n",
              "  </svg>\n",
              "      </button>\n",
              "      \n",
              "  <style>\n",
              "    .colab-df-container {\n",
              "      display:flex;\n",
              "      flex-wrap:wrap;\n",
              "      gap: 12px;\n",
              "    }\n",
              "\n",
              "    .colab-df-convert {\n",
              "      background-color: #E8F0FE;\n",
              "      border: none;\n",
              "      border-radius: 50%;\n",
              "      cursor: pointer;\n",
              "      display: none;\n",
              "      fill: #1967D2;\n",
              "      height: 32px;\n",
              "      padding: 0 0 0 0;\n",
              "      width: 32px;\n",
              "    }\n",
              "\n",
              "    .colab-df-convert:hover {\n",
              "      background-color: #E2EBFA;\n",
              "      box-shadow: 0px 1px 2px rgba(60, 64, 67, 0.3), 0px 1px 3px 1px rgba(60, 64, 67, 0.15);\n",
              "      fill: #174EA6;\n",
              "    }\n",
              "\n",
              "    [theme=dark] .colab-df-convert {\n",
              "      background-color: #3B4455;\n",
              "      fill: #D2E3FC;\n",
              "    }\n",
              "\n",
              "    [theme=dark] .colab-df-convert:hover {\n",
              "      background-color: #434B5C;\n",
              "      box-shadow: 0px 1px 3px 1px rgba(0, 0, 0, 0.15);\n",
              "      filter: drop-shadow(0px 1px 2px rgba(0, 0, 0, 0.3));\n",
              "      fill: #FFFFFF;\n",
              "    }\n",
              "  </style>\n",
              "\n",
              "      <script>\n",
              "        const buttonEl =\n",
              "          document.querySelector('#df-3f330f06-fa38-43c4-83bc-3c9da7129201 button.colab-df-convert');\n",
              "        buttonEl.style.display =\n",
              "          google.colab.kernel.accessAllowed ? 'block' : 'none';\n",
              "\n",
              "        async function convertToInteractive(key) {\n",
              "          const element = document.querySelector('#df-3f330f06-fa38-43c4-83bc-3c9da7129201');\n",
              "          const dataTable =\n",
              "            await google.colab.kernel.invokeFunction('convertToInteractive',\n",
              "                                                     [key], {});\n",
              "          if (!dataTable) return;\n",
              "\n",
              "          const docLinkHtml = 'Like what you see? Visit the ' +\n",
              "            '<a target=\"_blank\" href=https://colab.research.google.com/notebooks/data_table.ipynb>data table notebook</a>'\n",
              "            + ' to learn more about interactive tables.';\n",
              "          element.innerHTML = '';\n",
              "          dataTable['output_type'] = 'display_data';\n",
              "          await google.colab.output.renderOutput(dataTable, element);\n",
              "          const docLink = document.createElement('div');\n",
              "          docLink.innerHTML = docLinkHtml;\n",
              "          element.appendChild(docLink);\n",
              "        }\n",
              "      </script>\n",
              "    </div>\n",
              "  </div>\n",
              "  "
            ]
          },
          "metadata": {},
          "execution_count": 30
        }
      ]
    },
    {
      "cell_type": "code",
      "source": [],
      "metadata": {
        "id": "6SVvPydnzlmV"
      },
      "execution_count": 30,
      "outputs": []
    },
    {
      "cell_type": "code",
      "source": [
        "new_df.to_sql('EmployeeTiers', conn, if_exists='append',index=False)"
      ],
      "metadata": {
        "id": "7sWSXDrox9fU",
        "outputId": "3459489a-0085-45f5-e83a-333b50b3d2e6",
        "colab": {
          "base_uri": "https://localhost:8080/"
        }
      },
      "execution_count": 31,
      "outputs": [
        {
          "output_type": "execute_result",
          "data": {
            "text/plain": [
              "4382"
            ]
          },
          "metadata": {},
          "execution_count": 31
        }
      ]
    },
    {
      "cell_type": "markdown",
      "source": [
        "## Now we can start handling the data for some actual analysis"
      ],
      "metadata": {
        "id": "P2lxB9tYslqm"
      }
    },
    {
      "cell_type": "markdown",
      "source": [
        "### First some queries to select all the data we need from DB"
      ],
      "metadata": {
        "id": "gctDQHFy2Diw"
      }
    },
    {
      "cell_type": "code",
      "source": [
        "query = 'SELECT * FROM general'\n",
        "df_general = pd.read_sql(query, conn)"
      ],
      "metadata": {
        "id": "8U6kUNo80pbe"
      },
      "execution_count": 32,
      "outputs": []
    },
    {
      "cell_type": "code",
      "execution_count": 33,
      "metadata": {
        "colab": {
          "base_uri": "https://localhost:8080/"
        },
        "id": "LXCeYwY4lbUr",
        "outputId": "d2e46e9e-879a-4a3f-cb84-f03e3dd52499"
      },
      "outputs": [
        {
          "output_type": "execute_result",
          "data": {
            "text/plain": [
              "Index(['Age', 'Attrition', 'BusinessTravel', 'Department', 'DistanceFromHome',\n",
              "       'Education', 'EducationField', 'EmployeeCount', 'EmployeeID', 'Gender',\n",
              "       'JobLevel', 'JobRole', 'MaritalStatus', 'MonthlyIncome',\n",
              "       'NumCompaniesWorked', 'Over18', 'PercentSalaryHike', 'StandardHours',\n",
              "       'StockOptionLevel', 'TotalWorkingYears', 'TrainingTimesLastYear',\n",
              "       'YearsAtCompany', 'YearsSinceLastPromotion', 'YearsWithCurrManager',\n",
              "       'Attrition_Class'],\n",
              "      dtype='object')"
            ]
          },
          "metadata": {},
          "execution_count": 33
        }
      ],
      "source": [
        "df_general.columns"
      ]
    },
    {
      "cell_type": "code",
      "source": [
        "query = 'SELECT * FROM EmployeeTiers'\n",
        "employee_tiers = pd.read_sql(query, conn)"
      ],
      "metadata": {
        "id": "sh-581go1Jbg"
      },
      "execution_count": 34,
      "outputs": []
    },
    {
      "cell_type": "code",
      "source": [
        "employee_tiers.columns"
      ],
      "metadata": {
        "id": "nQryjJYu1YB4",
        "outputId": "52af7a4b-c296-47c3-90ee-474d936a8043",
        "colab": {
          "base_uri": "https://localhost:8080/"
        }
      },
      "execution_count": 35,
      "outputs": [
        {
          "output_type": "execute_result",
          "data": {
            "text/plain": [
              "Index(['EmployeeID', 'Age_tier', 'distancehome_tier', 'YearsAtCompany_tier',\n",
              "       'TotalWorkingYear_tier', 'MonthlyIncome_tier'],\n",
              "      dtype='object')"
            ]
          },
          "metadata": {},
          "execution_count": 35
        }
      ]
    },
    {
      "cell_type": "code",
      "source": [
        "query = 'SELECT * FROM employee_survey'\n",
        "employee_survey = pd.read_sql(query, conn)"
      ],
      "metadata": {
        "id": "EnLIDH_31hbG"
      },
      "execution_count": 36,
      "outputs": []
    },
    {
      "cell_type": "code",
      "source": [
        "employee_survey.columns"
      ],
      "metadata": {
        "id": "kjrL8SUF1-II",
        "outputId": "b24d55b5-58fe-4d7a-e8b8-c18594d00292",
        "colab": {
          "base_uri": "https://localhost:8080/"
        }
      },
      "execution_count": 37,
      "outputs": [
        {
          "output_type": "execute_result",
          "data": {
            "text/plain": [
              "Index(['EmployeeID', 'EnvironmentSatisfaction', 'JobSatisfaction',\n",
              "       'WorkLifeBalance', 'total_em'],\n",
              "      dtype='object')"
            ]
          },
          "metadata": {},
          "execution_count": 37
        }
      ]
    },
    {
      "cell_type": "code",
      "source": [
        "query = 'SELECT * FROM manager_survey'\n",
        "manager_survey = pd.read_sql(query, conn)"
      ],
      "metadata": {
        "id": "ExYIe_BT2CAH"
      },
      "execution_count": 38,
      "outputs": []
    },
    {
      "cell_type": "code",
      "source": [
        "manager_survey.columns"
      ],
      "metadata": {
        "id": "VAmwqnO42POP",
        "outputId": "7994ace7-1eb6-416d-cacf-0b9a6ee7eec9",
        "colab": {
          "base_uri": "https://localhost:8080/"
        }
      },
      "execution_count": 39,
      "outputs": [
        {
          "output_type": "execute_result",
          "data": {
            "text/plain": [
              "Index(['EmployeeID', 'JobInvolvement', 'PerformanceRating', 'total_mn'], dtype='object')"
            ]
          },
          "metadata": {},
          "execution_count": 39
        }
      ]
    },
    {
      "cell_type": "markdown",
      "metadata": {
        "id": "uo5-JZx7FP3Y"
      },
      "source": [
        "# Define Neural Network and Tensors"
      ]
    },
    {
      "cell_type": "code",
      "source": [
        "#First we load in the variables we want. For simplicity of the example, we'll do it based on the original assignments feature importances of all variables\n",
        "sql_query = '''SELECT e.EmployeeID, e.TotalWorkingYear_tier, e.YearsAtCompany_tier, s.EnvironmentSatisfaction, g.Attrition\n",
        "               FROM EmployeeTiers e\n",
        "               JOIN employee_survey s ON e.EmployeeID = s.EmployeeID\n",
        "               JOIN general g ON e.EmployeeID = g.EmployeeID'''\n",
        "df = pd.read_sql_query(sql_query, conn)\n"
      ],
      "metadata": {
        "id": "TO6O9cJTHeVK"
      },
      "execution_count": 68,
      "outputs": []
    },
    {
      "cell_type": "code",
      "source": [
        "df.head(5)"
      ],
      "metadata": {
        "id": "rqtM9tgfJ124",
        "outputId": "99c1f382-dd12-4a58-e533-36388668b467",
        "colab": {
          "base_uri": "https://localhost:8080/",
          "height": 206
        }
      },
      "execution_count": 69,
      "outputs": [
        {
          "output_type": "execute_result",
          "data": {
            "text/plain": [
              "   EmployeeID  TotalWorkingYear_tier  YearsAtCompany_tier  \\\n",
              "0           1                      1                    1   \n",
              "1           2                      3                    3   \n",
              "2           3                      3                    3   \n",
              "3           4                      5                    4   \n",
              "4           5                      4                    3   \n",
              "\n",
              "   EnvironmentSatisfaction Attrition  \n",
              "0                      3.0        No  \n",
              "1                      3.0       Yes  \n",
              "2                      2.0        No  \n",
              "3                      4.0        No  \n",
              "4                      4.0        No  "
            ],
            "text/html": [
              "\n",
              "  <div id=\"df-fe8d2863-93cb-4092-99bc-2f5eab039ab5\">\n",
              "    <div class=\"colab-df-container\">\n",
              "      <div>\n",
              "<style scoped>\n",
              "    .dataframe tbody tr th:only-of-type {\n",
              "        vertical-align: middle;\n",
              "    }\n",
              "\n",
              "    .dataframe tbody tr th {\n",
              "        vertical-align: top;\n",
              "    }\n",
              "\n",
              "    .dataframe thead th {\n",
              "        text-align: right;\n",
              "    }\n",
              "</style>\n",
              "<table border=\"1\" class=\"dataframe\">\n",
              "  <thead>\n",
              "    <tr style=\"text-align: right;\">\n",
              "      <th></th>\n",
              "      <th>EmployeeID</th>\n",
              "      <th>TotalWorkingYear_tier</th>\n",
              "      <th>YearsAtCompany_tier</th>\n",
              "      <th>EnvironmentSatisfaction</th>\n",
              "      <th>Attrition</th>\n",
              "    </tr>\n",
              "  </thead>\n",
              "  <tbody>\n",
              "    <tr>\n",
              "      <th>0</th>\n",
              "      <td>1</td>\n",
              "      <td>1</td>\n",
              "      <td>1</td>\n",
              "      <td>3.0</td>\n",
              "      <td>No</td>\n",
              "    </tr>\n",
              "    <tr>\n",
              "      <th>1</th>\n",
              "      <td>2</td>\n",
              "      <td>3</td>\n",
              "      <td>3</td>\n",
              "      <td>3.0</td>\n",
              "      <td>Yes</td>\n",
              "    </tr>\n",
              "    <tr>\n",
              "      <th>2</th>\n",
              "      <td>3</td>\n",
              "      <td>3</td>\n",
              "      <td>3</td>\n",
              "      <td>2.0</td>\n",
              "      <td>No</td>\n",
              "    </tr>\n",
              "    <tr>\n",
              "      <th>3</th>\n",
              "      <td>4</td>\n",
              "      <td>5</td>\n",
              "      <td>4</td>\n",
              "      <td>4.0</td>\n",
              "      <td>No</td>\n",
              "    </tr>\n",
              "    <tr>\n",
              "      <th>4</th>\n",
              "      <td>5</td>\n",
              "      <td>4</td>\n",
              "      <td>3</td>\n",
              "      <td>4.0</td>\n",
              "      <td>No</td>\n",
              "    </tr>\n",
              "  </tbody>\n",
              "</table>\n",
              "</div>\n",
              "      <button class=\"colab-df-convert\" onclick=\"convertToInteractive('df-fe8d2863-93cb-4092-99bc-2f5eab039ab5')\"\n",
              "              title=\"Convert this dataframe to an interactive table.\"\n",
              "              style=\"display:none;\">\n",
              "        \n",
              "  <svg xmlns=\"http://www.w3.org/2000/svg\" height=\"24px\"viewBox=\"0 0 24 24\"\n",
              "       width=\"24px\">\n",
              "    <path d=\"M0 0h24v24H0V0z\" fill=\"none\"/>\n",
              "    <path d=\"M18.56 5.44l.94 2.06.94-2.06 2.06-.94-2.06-.94-.94-2.06-.94 2.06-2.06.94zm-11 1L8.5 8.5l.94-2.06 2.06-.94-2.06-.94L8.5 2.5l-.94 2.06-2.06.94zm10 10l.94 2.06.94-2.06 2.06-.94-2.06-.94-.94-2.06-.94 2.06-2.06.94z\"/><path d=\"M17.41 7.96l-1.37-1.37c-.4-.4-.92-.59-1.43-.59-.52 0-1.04.2-1.43.59L10.3 9.45l-7.72 7.72c-.78.78-.78 2.05 0 2.83L4 21.41c.39.39.9.59 1.41.59.51 0 1.02-.2 1.41-.59l7.78-7.78 2.81-2.81c.8-.78.8-2.07 0-2.86zM5.41 20L4 18.59l7.72-7.72 1.47 1.35L5.41 20z\"/>\n",
              "  </svg>\n",
              "      </button>\n",
              "      \n",
              "  <style>\n",
              "    .colab-df-container {\n",
              "      display:flex;\n",
              "      flex-wrap:wrap;\n",
              "      gap: 12px;\n",
              "    }\n",
              "\n",
              "    .colab-df-convert {\n",
              "      background-color: #E8F0FE;\n",
              "      border: none;\n",
              "      border-radius: 50%;\n",
              "      cursor: pointer;\n",
              "      display: none;\n",
              "      fill: #1967D2;\n",
              "      height: 32px;\n",
              "      padding: 0 0 0 0;\n",
              "      width: 32px;\n",
              "    }\n",
              "\n",
              "    .colab-df-convert:hover {\n",
              "      background-color: #E2EBFA;\n",
              "      box-shadow: 0px 1px 2px rgba(60, 64, 67, 0.3), 0px 1px 3px 1px rgba(60, 64, 67, 0.15);\n",
              "      fill: #174EA6;\n",
              "    }\n",
              "\n",
              "    [theme=dark] .colab-df-convert {\n",
              "      background-color: #3B4455;\n",
              "      fill: #D2E3FC;\n",
              "    }\n",
              "\n",
              "    [theme=dark] .colab-df-convert:hover {\n",
              "      background-color: #434B5C;\n",
              "      box-shadow: 0px 1px 3px 1px rgba(0, 0, 0, 0.15);\n",
              "      filter: drop-shadow(0px 1px 2px rgba(0, 0, 0, 0.3));\n",
              "      fill: #FFFFFF;\n",
              "    }\n",
              "  </style>\n",
              "\n",
              "      <script>\n",
              "        const buttonEl =\n",
              "          document.querySelector('#df-fe8d2863-93cb-4092-99bc-2f5eab039ab5 button.colab-df-convert');\n",
              "        buttonEl.style.display =\n",
              "          google.colab.kernel.accessAllowed ? 'block' : 'none';\n",
              "\n",
              "        async function convertToInteractive(key) {\n",
              "          const element = document.querySelector('#df-fe8d2863-93cb-4092-99bc-2f5eab039ab5');\n",
              "          const dataTable =\n",
              "            await google.colab.kernel.invokeFunction('convertToInteractive',\n",
              "                                                     [key], {});\n",
              "          if (!dataTable) return;\n",
              "\n",
              "          const docLinkHtml = 'Like what you see? Visit the ' +\n",
              "            '<a target=\"_blank\" href=https://colab.research.google.com/notebooks/data_table.ipynb>data table notebook</a>'\n",
              "            + ' to learn more about interactive tables.';\n",
              "          element.innerHTML = '';\n",
              "          dataTable['output_type'] = 'display_data';\n",
              "          await google.colab.output.renderOutput(dataTable, element);\n",
              "          const docLink = document.createElement('div');\n",
              "          docLink.innerHTML = docLinkHtml;\n",
              "          element.appendChild(docLink);\n",
              "        }\n",
              "      </script>\n",
              "    </div>\n",
              "  </div>\n",
              "  "
            ]
          },
          "metadata": {},
          "execution_count": 69
        }
      ]
    },
    {
      "cell_type": "code",
      "source": [
        "df.info()"
      ],
      "metadata": {
        "id": "MX4ncW0OKRB6",
        "outputId": "e2607edc-fa24-4973-eda1-c6ea72f0520e",
        "colab": {
          "base_uri": "https://localhost:8080/"
        }
      },
      "execution_count": 72,
      "outputs": [
        {
          "output_type": "stream",
          "name": "stdout",
          "text": [
            "<class 'pandas.core.frame.DataFrame'>\n",
            "RangeIndex: 4382 entries, 0 to 4381\n",
            "Data columns (total 5 columns):\n",
            " #   Column                   Non-Null Count  Dtype  \n",
            "---  ------                   --------------  -----  \n",
            " 0   EmployeeID               4382 non-null   int64  \n",
            " 1   TotalWorkingYear_tier    4382 non-null   int64  \n",
            " 2   YearsAtCompany_tier      4382 non-null   int64  \n",
            " 3   EnvironmentSatisfaction  4382 non-null   float64\n",
            " 4   Attrition                4382 non-null   object \n",
            "dtypes: float64(1), int64(3), object(1)\n",
            "memory usage: 171.3+ KB\n"
          ]
        }
      ]
    },
    {
      "cell_type": "code",
      "source": [
        "leAttrition = LabelEncoder()"
      ],
      "metadata": {
        "id": "RTS3IQdzKVbk"
      },
      "execution_count": 74,
      "outputs": []
    },
    {
      "cell_type": "code",
      "source": [
        "df['Attrition_LE'] = leAttrition.fit_transform(df['Attrition'])"
      ],
      "metadata": {
        "id": "eRxqGhooKZIS"
      },
      "execution_count": 77,
      "outputs": []
    },
    {
      "cell_type": "code",
      "source": [
        "df.head(3)"
      ],
      "metadata": {
        "id": "d0TPOPusKvs7",
        "outputId": "b4c986af-7e0c-40c7-b077-b8e75deeadae",
        "colab": {
          "base_uri": "https://localhost:8080/",
          "height": 144
        }
      },
      "execution_count": 79,
      "outputs": [
        {
          "output_type": "execute_result",
          "data": {
            "text/plain": [
              "   EmployeeID  TotalWorkingYear_tier  YearsAtCompany_tier  \\\n",
              "0           1                      1                    1   \n",
              "1           2                      3                    3   \n",
              "2           3                      3                    3   \n",
              "\n",
              "   EnvironmentSatisfaction Attrition  Attrition_LE  \n",
              "0                      3.0        No             0  \n",
              "1                      3.0       Yes             1  \n",
              "2                      2.0        No             0  "
            ],
            "text/html": [
              "\n",
              "  <div id=\"df-d9d9f96c-1cbb-4bda-be55-ad4fca1ae6ee\">\n",
              "    <div class=\"colab-df-container\">\n",
              "      <div>\n",
              "<style scoped>\n",
              "    .dataframe tbody tr th:only-of-type {\n",
              "        vertical-align: middle;\n",
              "    }\n",
              "\n",
              "    .dataframe tbody tr th {\n",
              "        vertical-align: top;\n",
              "    }\n",
              "\n",
              "    .dataframe thead th {\n",
              "        text-align: right;\n",
              "    }\n",
              "</style>\n",
              "<table border=\"1\" class=\"dataframe\">\n",
              "  <thead>\n",
              "    <tr style=\"text-align: right;\">\n",
              "      <th></th>\n",
              "      <th>EmployeeID</th>\n",
              "      <th>TotalWorkingYear_tier</th>\n",
              "      <th>YearsAtCompany_tier</th>\n",
              "      <th>EnvironmentSatisfaction</th>\n",
              "      <th>Attrition</th>\n",
              "      <th>Attrition_LE</th>\n",
              "    </tr>\n",
              "  </thead>\n",
              "  <tbody>\n",
              "    <tr>\n",
              "      <th>0</th>\n",
              "      <td>1</td>\n",
              "      <td>1</td>\n",
              "      <td>1</td>\n",
              "      <td>3.0</td>\n",
              "      <td>No</td>\n",
              "      <td>0</td>\n",
              "    </tr>\n",
              "    <tr>\n",
              "      <th>1</th>\n",
              "      <td>2</td>\n",
              "      <td>3</td>\n",
              "      <td>3</td>\n",
              "      <td>3.0</td>\n",
              "      <td>Yes</td>\n",
              "      <td>1</td>\n",
              "    </tr>\n",
              "    <tr>\n",
              "      <th>2</th>\n",
              "      <td>3</td>\n",
              "      <td>3</td>\n",
              "      <td>3</td>\n",
              "      <td>2.0</td>\n",
              "      <td>No</td>\n",
              "      <td>0</td>\n",
              "    </tr>\n",
              "  </tbody>\n",
              "</table>\n",
              "</div>\n",
              "      <button class=\"colab-df-convert\" onclick=\"convertToInteractive('df-d9d9f96c-1cbb-4bda-be55-ad4fca1ae6ee')\"\n",
              "              title=\"Convert this dataframe to an interactive table.\"\n",
              "              style=\"display:none;\">\n",
              "        \n",
              "  <svg xmlns=\"http://www.w3.org/2000/svg\" height=\"24px\"viewBox=\"0 0 24 24\"\n",
              "       width=\"24px\">\n",
              "    <path d=\"M0 0h24v24H0V0z\" fill=\"none\"/>\n",
              "    <path d=\"M18.56 5.44l.94 2.06.94-2.06 2.06-.94-2.06-.94-.94-2.06-.94 2.06-2.06.94zm-11 1L8.5 8.5l.94-2.06 2.06-.94-2.06-.94L8.5 2.5l-.94 2.06-2.06.94zm10 10l.94 2.06.94-2.06 2.06-.94-2.06-.94-.94-2.06-.94 2.06-2.06.94z\"/><path d=\"M17.41 7.96l-1.37-1.37c-.4-.4-.92-.59-1.43-.59-.52 0-1.04.2-1.43.59L10.3 9.45l-7.72 7.72c-.78.78-.78 2.05 0 2.83L4 21.41c.39.39.9.59 1.41.59.51 0 1.02-.2 1.41-.59l7.78-7.78 2.81-2.81c.8-.78.8-2.07 0-2.86zM5.41 20L4 18.59l7.72-7.72 1.47 1.35L5.41 20z\"/>\n",
              "  </svg>\n",
              "      </button>\n",
              "      \n",
              "  <style>\n",
              "    .colab-df-container {\n",
              "      display:flex;\n",
              "      flex-wrap:wrap;\n",
              "      gap: 12px;\n",
              "    }\n",
              "\n",
              "    .colab-df-convert {\n",
              "      background-color: #E8F0FE;\n",
              "      border: none;\n",
              "      border-radius: 50%;\n",
              "      cursor: pointer;\n",
              "      display: none;\n",
              "      fill: #1967D2;\n",
              "      height: 32px;\n",
              "      padding: 0 0 0 0;\n",
              "      width: 32px;\n",
              "    }\n",
              "\n",
              "    .colab-df-convert:hover {\n",
              "      background-color: #E2EBFA;\n",
              "      box-shadow: 0px 1px 2px rgba(60, 64, 67, 0.3), 0px 1px 3px 1px rgba(60, 64, 67, 0.15);\n",
              "      fill: #174EA6;\n",
              "    }\n",
              "\n",
              "    [theme=dark] .colab-df-convert {\n",
              "      background-color: #3B4455;\n",
              "      fill: #D2E3FC;\n",
              "    }\n",
              "\n",
              "    [theme=dark] .colab-df-convert:hover {\n",
              "      background-color: #434B5C;\n",
              "      box-shadow: 0px 1px 3px 1px rgba(0, 0, 0, 0.15);\n",
              "      filter: drop-shadow(0px 1px 2px rgba(0, 0, 0, 0.3));\n",
              "      fill: #FFFFFF;\n",
              "    }\n",
              "  </style>\n",
              "\n",
              "      <script>\n",
              "        const buttonEl =\n",
              "          document.querySelector('#df-d9d9f96c-1cbb-4bda-be55-ad4fca1ae6ee button.colab-df-convert');\n",
              "        buttonEl.style.display =\n",
              "          google.colab.kernel.accessAllowed ? 'block' : 'none';\n",
              "\n",
              "        async function convertToInteractive(key) {\n",
              "          const element = document.querySelector('#df-d9d9f96c-1cbb-4bda-be55-ad4fca1ae6ee');\n",
              "          const dataTable =\n",
              "            await google.colab.kernel.invokeFunction('convertToInteractive',\n",
              "                                                     [key], {});\n",
              "          if (!dataTable) return;\n",
              "\n",
              "          const docLinkHtml = 'Like what you see? Visit the ' +\n",
              "            '<a target=\"_blank\" href=https://colab.research.google.com/notebooks/data_table.ipynb>data table notebook</a>'\n",
              "            + ' to learn more about interactive tables.';\n",
              "          element.innerHTML = '';\n",
              "          dataTable['output_type'] = 'display_data';\n",
              "          await google.colab.output.renderOutput(dataTable, element);\n",
              "          const docLink = document.createElement('div');\n",
              "          docLink.innerHTML = docLinkHtml;\n",
              "          element.appendChild(docLink);\n",
              "        }\n",
              "      </script>\n",
              "    </div>\n",
              "  </div>\n",
              "  "
            ]
          },
          "metadata": {},
          "execution_count": 79
        }
      ]
    },
    {
      "cell_type": "code",
      "source": [
        "# create a MinMaxScaler object\n",
        "MMS = MinMaxScaler()\n",
        "\n",
        "# scale the dataframe, drop the 'Attrition' column, and convert the result to a dataframe\n",
        "df_scaled = pd.DataFrame(MMS.fit_transform(df.drop('Attrition', axis=1)), columns=df.drop('Attrition', axis=1).columns)"
      ],
      "metadata": {
        "id": "IkR5LlbVK2M8"
      },
      "execution_count": 84,
      "outputs": []
    },
    {
      "cell_type": "code",
      "source": [
        "df_scaled"
      ],
      "metadata": {
        "id": "a-JHm8QSL_M6",
        "outputId": "21fc4709-02fe-47a1-e387-2d783075edfa",
        "colab": {
          "base_uri": "https://localhost:8080/",
          "height": 424
        }
      },
      "execution_count": 85,
      "outputs": [
        {
          "output_type": "execute_result",
          "data": {
            "text/plain": [
              "      EmployeeID  TotalWorkingYear_tier  YearsAtCompany_tier  \\\n",
              "0       0.000000                   0.00                 0.00   \n",
              "1       0.000227                   0.50                 0.50   \n",
              "2       0.000454                   0.50                 0.50   \n",
              "3       0.000681                   1.00                 0.75   \n",
              "4       0.000907                   0.75                 0.50   \n",
              "...          ...                    ...                  ...   \n",
              "4377    0.999093                   0.50                 0.50   \n",
              "4378    0.999319                   0.75                 0.25   \n",
              "4379    0.999546                   0.75                 0.25   \n",
              "4380    0.999773                   0.50                 0.25   \n",
              "4381    1.000000                   0.75                 0.75   \n",
              "\n",
              "      EnvironmentSatisfaction  Attrition_LE  \n",
              "0                    0.666667           0.0  \n",
              "1                    0.666667           1.0  \n",
              "2                    0.333333           0.0  \n",
              "3                    1.000000           0.0  \n",
              "4                    1.000000           0.0  \n",
              "...                       ...           ...  \n",
              "4377                 0.666667           0.0  \n",
              "4378                 1.000000           0.0  \n",
              "4379                 1.000000           0.0  \n",
              "4380                 0.000000           0.0  \n",
              "4381                 1.000000           0.0  \n",
              "\n",
              "[4382 rows x 5 columns]"
            ],
            "text/html": [
              "\n",
              "  <div id=\"df-d4dc5621-6cb6-4b69-9a70-66e62c73228a\">\n",
              "    <div class=\"colab-df-container\">\n",
              "      <div>\n",
              "<style scoped>\n",
              "    .dataframe tbody tr th:only-of-type {\n",
              "        vertical-align: middle;\n",
              "    }\n",
              "\n",
              "    .dataframe tbody tr th {\n",
              "        vertical-align: top;\n",
              "    }\n",
              "\n",
              "    .dataframe thead th {\n",
              "        text-align: right;\n",
              "    }\n",
              "</style>\n",
              "<table border=\"1\" class=\"dataframe\">\n",
              "  <thead>\n",
              "    <tr style=\"text-align: right;\">\n",
              "      <th></th>\n",
              "      <th>EmployeeID</th>\n",
              "      <th>TotalWorkingYear_tier</th>\n",
              "      <th>YearsAtCompany_tier</th>\n",
              "      <th>EnvironmentSatisfaction</th>\n",
              "      <th>Attrition_LE</th>\n",
              "    </tr>\n",
              "  </thead>\n",
              "  <tbody>\n",
              "    <tr>\n",
              "      <th>0</th>\n",
              "      <td>0.000000</td>\n",
              "      <td>0.00</td>\n",
              "      <td>0.00</td>\n",
              "      <td>0.666667</td>\n",
              "      <td>0.0</td>\n",
              "    </tr>\n",
              "    <tr>\n",
              "      <th>1</th>\n",
              "      <td>0.000227</td>\n",
              "      <td>0.50</td>\n",
              "      <td>0.50</td>\n",
              "      <td>0.666667</td>\n",
              "      <td>1.0</td>\n",
              "    </tr>\n",
              "    <tr>\n",
              "      <th>2</th>\n",
              "      <td>0.000454</td>\n",
              "      <td>0.50</td>\n",
              "      <td>0.50</td>\n",
              "      <td>0.333333</td>\n",
              "      <td>0.0</td>\n",
              "    </tr>\n",
              "    <tr>\n",
              "      <th>3</th>\n",
              "      <td>0.000681</td>\n",
              "      <td>1.00</td>\n",
              "      <td>0.75</td>\n",
              "      <td>1.000000</td>\n",
              "      <td>0.0</td>\n",
              "    </tr>\n",
              "    <tr>\n",
              "      <th>4</th>\n",
              "      <td>0.000907</td>\n",
              "      <td>0.75</td>\n",
              "      <td>0.50</td>\n",
              "      <td>1.000000</td>\n",
              "      <td>0.0</td>\n",
              "    </tr>\n",
              "    <tr>\n",
              "      <th>...</th>\n",
              "      <td>...</td>\n",
              "      <td>...</td>\n",
              "      <td>...</td>\n",
              "      <td>...</td>\n",
              "      <td>...</td>\n",
              "    </tr>\n",
              "    <tr>\n",
              "      <th>4377</th>\n",
              "      <td>0.999093</td>\n",
              "      <td>0.50</td>\n",
              "      <td>0.50</td>\n",
              "      <td>0.666667</td>\n",
              "      <td>0.0</td>\n",
              "    </tr>\n",
              "    <tr>\n",
              "      <th>4378</th>\n",
              "      <td>0.999319</td>\n",
              "      <td>0.75</td>\n",
              "      <td>0.25</td>\n",
              "      <td>1.000000</td>\n",
              "      <td>0.0</td>\n",
              "    </tr>\n",
              "    <tr>\n",
              "      <th>4379</th>\n",
              "      <td>0.999546</td>\n",
              "      <td>0.75</td>\n",
              "      <td>0.25</td>\n",
              "      <td>1.000000</td>\n",
              "      <td>0.0</td>\n",
              "    </tr>\n",
              "    <tr>\n",
              "      <th>4380</th>\n",
              "      <td>0.999773</td>\n",
              "      <td>0.50</td>\n",
              "      <td>0.25</td>\n",
              "      <td>0.000000</td>\n",
              "      <td>0.0</td>\n",
              "    </tr>\n",
              "    <tr>\n",
              "      <th>4381</th>\n",
              "      <td>1.000000</td>\n",
              "      <td>0.75</td>\n",
              "      <td>0.75</td>\n",
              "      <td>1.000000</td>\n",
              "      <td>0.0</td>\n",
              "    </tr>\n",
              "  </tbody>\n",
              "</table>\n",
              "<p>4382 rows × 5 columns</p>\n",
              "</div>\n",
              "      <button class=\"colab-df-convert\" onclick=\"convertToInteractive('df-d4dc5621-6cb6-4b69-9a70-66e62c73228a')\"\n",
              "              title=\"Convert this dataframe to an interactive table.\"\n",
              "              style=\"display:none;\">\n",
              "        \n",
              "  <svg xmlns=\"http://www.w3.org/2000/svg\" height=\"24px\"viewBox=\"0 0 24 24\"\n",
              "       width=\"24px\">\n",
              "    <path d=\"M0 0h24v24H0V0z\" fill=\"none\"/>\n",
              "    <path d=\"M18.56 5.44l.94 2.06.94-2.06 2.06-.94-2.06-.94-.94-2.06-.94 2.06-2.06.94zm-11 1L8.5 8.5l.94-2.06 2.06-.94-2.06-.94L8.5 2.5l-.94 2.06-2.06.94zm10 10l.94 2.06.94-2.06 2.06-.94-2.06-.94-.94-2.06-.94 2.06-2.06.94z\"/><path d=\"M17.41 7.96l-1.37-1.37c-.4-.4-.92-.59-1.43-.59-.52 0-1.04.2-1.43.59L10.3 9.45l-7.72 7.72c-.78.78-.78 2.05 0 2.83L4 21.41c.39.39.9.59 1.41.59.51 0 1.02-.2 1.41-.59l7.78-7.78 2.81-2.81c.8-.78.8-2.07 0-2.86zM5.41 20L4 18.59l7.72-7.72 1.47 1.35L5.41 20z\"/>\n",
              "  </svg>\n",
              "      </button>\n",
              "      \n",
              "  <style>\n",
              "    .colab-df-container {\n",
              "      display:flex;\n",
              "      flex-wrap:wrap;\n",
              "      gap: 12px;\n",
              "    }\n",
              "\n",
              "    .colab-df-convert {\n",
              "      background-color: #E8F0FE;\n",
              "      border: none;\n",
              "      border-radius: 50%;\n",
              "      cursor: pointer;\n",
              "      display: none;\n",
              "      fill: #1967D2;\n",
              "      height: 32px;\n",
              "      padding: 0 0 0 0;\n",
              "      width: 32px;\n",
              "    }\n",
              "\n",
              "    .colab-df-convert:hover {\n",
              "      background-color: #E2EBFA;\n",
              "      box-shadow: 0px 1px 2px rgba(60, 64, 67, 0.3), 0px 1px 3px 1px rgba(60, 64, 67, 0.15);\n",
              "      fill: #174EA6;\n",
              "    }\n",
              "\n",
              "    [theme=dark] .colab-df-convert {\n",
              "      background-color: #3B4455;\n",
              "      fill: #D2E3FC;\n",
              "    }\n",
              "\n",
              "    [theme=dark] .colab-df-convert:hover {\n",
              "      background-color: #434B5C;\n",
              "      box-shadow: 0px 1px 3px 1px rgba(0, 0, 0, 0.15);\n",
              "      filter: drop-shadow(0px 1px 2px rgba(0, 0, 0, 0.3));\n",
              "      fill: #FFFFFF;\n",
              "    }\n",
              "  </style>\n",
              "\n",
              "      <script>\n",
              "        const buttonEl =\n",
              "          document.querySelector('#df-d4dc5621-6cb6-4b69-9a70-66e62c73228a button.colab-df-convert');\n",
              "        buttonEl.style.display =\n",
              "          google.colab.kernel.accessAllowed ? 'block' : 'none';\n",
              "\n",
              "        async function convertToInteractive(key) {\n",
              "          const element = document.querySelector('#df-d4dc5621-6cb6-4b69-9a70-66e62c73228a');\n",
              "          const dataTable =\n",
              "            await google.colab.kernel.invokeFunction('convertToInteractive',\n",
              "                                                     [key], {});\n",
              "          if (!dataTable) return;\n",
              "\n",
              "          const docLinkHtml = 'Like what you see? Visit the ' +\n",
              "            '<a target=\"_blank\" href=https://colab.research.google.com/notebooks/data_table.ipynb>data table notebook</a>'\n",
              "            + ' to learn more about interactive tables.';\n",
              "          element.innerHTML = '';\n",
              "          dataTable['output_type'] = 'display_data';\n",
              "          await google.colab.output.renderOutput(dataTable, element);\n",
              "          const docLink = document.createElement('div');\n",
              "          docLink.innerHTML = docLinkHtml;\n",
              "          element.appendChild(docLink);\n",
              "        }\n",
              "      </script>\n",
              "    </div>\n",
              "  </div>\n",
              "  "
            ]
          },
          "metadata": {},
          "execution_count": 85
        }
      ]
    },
    {
      "cell_type": "markdown",
      "metadata": {
        "id": "ZCCq5Hcok_9c"
      },
      "source": [
        "![image.png](attachment:image.png)"
      ]
    },
    {
      "cell_type": "code",
      "execution_count": 86,
      "metadata": {
        "id": "AJsS6rJ-Ido-"
      },
      "outputs": [],
      "source": [
        "#Define X_tensor and y_tensor\n",
        "X_tensor = torch.tensor(df_scaled[['TotalWorkingYear_tier','EnvironmentSatisfaction','YearsAtCompany_tier']].values.astype(np.float32))\n",
        "y_tensor = torch.tensor(df_scaled[['Attrition_LE']].values.astype(np.float32))"
      ]
    },
    {
      "cell_type": "code",
      "execution_count": 87,
      "metadata": {
        "colab": {
          "base_uri": "https://localhost:8080/"
        },
        "id": "9bEgVJfdU5KB",
        "outputId": "b912dd50-dc0d-45da-99be-6e476743c8f5"
      },
      "outputs": [
        {
          "output_type": "stream",
          "name": "stdout",
          "text": [
            "torch.Size([4382, 3])\n",
            "torch.Size([4382, 1])\n"
          ]
        }
      ],
      "source": [
        "print(X_tensor.size())\n",
        "print(y_tensor.size())"
      ]
    },
    {
      "cell_type": "markdown",
      "metadata": {
        "id": "PCmcAK6jpOlA"
      },
      "source": [
        "##Create a simple NN for the prediction task:"
      ]
    },
    {
      "cell_type": "code",
      "execution_count": 126,
      "metadata": {
        "id": "LaMKsPkjEeEk"
      },
      "outputs": [],
      "source": [
        "epochs1 = 10\n",
        "learning_rate1 = 0.0008\n",
        "loss_set1 = {}"
      ]
    },
    {
      "cell_type": "markdown",
      "metadata": {
        "id": "caNEWlVTf2pc"
      },
      "source": [
        "We should use CrossEntropyLoss instead of MSE, but for some reason the model will not work, as it doesn't expect CrossEntropyLoss as argument 0, but instead wants a tensor. This is something to come back to later, as we get a better understanding of how the code works."
      ]
    },
    {
      "cell_type": "code",
      "source": [
        "# Define the model\n",
        "model_net1 = torch.nn.Sequential(torch.nn.Linear(3,2),\n",
        "                                 torch.nn.ReLU(),\n",
        "                                 torch.nn.Linear(2,1),\n",
        "                                 torch.nn.Sigmoid())\n",
        "\n",
        "# Define the loss function and optimizer\n",
        "loss_mse1 = torch.nn.MSELoss()\n",
        "optimizer1 = torch.optim.Adam(model_net1.parameters(), lr=0.01, weight_decay=0.001)"
      ],
      "metadata": {
        "id": "oF6ItPJXDa-S"
      },
      "execution_count": 127,
      "outputs": []
    },
    {
      "cell_type": "code",
      "source": [
        "device = torch.device(\"cuda\" if torch.cuda.is_available() else \"cpu\")  # check if GPU is available\n",
        "\n",
        "model_net1.to(device)  # move model to GPU\n",
        "X_tensor = X_tensor.to(device)  # move data to GPU\n",
        "y_tensor = y_tensor.to(device)"
      ],
      "metadata": {
        "id": "n1dJtNXNDvGi"
      },
      "execution_count": 128,
      "outputs": []
    },
    {
      "cell_type": "code",
      "source": [
        "import tqdm"
      ],
      "metadata": {
        "id": "PSisthxMEy8a"
      },
      "execution_count": 91,
      "outputs": []
    },
    {
      "cell_type": "code",
      "source": [
        "# Create an empty list to store the losses for each epoch\n",
        "loss_set1 = []\n",
        "\n",
        "# Train the model\n",
        "for i in tqdm_notebook(range(epochs1), total=epochs1, unit=\"epoch\"):\n",
        "    lost_set_epoch = {}\n",
        "    j = 0\n",
        "    for x, y_t in zip(X_tensor, y_tensor):\n",
        "        output = model_net1.forward(x.float())\n",
        "        # FeedForward Evaluation\n",
        "        loss = loss_mse1(output, y_t.float())\n",
        "        optimizer1.zero_grad()\n",
        "\n",
        "        # Backward / Gradient Calculation\n",
        "        loss.backward()\n",
        "\n",
        "        # Back Propagation\n",
        "        optimizer1.step()\n",
        "\n",
        "        # Display loss\n",
        "        lost_set_epoch[j] = loss\n",
        "        j = j + 1\n",
        "\n",
        "    # Calculate average loss for the epoch\n",
        "    epoch_loss = torch.mean(torch.stack(list(lost_set_epoch.values()))).cpu().detach().numpy()\n",
        "\n",
        "\n",
        "    # Append epoch loss to the list\n",
        "    loss_set1.append(epoch_loss)\n",
        "\n",
        "    # Print the loss every 10 epochs\n",
        "    if (i+1) % 1 == 0:\n",
        "        print(f\"Epoch {i+1}, Loss: {epoch_loss}\")\n",
        "\n",
        "    # Early stopping\n",
        "    if i > 100 and epoch_loss > max(loss_set1[-100:]):\n",
        "        print(f\"Stopping early at epoch {i+1}\")\n",
        "        break"
      ],
      "metadata": {
        "id": "RquzISKEC7ta",
        "outputId": "d9a67678-51e5-4c32-b2fd-70a6563933c6",
        "colab": {
          "base_uri": "https://localhost:8080/",
          "height": 275,
          "referenced_widgets": [
            "5b887375e08d4092bcc8a334d89056e7",
            "1bb8f3e771664c7ab9f92b8ece0edf35",
            "242f25a8337b46c6b0cbb1aeb540e0bc",
            "9379f94160d24867976cf70456215be9",
            "f199749773c441bdba4ad9189e0610c3",
            "eedc706cadf64e8c8f7c5cdd41beb3e4",
            "f693fc123e524d16a3c1dedbbd60af88",
            "131f58c4dc2f4344a69247c02aefddf9",
            "f70d5db7ff27463bb7cee5e1657a604d",
            "284aa0a1da0241598e1ff6d2a3cf90e7",
            "f579115967274b79a1708c112b2058e9"
          ]
        }
      },
      "execution_count": 129,
      "outputs": [
        {
          "output_type": "stream",
          "name": "stderr",
          "text": [
            "<ipython-input-129-7e2505c0638e>:5: TqdmDeprecationWarning: This function will be removed in tqdm==5.0.0\n",
            "Please use `tqdm.notebook.tqdm` instead of `tqdm.tqdm_notebook`\n",
            "  for i in tqdm_notebook(range(epochs1), total=epochs1, unit=\"epoch\"):\n"
          ]
        },
        {
          "output_type": "display_data",
          "data": {
            "text/plain": [
              "  0%|          | 0/10 [00:00<?, ?epoch/s]"
            ],
            "application/vnd.jupyter.widget-view+json": {
              "version_major": 2,
              "version_minor": 0,
              "model_id": "5b887375e08d4092bcc8a334d89056e7"
            }
          },
          "metadata": {}
        },
        {
          "output_type": "stream",
          "name": "stdout",
          "text": [
            "Epoch 1, Loss: 0.12784600257873535\n",
            "Epoch 2, Loss: 0.12593010067939758\n",
            "Epoch 3, Loss: 0.12570728361606598\n",
            "Epoch 4, Loss: 0.1256495714187622\n",
            "Epoch 5, Loss: 0.12565462291240692\n",
            "Epoch 6, Loss: 0.12563778460025787\n",
            "Epoch 7, Loss: 0.12565305829048157\n",
            "Epoch 8, Loss: 0.1256452351808548\n",
            "Epoch 9, Loss: 0.12564314901828766\n",
            "Epoch 10, Loss: 0.12565745413303375\n"
          ]
        }
      ]
    },
    {
      "cell_type": "code",
      "source": [
        "torch.save(model_net1.state_dict(), 'model.pth')"
      ],
      "metadata": {
        "id": "Ln5-v23wUuVh"
      },
      "execution_count": 130,
      "outputs": []
    },
    {
      "cell_type": "markdown",
      "source": [
        "# Stuff from DL assignment"
      ],
      "metadata": {
        "id": "gn7NqDVtU22o"
      }
    },
    {
      "cell_type": "code",
      "execution_count": null,
      "metadata": {
        "id": "SbrBGCbqVTwd"
      },
      "outputs": [],
      "source": [
        "model_net1 = torch.nn.Sequential(torch.nn.Linear(3,2),\n",
        "                                 torch.nn.ReLU(),\n",
        "                                 torch.nn.Linear(2,1),\n",
        "                                 torch.nn.Sigmoid());\n",
        "loss_mse1 = torch.nn.MSELoss()\n",
        "optimizer1 = torch.optim.SGD(model_net1.parameters(),lr=learning_rate1) # SGD algorithm for optimization \n",
        "\n",
        "for i in tqdm_notebook(range(epochs1), total=epochs1, unit=\"epoch\"):\n",
        "      lost_set_epoch = {}\n",
        "      j = 0\n",
        "      for x, y_t in zip(X_tensor, y_tensor):\n",
        "          output = model_net1.forward(x.float())\n",
        "          # 2. FeedForward Evaluation\n",
        "          loss = loss_mse1(output, y_t.float())\n",
        "          optimizer1.zero_grad()\n",
        "\n",
        "          # 3. Backward / Gradient Calculation\n",
        "          loss.backward()\n",
        "          # 4. Back Propagation\n",
        "          optimizer1.step()\n",
        "          #display_loss:\n",
        "          lost_set_epoch[j] = loss\n",
        "          j = j + 1\n",
        "      \n",
        "      loss_set1[i] = torch.mean(torch.stack(list(lost_set_epoch.values()))).detach().numpy()\n",
        "      if (i % 1)==0:\n",
        "         print (f\"Loss: {loss_set1[i]}\")"
      ]
    },
    {
      "cell_type": "code",
      "execution_count": 58,
      "metadata": {
        "colab": {
          "base_uri": "https://localhost:8080/",
          "height": 217
        },
        "id": "MqAErFmnd4D8",
        "outputId": "7fbb9ec8-8fc0-4453-b731-df1142fd2985"
      },
      "outputs": [
        {
          "output_type": "error",
          "ename": "AttributeError",
          "evalue": "ignored",
          "traceback": [
            "\u001b[0;31m---------------------------------------------------------------------------\u001b[0m",
            "\u001b[0;31mAttributeError\u001b[0m                            Traceback (most recent call last)",
            "\u001b[0;32m<ipython-input-58-c8e21d9b7a8e>\u001b[0m in \u001b[0;36m<module>\u001b[0;34m\u001b[0m\n\u001b[0;32m----> 1\u001b[0;31m \u001b[0mplt\u001b[0m\u001b[0;34m.\u001b[0m\u001b[0mplot\u001b[0m\u001b[0;34m(\u001b[0m\u001b[0mnp\u001b[0m\u001b[0;34m.\u001b[0m\u001b[0marray\u001b[0m\u001b[0;34m(\u001b[0m\u001b[0mlist\u001b[0m\u001b[0;34m(\u001b[0m\u001b[0mloss_set1\u001b[0m\u001b[0;34m.\u001b[0m\u001b[0mvalues\u001b[0m\u001b[0;34m(\u001b[0m\u001b[0;34m)\u001b[0m\u001b[0;34m)\u001b[0m\u001b[0;34m)\u001b[0m\u001b[0;34m.\u001b[0m\u001b[0mastype\u001b[0m\u001b[0;34m(\u001b[0m\u001b[0mfloat\u001b[0m\u001b[0;34m)\u001b[0m\u001b[0;34m)\u001b[0m\u001b[0;34m\u001b[0m\u001b[0;34m\u001b[0m\u001b[0m\n\u001b[0m\u001b[1;32m      2\u001b[0m \u001b[0mplt\u001b[0m\u001b[0;34m.\u001b[0m\u001b[0mxlabel\u001b[0m\u001b[0;34m(\u001b[0m\u001b[0;34m'Epochs'\u001b[0m\u001b[0;34m)\u001b[0m\u001b[0;34m\u001b[0m\u001b[0;34m\u001b[0m\u001b[0m\n\u001b[1;32m      3\u001b[0m \u001b[0mplt\u001b[0m\u001b[0;34m.\u001b[0m\u001b[0mylabel\u001b[0m\u001b[0;34m(\u001b[0m\u001b[0;34m'Mean Squared Error'\u001b[0m\u001b[0;34m)\u001b[0m\u001b[0;34m\u001b[0m\u001b[0;34m\u001b[0m\u001b[0m\n\u001b[1;32m      4\u001b[0m \u001b[0mplt\u001b[0m\u001b[0;34m.\u001b[0m\u001b[0mshow\u001b[0m\u001b[0;34m(\u001b[0m\u001b[0;34m)\u001b[0m\u001b[0;34m\u001b[0m\u001b[0;34m\u001b[0m\u001b[0m\n",
            "\u001b[0;31mAttributeError\u001b[0m: 'list' object has no attribute 'values'"
          ]
        }
      ],
      "source": [
        "plt.plot(np.array(list(loss_set1.values())).astype(float))\n",
        "plt.xlabel('Epochs')\n",
        "plt.ylabel('Mean Squared Error')\n",
        "plt.show()"
      ]
    },
    {
      "cell_type": "markdown",
      "metadata": {
        "id": "n0_A6dpPe21D"
      },
      "source": [
        "Not sure what is going on here. The results seems to change each time the notebook is being run. Sometimes it make slight improvements, and other times it does the exact opposite, and MSE increases along with the epochs."
      ]
    },
    {
      "cell_type": "markdown",
      "metadata": {
        "id": "4f8IQMdYpT26"
      },
      "source": [
        "##Second Variation"
      ]
    },
    {
      "cell_type": "markdown",
      "metadata": {
        "id": "LSmOEWyKVveI"
      },
      "source": [
        "Next we will try to adjust some of the hyperparameters of the model, and  see if we can decrease MSE further. As the NN doesn't seem to adjust after the first epoch, we will initially keep this parameter at the current 10, and instead try to adjust the other parameters."
      ]
    },
    {
      "cell_type": "code",
      "execution_count": null,
      "metadata": {
        "id": "-2_3iywqWHlK"
      },
      "outputs": [],
      "source": [
        "epochs2 = 10 # Number of epochs remain 10 for now\n",
        "learning_rate2 = 0.005 # We change the learning rate from 0.001 to 0.005 and see what happens\n",
        "loss_set2 = {}"
      ]
    },
    {
      "cell_type": "code",
      "execution_count": null,
      "metadata": {
        "colab": {
          "base_uri": "https://localhost:8080/",
          "height": 281,
          "referenced_widgets": [
            "2d18644dd1a4470da71cc6e296a4de60",
            "3fcfdb7baebe49c2aa2bcd4bfdc87ae5",
            "44ae266a47014770b154f24f098e054a",
            "5d2ac821eabd477bb8ee919b53f43592",
            "efa0b317913e4a7a941234b48242094b",
            "1d7929b89c9e42299404edbc7b64f6a9",
            "4bcd4f343ae3477c870f79a25bede46d",
            "bc3e524dd0ee40c19921c1fee058966a",
            "b79b2a3524df4ca9a3056c03dffff18d",
            "6caced4c308540d982be2b5c1a7f7be2",
            "fabf0241f0f948dba811b1d5d8e9c55e"
          ]
        },
        "id": "63ipy1SzWEdV",
        "outputId": "2afb5177-a58d-4dc8-e51a-3d1667fd8a13"
      },
      "outputs": [
        {
          "name": "stderr",
          "output_type": "stream",
          "text": [
            "<ipython-input-95-cf8d45ffe148>:10: TqdmDeprecationWarning: This function will be removed in tqdm==5.0.0\n",
            "Please use `tqdm.notebook.tqdm` instead of `tqdm.tqdm_notebook`\n",
            "  for i in tqdm_notebook(range(epochs2), total=epochs2, unit=\"epoch\"):\n"
          ]
        },
        {
          "data": {
            "application/vnd.jupyter.widget-view+json": {
              "model_id": "2d18644dd1a4470da71cc6e296a4de60",
              "version_major": 2,
              "version_minor": 0
            },
            "text/plain": [
              "  0%|          | 0/10 [00:00<?, ?epoch/s]"
            ]
          },
          "metadata": {},
          "output_type": "display_data"
        },
        {
          "name": "stdout",
          "output_type": "stream",
          "text": [
            "Loss: 0.13660264015197754\n",
            "Loss: 0.13546624779701233\n",
            "Loss: 0.1354607194662094\n",
            "Loss: 0.13545508682727814\n",
            "Loss: 0.1354493796825409\n",
            "Loss: 0.13544362783432007\n",
            "Loss: 0.13543781638145447\n",
            "Loss: 0.13543196022510529\n",
            "Loss: 0.1354260891675949\n",
            "Loss: 0.13542018830776215\n"
          ]
        }
      ],
      "source": [
        "model_net2 = torch.nn.Sequential(torch.nn.Linear(3,2),\n",
        "                                 torch.nn.ReLU(),\n",
        "                                 torch.nn.Linear(2,3), # We add a third layer inbetween the initital two. This layer will contain 2 neurons, and give 3 outputs for the final layer.\n",
        "                                 torch.nn.Sigmoid(),\n",
        "                                 torch.nn.Linear(3,1),\n",
        "                                 torch.nn.Sigmoid());\n",
        "loss_mse2 = torch.nn.MSELoss()\n",
        "optimizer2 = torch.optim.RMSprop(model_net2.parameters(),lr=learning_rate2)\n",
        "\n",
        "for i in tqdm_notebook(range(epochs2), total=epochs2, unit=\"epoch\"):\n",
        "      lost_set_epoch = {}\n",
        "      j = 0\n",
        "      for x, y_t in zip(X_tensor, y_tensor):\n",
        "          output = model_net2.forward(x.float())\n",
        "          # 2. FeedForward Evaluation\n",
        "          loss = loss_mse2(output, y_t.float())\n",
        "          optimizer2.zero_grad()\n",
        "\n",
        "          # 3. Backward / Gradient Calculation\n",
        "          loss.backward()\n",
        "          # 4. Back Propagation\n",
        "          optimizer2.step()\n",
        "          #display_loss:\n",
        "          lost_set_epoch[j] = loss\n",
        "          j = j + 1\n",
        "      \n",
        "      loss_set2[i] = torch.mean(torch.stack(list(lost_set_epoch.values()))).detach().numpy()\n",
        "      if (i % 1)==0:\n",
        "         print (f\"Loss: {loss_set2[i]}\")"
      ]
    },
    {
      "cell_type": "code",
      "execution_count": null,
      "metadata": {
        "colab": {
          "base_uri": "https://localhost:8080/",
          "height": 279
        },
        "id": "Hj16s3hqX4Ei",
        "outputId": "2f741025-a773-4c98-adf4-8dc3c24ced40"
      },
      "outputs": [
        {
          "data": {
            "image/png": "[encoded data removed]",
            "text/plain": [
              "<Figure size 432x288 with 1 Axes>"
            ]
          },
          "metadata": {
            "needs_background": "light"
          },
          "output_type": "display_data"
        }
      ],
      "source": [
        "plt.plot(np.array(list(loss_set2.values())).astype(float))\n",
        "plt.xlabel('Epochs')\n",
        "plt.ylabel('Mean Squared Error')\n",
        "plt.show()"
      ]
    },
    {
      "cell_type": "markdown",
      "metadata": {
        "id": "WwMQDyFJpENB"
      },
      "source": [
        "##Third variation"
      ]
    },
    {
      "cell_type": "code",
      "execution_count": null,
      "metadata": {
        "id": "_lqZIONQo1Dg"
      },
      "outputs": [],
      "source": [
        "epochs3 = 10 # Number of epochs remain 10 for now\n",
        "learning_rate3 = 0.003 # We change the learning rate from 0.001 to 0.003 and see what happens\n",
        "loss_set3 = {}"
      ]
    },
    {
      "cell_type": "markdown",
      "metadata": {
        "id": "gCMAubLVqql3"
      },
      "source": [
        "In this variation, we replaced the Sigmoid function within the hidden layers to a new activation function; SiLU, which is a combination of the Sigmoid and ReLU activation functions. We stick with the 10 epochs, as the NN haven't had the need for more as of yet. We also tried changing the learning_rate to 0.003, which is right inbetween the learning_rate for the first and second variation"
      ]
    },
    {
      "cell_type": "code",
      "execution_count": null,
      "metadata": {
        "colab": {
          "base_uri": "https://localhost:8080/",
          "height": 281,
          "referenced_widgets": [
            "bd15b512d17440e0bcc3e43c9cd99916",
            "4df6f6b0cd2745f3a05cd4288edcd195",
            "4ef5a7c5ed984c55a80a3caea248edfb",
            "8c3624f867194715ad128a4cc7cc96af",
            "a4436765baac4a4ba9e1f4163e6a1aea",
            "87101b40f5404ffbb5e7b3610d657973",
            "96807a16d0374739858a0828d30a5abf",
            "4855bacd75cf4662a78d25accfcf196c",
            "17260f8c92f24f30bc040b7e23bc3e88",
            "ffdf03ee87644db1a50cc2a66f16c6e0",
            "306bbe857d1840bca0f0bef455d94775"
          ]
        },
        "id": "mbYIOGyEowsN",
        "outputId": "e0631c89-ceef-45dc-dcda-a7f08306c0e2"
      },
      "outputs": [
        {
          "name": "stderr",
          "output_type": "stream",
          "text": [
            "<ipython-input-98-52f984bdf5f7>:10: TqdmDeprecationWarning: This function will be removed in tqdm==5.0.0\n",
            "Please use `tqdm.notebook.tqdm` instead of `tqdm.tqdm_notebook`\n",
            "  for i in tqdm_notebook(range(epochs3), total=epochs3, unit=\"epoch\"):\n"
          ]
        },
        {
          "data": {
            "application/vnd.jupyter.widget-view+json": {
              "model_id": "bd15b512d17440e0bcc3e43c9cd99916",
              "version_major": 2,
              "version_minor": 0
            },
            "text/plain": [
              "  0%|          | 0/10 [00:00<?, ?epoch/s]"
            ]
          },
          "metadata": {},
          "output_type": "display_data"
        },
        {
          "name": "stdout",
          "output_type": "stream",
          "text": [
            "Loss: 0.12843050062656403\n",
            "Loss: 0.12623564898967743\n",
            "Loss: 0.12580257654190063\n",
            "Loss: 0.12565277516841888\n",
            "Loss: 0.1255493462085724\n",
            "Loss: 0.12546218931674957\n",
            "Loss: 0.12536166608333588\n",
            "Loss: 0.12524275481700897\n",
            "Loss: 0.12512338161468506\n",
            "Loss: 0.12501750886440277\n"
          ]
        }
      ],
      "source": [
        "model_net3 = torch.nn.Sequential(torch.nn.Linear(3,2),\n",
        "                                 torch.nn.ReLU(),\n",
        "                                 torch.nn.Linear(2,3), # We add a third layer inbetween the initital two. This layer will contain 2 neurons, and give 3 outputs for the final layer.\n",
        "                                 torch.nn.SiLU(),\n",
        "                                 torch.nn.Linear(3,1),\n",
        "                                 torch.nn.Sigmoid());\n",
        "loss_mse3 = torch.nn.MSELoss()\n",
        "optimizer3 = torch.optim.RMSprop(model_net3.parameters(),lr=learning_rate3)\n",
        "\n",
        "for i in tqdm_notebook(range(epochs3), total=epochs3, unit=\"epoch\"):\n",
        "      lost_set_epoch = {}\n",
        "      j = 0\n",
        "      for x, y_t in zip(X_tensor, y_tensor):\n",
        "          output = model_net3.forward(x.float())\n",
        "          # 2. FeedForward Evaluation\n",
        "          loss = loss_mse3(output, y_t.float())\n",
        "          optimizer3.zero_grad()\n",
        "\n",
        "          # 3. Backward / Gradient Calculation\n",
        "          loss.backward()\n",
        "          # 4. Back Propagation\n",
        "          optimizer3.step()\n",
        "          #display_loss:\n",
        "          lost_set_epoch[j] = loss\n",
        "          j = j + 1\n",
        "      \n",
        "      loss_set3[i] = torch.mean(torch.stack(list(lost_set_epoch.values()))).detach().numpy()\n",
        "      if (i % 1)==0:\n",
        "         print (f\"Loss: {loss_set3[i]}\")"
      ]
    },
    {
      "cell_type": "code",
      "execution_count": null,
      "metadata": {
        "colab": {
          "base_uri": "https://localhost:8080/",
          "height": 279
        },
        "id": "gRp9td1qbMtO",
        "outputId": "a2f309db-1611-4ca1-c89a-d50e62331b7b"
      },
      "outputs": [
        {
          "data": {
            "image/png": "[encoded data removed]",
            "text/plain": [
              "<Figure size 432x288 with 1 Axes>"
            ]
          },
          "metadata": {
            "needs_background": "light"
          },
          "output_type": "display_data"
        }
      ],
      "source": [
        "plt.plot(np.array(list(loss_set3.values())).astype(float))\n",
        "plt.xlabel('Epochs')\n",
        "plt.ylabel('Mean Squared Error')\n",
        "plt.show()"
      ]
    },
    {
      "cell_type": "markdown",
      "metadata": {
        "id": "ciOWfpaGpMDS"
      },
      "source": [
        "## Fourth Variation"
      ]
    },
    {
      "cell_type": "code",
      "execution_count": null,
      "metadata": {
        "id": "6nd9xC9LowpT"
      },
      "outputs": [],
      "source": [
        "epochs4 = 20 # Number of epochs remain 10 for now\n",
        "learning_rate4 = 0.005 # We change the learning rate from 0.001 to 0.005 and see what happens\n",
        "loss_set4 = {}"
      ]
    },
    {
      "cell_type": "code",
      "execution_count": null,
      "metadata": {
        "colab": {
          "base_uri": "https://localhost:8080/",
          "height": 460,
          "referenced_widgets": [
            "4e8ce94233f546e0ae0e9beb154991c9",
            "6b81a53b52b44f75886c2926d5263de0",
            "7672f338203a4ac9b69164be851791fa",
            "7de913221c824e3fa4fb60bb16a54f41",
            "676558437bea47508003a5d1f04c807c",
            "fc00651507a147dfbaa9038ee8091d57",
            "9e9b46bb50504227b88e5a25233b13c3",
            "1a352f99acc14d7fb15ad83dcfda9c03",
            "f2721bfa9c1547a0a62b7ef6803a354a",
            "7f3613608902456dbab9fc13768fdabc",
            "f542028807d94b74ab3ecc6faff9a26b"
          ]
        },
        "id": "J2ifBv7Uowae",
        "outputId": "d9ea51a7-4396-4840-9b61-e2bc7b13001b"
      },
      "outputs": [
        {
          "name": "stderr",
          "output_type": "stream",
          "text": [
            "<ipython-input-101-8c3f4636b95b>:10: TqdmDeprecationWarning: This function will be removed in tqdm==5.0.0\n",
            "Please use `tqdm.notebook.tqdm` instead of `tqdm.tqdm_notebook`\n",
            "  for i in tqdm_notebook(range(epochs4), total=epochs4, unit=\"epoch\"):\n"
          ]
        },
        {
          "data": {
            "application/vnd.jupyter.widget-view+json": {
              "model_id": "4e8ce94233f546e0ae0e9beb154991c9",
              "version_major": 2,
              "version_minor": 0
            },
            "text/plain": [
              "  0%|          | 0/20 [00:00<?, ?epoch/s]"
            ]
          },
          "metadata": {},
          "output_type": "display_data"
        },
        {
          "name": "stdout",
          "output_type": "stream",
          "text": [
            "Loss: 0.12873542308807373\n",
            "Loss: 0.12704527378082275\n",
            "Loss: 0.1267874836921692\n",
            "Loss: 0.12662747502326965\n",
            "Loss: 0.1265542060136795\n",
            "Loss: 0.1263832449913025\n",
            "Loss: 0.12601250410079956\n",
            "Loss: 0.12603431940078735\n",
            "Loss: 0.12604393064975739\n",
            "Loss: 0.12597669661045074\n",
            "Loss: 0.12593530118465424\n",
            "Loss: 0.12587538361549377\n",
            "Loss: 0.12594252824783325\n",
            "Loss: 0.1257818639278412\n",
            "Loss: 0.1258404701948166\n",
            "Loss: 0.12588250637054443\n",
            "Loss: 0.12583692371845245\n",
            "Loss: 0.12588970363140106\n",
            "Loss: 0.12583333253860474\n",
            "Loss: 0.12584076821804047\n"
          ]
        }
      ],
      "source": [
        "model_net4 = torch.nn.Sequential(torch.nn.Linear(3,5),\n",
        "                                 torch.nn.ReLU(),\n",
        "                                 torch.nn.Linear(5,10), # We add a third layer inbetween the initital two. This layer will contain 2 neurons, and give 3 outputs for the final layer.\n",
        "                                 torch.nn.ReLU(),\n",
        "                                 torch.nn.Linear(10,1),\n",
        "                                 torch.nn.Sigmoid());\n",
        "loss_mse4 = torch.nn.MSELoss()\n",
        "optimizer4 = torch.optim.RMSprop(model_net4.parameters(),lr=learning_rate4)\n",
        "\n",
        "for i in tqdm_notebook(range(epochs4), total=epochs4, unit=\"epoch\"):\n",
        "      lost_set_epoch = {}\n",
        "      j = 0\n",
        "      for x, y_t in zip(X_tensor, y_tensor):\n",
        "          output = model_net4.forward(x.float())\n",
        "          # 2. FeedForward Evaluation\n",
        "          loss = loss_mse4(output, y_t.float())\n",
        "          optimizer4.zero_grad()\n",
        "\n",
        "          # 3. Backward / Gradient Calculation\n",
        "          loss.backward()\n",
        "          # 4. Back Propagation\n",
        "          optimizer4.step()\n",
        "          #display_loss:\n",
        "          lost_set_epoch[j] = loss\n",
        "          j = j + 1\n",
        "      \n",
        "      loss_set4[i] = torch.mean(torch.stack(list(lost_set_epoch.values()))).detach().numpy()\n",
        "      if (i % 1)==0:\n",
        "         print (f\"Loss: {loss_set4[i]}\")"
      ]
    },
    {
      "cell_type": "markdown",
      "metadata": {
        "id": "82eWuNq4tMqu"
      },
      "source": [
        "There seems to be a pattern in the loss score, as it always ends up at 0.16088543832302094"
      ]
    },
    {
      "cell_type": "code",
      "execution_count": null,
      "metadata": {
        "colab": {
          "base_uri": "https://localhost:8080/",
          "height": 279
        },
        "id": "iBDa-E-XbOMP",
        "outputId": "15dba3bd-fbda-4b4d-e80a-abf69544d232"
      },
      "outputs": [
        {
          "data": {
            "image/png": "[encoded data removed]",
            "text/plain": [
              "<Figure size 432x288 with 1 Axes>"
            ]
          },
          "metadata": {
            "needs_background": "light"
          },
          "output_type": "display_data"
        }
      ],
      "source": [
        "plt.plot(np.array(list(loss_set4.values())).astype(float))\n",
        "plt.xlabel('Epochs')\n",
        "plt.ylabel('Mean Squared Error')\n",
        "plt.show()"
      ]
    },
    {
      "cell_type": "markdown",
      "metadata": {
        "id": "ONL9c_japp9-"
      },
      "source": [
        "##Fifth variation"
      ]
    },
    {
      "cell_type": "code",
      "execution_count": null,
      "metadata": {
        "id": "my3_lcLRppZz"
      },
      "outputs": [],
      "source": [
        "epochs5 = 200 # Number of epochs 200 \n",
        "learning_rate5 = 0.001 # We change the learning rate to 0.001\n",
        "loss_set5 = {}"
      ]
    },
    {
      "cell_type": "code",
      "execution_count": null,
      "metadata": {
        "colab": {
          "base_uri": "https://localhost:8080/",
          "height": 1000,
          "referenced_widgets": [
            "dfb4c7a7a1fd4c2a93df2beecb02700f",
            "ce56da94b35f416d86e76329a05b97bb",
            "da5752ff7e2843f899102837543b4981",
            "a589144194a540e8b7fbdc11a947e72d",
            "858fcdba2037403d986c268af5096046",
            "7b162549104f4882b5e6f6f0ad314be5",
            "d75eabd6dd2644639e9c81936a073ada",
            "d007d15f1e7e4a0c865323a40f6f4715",
            "cea7b3a0219f4243b06adc78a7d3c856",
            "2df323fb074d4a0180adc7014467e49b",
            "5eab160049144f21bedc5a5d3204d012"
          ]
        },
        "id": "Xi4S4UAGpuZ7",
        "outputId": "e7eddc9a-4f76-4d32-a205-b52820803566"
      },
      "outputs": [
        {
          "name": "stderr",
          "output_type": "stream",
          "text": [
            "<ipython-input-104-2922052d6a53>:12: TqdmDeprecationWarning: This function will be removed in tqdm==5.0.0\n",
            "Please use `tqdm.notebook.tqdm` instead of `tqdm.tqdm_notebook`\n",
            "  for i in tqdm_notebook(range(epochs5), total=epochs5, unit=\"epoch\"):\n"
          ]
        },
        {
          "data": {
            "application/vnd.jupyter.widget-view+json": {
              "model_id": "dfb4c7a7a1fd4c2a93df2beecb02700f",
              "version_major": 2,
              "version_minor": 0
            },
            "text/plain": [
              "  0%|          | 0/200 [00:00<?, ?epoch/s]"
            ]
          },
          "metadata": {},
          "output_type": "display_data"
        },
        {
          "name": "stdout",
          "output_type": "stream",
          "text": [
            "Loss: 0.13860461115837097\n",
            "Loss: 0.13405196368694305\n",
            "Loss: 0.1327267289161682\n",
            "Loss: 0.13125677406787872\n",
            "Loss: 0.12977561354637146\n",
            "Loss: 0.1280984729528427\n",
            "Loss: 0.12621431052684784\n",
            "Loss: 0.12491752952337265\n",
            "Loss: 0.12429390102624893\n",
            "Loss: 0.12405232340097427\n",
            "Loss: 0.12396653741598129\n",
            "Loss: 0.12393850088119507\n",
            "Loss: 0.12392770498991013\n",
            "Loss: 0.12391979247331619\n",
            "Loss: 0.12391206622123718\n",
            "Loss: 0.12390003353357315\n",
            "Loss: 0.1238936260342598\n",
            "Loss: 0.12388477474451065\n",
            "Loss: 0.12387549132108688\n",
            "Loss: 0.12386579066514969\n",
            "Loss: 0.12385327368974686\n",
            "Loss: 0.12384028732776642\n",
            "Loss: 0.12382682412862778\n",
            "Loss: 0.1238134503364563\n",
            "Loss: 0.12379813939332962\n",
            "Loss: 0.12378176301717758\n",
            "Loss: 0.1237645074725151\n",
            "Loss: 0.12374531477689743\n",
            "Loss: 0.12372586876153946\n",
            "Loss: 0.12370296567678452\n",
            "Loss: 0.12367883324623108\n",
            "Loss: 0.1236511841416359\n",
            "Loss: 0.12362396717071533\n",
            "Loss: 0.12359274923801422\n",
            "Loss: 0.12356213480234146\n",
            "Loss: 0.12352751195430756\n",
            "Loss: 0.12349476665258408\n",
            "Loss: 0.12346141785383224\n",
            "Loss: 0.12342918664216995\n",
            "Loss: 0.12339738756418228\n",
            "Loss: 0.12337024509906769\n",
            "Loss: 0.12334748357534409\n",
            "Loss: 0.12332547456026077\n",
            "Loss: 0.12330152094364166\n",
            "Loss: 0.12327826023101807\n",
            "Loss: 0.12325870245695114\n",
            "Loss: 0.12323840707540512\n",
            "Loss: 0.1232195794582367\n",
            "Loss: 0.1232057735323906\n",
            "Loss: 0.12318778038024902\n",
            "Loss: 0.12317051738500595\n",
            "Loss: 0.12315423786640167\n",
            "Loss: 0.12313657253980637\n",
            "Loss: 0.12312047183513641\n",
            "Loss: 0.12310498207807541\n",
            "Loss: 0.12309001386165619\n",
            "Loss: 0.12307415902614594\n",
            "Loss: 0.12305977195501328\n",
            "Loss: 0.12304647266864777\n",
            "Loss: 0.12303166836500168\n",
            "Loss: 0.12302076071500778\n",
            "Loss: 0.12300499528646469\n",
            "Loss: 0.12299329042434692\n",
            "Loss: 0.12298036366701126\n",
            "Loss: 0.1229684129357338\n",
            "Loss: 0.12295551598072052\n",
            "Loss: 0.12294434756040573\n",
            "Loss: 0.1229315772652626\n",
            "Loss: 0.12291812151670456\n",
            "Loss: 0.12290839850902557\n",
            "Loss: 0.12289561331272125\n",
            "Loss: 0.12288406491279602\n",
            "Loss: 0.12287559360265732\n",
            "Loss: 0.12286652624607086\n",
            "Loss: 0.12285667657852173\n",
            "Loss: 0.1228456050157547\n",
            "Loss: 0.12282966077327728\n",
            "Loss: 0.12281657755374908\n",
            "Loss: 0.12280262261629105\n",
            "Loss: 0.12279816716909409\n",
            "Loss: 0.12279613316059113\n",
            "Loss: 0.12279323488473892\n",
            "Loss: 0.12278363853693008\n",
            "Loss: 0.12277881801128387\n",
            "Loss: 0.12277045100927353\n",
            "Loss: 0.1227622851729393\n",
            "Loss: 0.1227540373802185\n",
            "Loss: 0.12274937331676483\n",
            "Loss: 0.12274334579706192\n",
            "Loss: 0.12273873388767242\n",
            "Loss: 0.12273441255092621\n",
            "Loss: 0.12272928655147552\n",
            "Loss: 0.12272346764802933\n",
            "Loss: 0.12271924316883087\n",
            "Loss: 0.12271419167518616\n",
            "Loss: 0.12270914763212204\n",
            "Loss: 0.12270715832710266\n",
            "Loss: 0.12269888073205948\n",
            "Loss: 0.12270113825798035\n",
            "Loss: 0.12269874662160873\n",
            "Loss: 0.12269590049982071\n",
            "Loss: 0.12269292026758194\n",
            "Loss: 0.1226901039481163\n",
            "Loss: 0.12269049882888794\n",
            "Loss: 0.12268996983766556\n",
            "Loss: 0.12268877029418945\n",
            "Loss: 0.12268463522195816\n",
            "Loss: 0.12268510460853577\n",
            "Loss: 0.12268176674842834\n",
            "Loss: 0.12267915904521942\n",
            "Loss: 0.12268412113189697\n",
            "Loss: 0.12267982959747314\n",
            "Loss: 0.12268194556236267\n",
            "Loss: 0.12268088757991791\n",
            "Loss: 0.12267938256263733\n",
            "Loss: 0.12267991155385971\n",
            "Loss: 0.12267541140317917\n",
            "Loss: 0.1226743683218956\n",
            "Loss: 0.12267396599054337\n",
            "Loss: 0.1226668730378151\n",
            "Loss: 0.12264915555715561\n",
            "Loss: 0.12263414263725281\n",
            "Loss: 0.12263223528862\n",
            "Loss: 0.12263979762792587\n",
            "Loss: 0.12263611704111099\n",
            "Loss: 0.1226339042186737\n",
            "Loss: 0.1226283609867096\n",
            "Loss: 0.12262959033250809\n",
            "Loss: 0.12262177467346191\n",
            "Loss: 0.12262241542339325\n",
            "Loss: 0.12261862307786942\n",
            "Loss: 0.1226171925663948\n",
            "Loss: 0.12261360883712769\n",
            "Loss: 0.1226099506020546\n",
            "Loss: 0.12260258197784424\n",
            "Loss: 0.12259840220212936\n",
            "Loss: 0.12259631603956223\n",
            "Loss: 0.12259599566459656\n",
            "Loss: 0.12259571254253387\n",
            "Loss: 0.12261323630809784\n",
            "Loss: 0.12261553108692169\n",
            "Loss: 0.12258376181125641\n",
            "Loss: 0.12255987524986267\n",
            "Loss: 0.12258792668581009\n",
            "Loss: 0.12261046469211578\n",
            "Loss: 0.12259319424629211\n",
            "Loss: 0.12258508801460266\n",
            "Loss: 0.12262294441461563\n",
            "Loss: 0.12262523919343948\n",
            "Loss: 0.12261851131916046\n",
            "Loss: 0.12263458967208862\n",
            "Loss: 0.12262900173664093\n",
            "Loss: 0.12260271608829498\n",
            "Loss: 0.12261762470006943\n",
            "Loss: 0.12259867787361145\n",
            "Loss: 0.12259504199028015\n",
            "Loss: 0.12259724736213684\n",
            "Loss: 0.12257522344589233\n",
            "Loss: 0.12257774919271469\n",
            "Loss: 0.1225864514708519\n",
            "Loss: 0.12255130708217621\n",
            "Loss: 0.1225527748465538\n",
            "Loss: 0.12257901579141617\n",
            "Loss: 0.12254190444946289\n",
            "Loss: 0.12253297865390778\n",
            "Loss: 0.12253092974424362\n",
            "Loss: 0.1225597932934761\n",
            "Loss: 0.12252200394868851\n",
            "Loss: 0.12254157662391663\n",
            "Loss: 0.12253299355506897\n",
            "Loss: 0.12254542857408524\n",
            "Loss: 0.12254084646701813\n",
            "Loss: 0.122516930103302\n",
            "Loss: 0.12251735478639603\n",
            "Loss: 0.12252505123615265\n",
            "Loss: 0.12252586334943771\n",
            "Loss: 0.12251868844032288\n",
            "Loss: 0.12253455072641373\n",
            "Loss: 0.12252775579690933\n",
            "Loss: 0.12253453582525253\n",
            "Loss: 0.12254616618156433\n",
            "Loss: 0.12255140393972397\n",
            "Loss: 0.12255151569843292\n",
            "Loss: 0.12255962193012238\n",
            "Loss: 0.12254001200199127\n",
            "Loss: 0.12253913283348083\n",
            "Loss: 0.12255479395389557\n",
            "Loss: 0.12255337089300156\n",
            "Loss: 0.12253846973180771\n",
            "Loss: 0.12253863364458084\n",
            "Loss: 0.12254706025123596\n",
            "Loss: 0.12254689633846283\n",
            "Loss: 0.12254028022289276\n",
            "Loss: 0.12255104631185532\n",
            "Loss: 0.12254800647497177\n",
            "Loss: 0.12255606055259705\n",
            "Loss: 0.12254972010850906\n",
            "Loss: 0.12254183739423752\n",
            "Loss: 0.12254936248064041\n",
            "Loss: 0.12255226820707321\n"
          ]
        }
      ],
      "source": [
        "model_net5 = torch.nn.Sequential(torch.nn.Linear(3,8),\n",
        "                                 torch.nn.ReLU(),\n",
        "                                 torch.nn.Linear(8,4),  # We add a third layer. This layer will contain 8 neurons, and give 4 outputs for the next layer.\n",
        "                                 torch.nn.Sigmoid(),\n",
        "                                 torch.nn.Linear(4,2),  # We add a fourth layer. This layer will contain 4 neurons, and give 2 outputs for the final layer.\n",
        "                                 torch.nn.Sigmoid(),\n",
        "                                 torch.nn.Linear(2,1),\n",
        "                                 torch.nn.Sigmoid());\n",
        "loss_mse = torch.nn.MSELoss()\n",
        "optimizer = torch.optim.RMSprop(model_net5.parameters(),lr=learning_rate5)\n",
        "\n",
        "for i in tqdm_notebook(range(epochs5), total=epochs5, unit=\"epoch\"):\n",
        "      lost_set_epoch = {}\n",
        "      j = 0\n",
        "      for x, y_t in zip(X_tensor, y_tensor):\n",
        "          output = model_net5.forward(x.float())\n",
        "          # 2. FeedForward Evaluation\n",
        "          loss = loss_mse(output, y_t.float())\n",
        "          optimizer.zero_grad()\n",
        "\n",
        "          # 3. Backward / Gradient Calculation\n",
        "          loss.backward()\n",
        "          # 4. Back Propagation\n",
        "          optimizer.step()\n",
        "          #display_loss:\n",
        "          lost_set_epoch[j] = loss\n",
        "          j = j + 1\n",
        "      \n",
        "      loss_set5[i] = torch.mean(torch.stack(list(lost_set_epoch.values()))).detach().numpy()\n",
        "      if (i % 1)==0:\n",
        "         print (f\"Loss: {loss_set5[i]}\")"
      ]
    },
    {
      "cell_type": "code",
      "execution_count": null,
      "metadata": {
        "colab": {
          "base_uri": "https://localhost:8080/",
          "height": 279
        },
        "id": "1l_3x_dObPdU",
        "outputId": "a6718e9e-820a-4b22-ab4e-e128dfe9a1f1"
      },
      "outputs": [
        {
          "data": {
            "image/png": "[encoded data removed]",
            "text/plain": [
              "<Figure size 432x288 with 1 Axes>"
            ]
          },
          "metadata": {
            "needs_background": "light"
          },
          "output_type": "display_data"
        }
      ],
      "source": [
        "plt.plot(np.array(list(loss_set5.values())).astype(float))\n",
        "plt.xlabel('Epochs')\n",
        "plt.ylabel('Mean Squared Error')\n",
        "plt.show()"
      ]
    },
    {
      "cell_type": "markdown",
      "metadata": {
        "id": "LS82n5QA6KIE"
      },
      "source": [
        "## Sixth Variation"
      ]
    },
    {
      "cell_type": "code",
      "execution_count": null,
      "metadata": {
        "id": "RP1bunjN6P8_"
      },
      "outputs": [],
      "source": [
        "epochs6 = 10 # Number of epochs remain 10 for now\n",
        "learning_rate6 = 0.003 # We change the learning rate to 0.003\n",
        "loss_set6 = {}"
      ]
    },
    {
      "cell_type": "code",
      "execution_count": null,
      "metadata": {
        "colab": {
          "base_uri": "https://localhost:8080/",
          "height": 281,
          "referenced_widgets": [
            "388ee8a4957c43af8af65b52fd2d3e85",
            "19806674d7844eeab2777f2d698b45e2",
            "02581cf31a7641e5b765ac3a6b019d6e",
            "9d34fd0905284618a5ea4267b733ba93",
            "108170582830419bb2e5141571f88b84",
            "c2f87624e8194c27b3f8ed9ee358d9cf",
            "48034a6d9cf14cc880146848c22e7633",
            "293c40bf2c0644c68a57c583728939f9",
            "1d27c7350b28409fa8313f7c0ce909e0",
            "e7a7b2cb804446618d71fc31f918f4bc",
            "60d2752454a44da1880c0b1c074052f1"
          ]
        },
        "id": "7QLy_UJk6m8E",
        "outputId": "65e72cc7-0813-4759-fbea-aaea258f04ef"
      },
      "outputs": [
        {
          "name": "stderr",
          "output_type": "stream",
          "text": [
            "<ipython-input-107-3132ee68ddb4>:10: TqdmDeprecationWarning: This function will be removed in tqdm==5.0.0\n",
            "Please use `tqdm.notebook.tqdm` instead of `tqdm.tqdm_notebook`\n",
            "  for i in tqdm_notebook(range(epochs6), total=epochs6, unit=\"epoch\"):\n"
          ]
        },
        {
          "data": {
            "application/vnd.jupyter.widget-view+json": {
              "model_id": "388ee8a4957c43af8af65b52fd2d3e85",
              "version_major": 2,
              "version_minor": 0
            },
            "text/plain": [
              "  0%|          | 0/10 [00:00<?, ?epoch/s]"
            ]
          },
          "metadata": {},
          "output_type": "display_data"
        },
        {
          "name": "stdout",
          "output_type": "stream",
          "text": [
            "Loss: 0.14027321338653564\n",
            "Loss: 0.13561266660690308\n",
            "Loss: 0.13561278581619263\n",
            "Loss: 0.13561278581619263\n",
            "Loss: 0.13561278581619263\n",
            "Loss: 0.13561278581619263\n",
            "Loss: 0.13561278581619263\n",
            "Loss: 0.13561278581619263\n",
            "Loss: 0.13561278581619263\n",
            "Loss: 0.13561278581619263\n"
          ]
        }
      ],
      "source": [
        "model_net6 = torch.nn.Sequential(torch.nn.Linear(3,2),\n",
        "                                 torch.nn.ReLU(),\n",
        "                                 torch.nn.Linear(2,3), # We add a third layer inbetween the initital two. This layer will contain 2 neurons, and give 3 outputs for the final layer.\n",
        "                                 torch.nn.ReLU(),\n",
        "                                 torch.nn.Linear(3,1),\n",
        "                                 torch.nn.Tanh());\n",
        "loss_mse = torch.nn.MSELoss()\n",
        "optimizer = torch.optim.Adam(model_net6.parameters(),lr=learning_rate6)\n",
        "\n",
        "for i in tqdm_notebook(range(epochs6), total=epochs6, unit=\"epoch\"):\n",
        "      lost_set_epoch = {}\n",
        "      j = 0\n",
        "      for x, y_t in zip(X_tensor, y_tensor):\n",
        "          output = model_net6.forward(x.float())\n",
        "          # 2. FeedForward Evaluation\n",
        "          loss = loss_mse(output, y_t.float())\n",
        "          optimizer.zero_grad()\n",
        "\n",
        "          # 3. Backward / Gradient Calculation\n",
        "          loss.backward()\n",
        "          # 4. Back Propagation\n",
        "          optimizer.step()\n",
        "          #display_loss:\n",
        "          lost_set_epoch[j] = loss\n",
        "          j = j + 1\n",
        "      \n",
        "      loss_set6[i] = torch.mean(torch.stack(list(lost_set_epoch.values()))).detach().numpy()\n",
        "      if (i % 1)==0:\n",
        "         print (f\"Loss: {loss_set6[i]}\")"
      ]
    },
    {
      "cell_type": "code",
      "execution_count": null,
      "metadata": {
        "colab": {
          "base_uri": "https://localhost:8080/",
          "height": 279
        },
        "id": "89ApPNdc8iYu",
        "outputId": "31ee6a05-49ea-45ee-9415-c329222fa3e7"
      },
      "outputs": [
        {
          "data": {
            "image/png": "[encoded data removed]",
            "text/plain": [
              "<Figure size 432x288 with 1 Axes>"
            ]
          },
          "metadata": {
            "needs_background": "light"
          },
          "output_type": "display_data"
        }
      ],
      "source": [
        "plt.plot(np.array(list(loss_set6.values())).astype(float))\n",
        "plt.xlabel('Epochs')\n",
        "plt.ylabel('Mean Squared Error')\n",
        "plt.show()"
      ]
    }
  ],
  "metadata": {
    "colab": {
      "provenance": []
    },
    "kernelspec": {
      "display_name": "Python 3",
      "name": "python3"
    },
    "language_info": {
      "name": "python"
    },
    "widgets": {
      "application/vnd.jupyter.widget-state+json": {
        "02581cf31a7641e5b765ac3a6b019d6e": {
          "model_module": "@jupyter-widgets/controls",
          "model_module_version": "1.5.0",
          "model_name": "FloatProgressModel",
          "state": {
            "_dom_classes": [],
            "_model_module": "@jupyter-widgets/controls",
            "_model_module_version": "1.5.0",
            "_model_name": "FloatProgressModel",
            "_view_count": null,
            "_view_module": "@jupyter-widgets/controls",
            "_view_module_version": "1.5.0",
            "_view_name": "ProgressView",
            "bar_style": "success",
            "description": "",
            "description_tooltip": null,
            "layout": "IPY_MODEL_293c40bf2c0644c68a57c583728939f9",
            "max": 10,
            "min": 0,
            "orientation": "horizontal",
            "style": "IPY_MODEL_1d27c7350b28409fa8313f7c0ce909e0",
            "value": 10
          }
        },
        "108170582830419bb2e5141571f88b84": {
          "model_module": "@jupyter-widgets/base",
          "model_module_version": "1.2.0",
          "model_name": "LayoutModel",
          "state": {
            "_model_module": "@jupyter-widgets/base",
            "_model_module_version": "1.2.0",
            "_model_name": "LayoutModel",
            "_view_count": null,
            "_view_module": "@jupyter-widgets/base",
            "_view_module_version": "1.2.0",
            "_view_name": "LayoutView",
            "align_content": null,
            "align_items": null,
            "align_self": null,
            "border": null,
            "bottom": null,
            "display": null,
            "flex": null,
            "flex_flow": null,
            "grid_area": null,
            "grid_auto_columns": null,
            "grid_auto_flow": null,
            "grid_auto_rows": null,
            "grid_column": null,
            "grid_gap": null,
            "grid_row": null,
            "grid_template_areas": null,
            "grid_template_columns": null,
            "grid_template_rows": null,
            "height": null,
            "justify_content": null,
            "justify_items": null,
            "left": null,
            "margin": null,
            "max_height": null,
            "max_width": null,
            "min_height": null,
            "min_width": null,
            "object_fit": null,
            "object_position": null,
            "order": null,
            "overflow": null,
            "overflow_x": null,
            "overflow_y": null,
            "padding": null,
            "right": null,
            "top": null,
            "visibility": null,
            "width": null
          }
        },
        "17260f8c92f24f30bc040b7e23bc3e88": {
          "model_module": "@jupyter-widgets/controls",
          "model_module_version": "1.5.0",
          "model_name": "ProgressStyleModel",
          "state": {
            "_model_module": "@jupyter-widgets/controls",
            "_model_module_version": "1.5.0",
            "_model_name": "ProgressStyleModel",
            "_view_count": null,
            "_view_module": "@jupyter-widgets/base",
            "_view_module_version": "1.2.0",
            "_view_name": "StyleView",
            "bar_color": null,
            "description_width": ""
          }
        },
        "19806674d7844eeab2777f2d698b45e2": {
          "model_module": "@jupyter-widgets/controls",
          "model_module_version": "1.5.0",
          "model_name": "HTMLModel",
          "state": {
            "_dom_classes": [],
            "_model_module": "@jupyter-widgets/controls",
            "_model_module_version": "1.5.0",
            "_model_name": "HTMLModel",
            "_view_count": null,
            "_view_module": "@jupyter-widgets/controls",
            "_view_module_version": "1.5.0",
            "_view_name": "HTMLView",
            "description": "",
            "description_tooltip": null,
            "layout": "IPY_MODEL_c2f87624e8194c27b3f8ed9ee358d9cf",
            "placeholder": "​",
            "style": "IPY_MODEL_48034a6d9cf14cc880146848c22e7633",
            "value": "100%"
          }
        },
        "1a352f99acc14d7fb15ad83dcfda9c03": {
          "model_module": "@jupyter-widgets/base",
          "model_module_version": "1.2.0",
          "model_name": "LayoutModel",
          "state": {
            "_model_module": "@jupyter-widgets/base",
            "_model_module_version": "1.2.0",
            "_model_name": "LayoutModel",
            "_view_count": null,
            "_view_module": "@jupyter-widgets/base",
            "_view_module_version": "1.2.0",
            "_view_name": "LayoutView",
            "align_content": null,
            "align_items": null,
            "align_self": null,
            "border": null,
            "bottom": null,
            "display": null,
            "flex": null,
            "flex_flow": null,
            "grid_area": null,
            "grid_auto_columns": null,
            "grid_auto_flow": null,
            "grid_auto_rows": null,
            "grid_column": null,
            "grid_gap": null,
            "grid_row": null,
            "grid_template_areas": null,
            "grid_template_columns": null,
            "grid_template_rows": null,
            "height": null,
            "justify_content": null,
            "justify_items": null,
            "left": null,
            "margin": null,
            "max_height": null,
            "max_width": null,
            "min_height": null,
            "min_width": null,
            "object_fit": null,
            "object_position": null,
            "order": null,
            "overflow": null,
            "overflow_x": null,
            "overflow_y": null,
            "padding": null,
            "right": null,
            "top": null,
            "visibility": null,
            "width": null
          }
        },
        "1d27c7350b28409fa8313f7c0ce909e0": {
          "model_module": "@jupyter-widgets/controls",
          "model_module_version": "1.5.0",
          "model_name": "ProgressStyleModel",
          "state": {
            "_model_module": "@jupyter-widgets/controls",
            "_model_module_version": "1.5.0",
            "_model_name": "ProgressStyleModel",
            "_view_count": null,
            "_view_module": "@jupyter-widgets/base",
            "_view_module_version": "1.2.0",
            "_view_name": "StyleView",
            "bar_color": null,
            "description_width": ""
          }
        },
        "1d7929b89c9e42299404edbc7b64f6a9": {
          "model_module": "@jupyter-widgets/base",
          "model_module_version": "1.2.0",
          "model_name": "LayoutModel",
          "state": {
            "_model_module": "@jupyter-widgets/base",
            "_model_module_version": "1.2.0",
            "_model_name": "LayoutModel",
            "_view_count": null,
            "_view_module": "@jupyter-widgets/base",
            "_view_module_version": "1.2.0",
            "_view_name": "LayoutView",
            "align_content": null,
            "align_items": null,
            "align_self": null,
            "border": null,
            "bottom": null,
            "display": null,
            "flex": null,
            "flex_flow": null,
            "grid_area": null,
            "grid_auto_columns": null,
            "grid_auto_flow": null,
            "grid_auto_rows": null,
            "grid_column": null,
            "grid_gap": null,
            "grid_row": null,
            "grid_template_areas": null,
            "grid_template_columns": null,
            "grid_template_rows": null,
            "height": null,
            "justify_content": null,
            "justify_items": null,
            "left": null,
            "margin": null,
            "max_height": null,
            "max_width": null,
            "min_height": null,
            "min_width": null,
            "object_fit": null,
            "object_position": null,
            "order": null,
            "overflow": null,
            "overflow_x": null,
            "overflow_y": null,
            "padding": null,
            "right": null,
            "top": null,
            "visibility": null,
            "width": null
          }
        },
        "293c40bf2c0644c68a57c583728939f9": {
          "model_module": "@jupyter-widgets/base",
          "model_module_version": "1.2.0",
          "model_name": "LayoutModel",
          "state": {
            "_model_module": "@jupyter-widgets/base",
            "_model_module_version": "1.2.0",
            "_model_name": "LayoutModel",
            "_view_count": null,
            "_view_module": "@jupyter-widgets/base",
            "_view_module_version": "1.2.0",
            "_view_name": "LayoutView",
            "align_content": null,
            "align_items": null,
            "align_self": null,
            "border": null,
            "bottom": null,
            "display": null,
            "flex": null,
            "flex_flow": null,
            "grid_area": null,
            "grid_auto_columns": null,
            "grid_auto_flow": null,
            "grid_auto_rows": null,
            "grid_column": null,
            "grid_gap": null,
            "grid_row": null,
            "grid_template_areas": null,
            "grid_template_columns": null,
            "grid_template_rows": null,
            "height": null,
            "justify_content": null,
            "justify_items": null,
            "left": null,
            "margin": null,
            "max_height": null,
            "max_width": null,
            "min_height": null,
            "min_width": null,
            "object_fit": null,
            "object_position": null,
            "order": null,
            "overflow": null,
            "overflow_x": null,
            "overflow_y": null,
            "padding": null,
            "right": null,
            "top": null,
            "visibility": null,
            "width": null
          }
        },
        "2d18644dd1a4470da71cc6e296a4de60": {
          "model_module": "@jupyter-widgets/controls",
          "model_module_version": "1.5.0",
          "model_name": "HBoxModel",
          "state": {
            "_dom_classes": [],
            "_model_module": "@jupyter-widgets/controls",
            "_model_module_version": "1.5.0",
            "_model_name": "HBoxModel",
            "_view_count": null,
            "_view_module": "@jupyter-widgets/controls",
            "_view_module_version": "1.5.0",
            "_view_name": "HBoxView",
            "box_style": "",
            "children": [
              "IPY_MODEL_3fcfdb7baebe49c2aa2bcd4bfdc87ae5",
              "IPY_MODEL_44ae266a47014770b154f24f098e054a",
              "IPY_MODEL_5d2ac821eabd477bb8ee919b53f43592"
            ],
            "layout": "IPY_MODEL_efa0b317913e4a7a941234b48242094b"
          }
        },
        "2df323fb074d4a0180adc7014467e49b": {
          "model_module": "@jupyter-widgets/base",
          "model_module_version": "1.2.0",
          "model_name": "LayoutModel",
          "state": {
            "_model_module": "@jupyter-widgets/base",
            "_model_module_version": "1.2.0",
            "_model_name": "LayoutModel",
            "_view_count": null,
            "_view_module": "@jupyter-widgets/base",
            "_view_module_version": "1.2.0",
            "_view_name": "LayoutView",
            "align_content": null,
            "align_items": null,
            "align_self": null,
            "border": null,
            "bottom": null,
            "display": null,
            "flex": null,
            "flex_flow": null,
            "grid_area": null,
            "grid_auto_columns": null,
            "grid_auto_flow": null,
            "grid_auto_rows": null,
            "grid_column": null,
            "grid_gap": null,
            "grid_row": null,
            "grid_template_areas": null,
            "grid_template_columns": null,
            "grid_template_rows": null,
            "height": null,
            "justify_content": null,
            "justify_items": null,
            "left": null,
            "margin": null,
            "max_height": null,
            "max_width": null,
            "min_height": null,
            "min_width": null,
            "object_fit": null,
            "object_position": null,
            "order": null,
            "overflow": null,
            "overflow_x": null,
            "overflow_y": null,
            "padding": null,
            "right": null,
            "top": null,
            "visibility": null,
            "width": null
          }
        },
        "306bbe857d1840bca0f0bef455d94775": {
          "model_module": "@jupyter-widgets/controls",
          "model_module_version": "1.5.0",
          "model_name": "DescriptionStyleModel",
          "state": {
            "_model_module": "@jupyter-widgets/controls",
            "_model_module_version": "1.5.0",
            "_model_name": "DescriptionStyleModel",
            "_view_count": null,
            "_view_module": "@jupyter-widgets/base",
            "_view_module_version": "1.2.0",
            "_view_name": "StyleView",
            "description_width": ""
          }
        },
        "388ee8a4957c43af8af65b52fd2d3e85": {
          "model_module": "@jupyter-widgets/controls",
          "model_module_version": "1.5.0",
          "model_name": "HBoxModel",
          "state": {
            "_dom_classes": [],
            "_model_module": "@jupyter-widgets/controls",
            "_model_module_version": "1.5.0",
            "_model_name": "HBoxModel",
            "_view_count": null,
            "_view_module": "@jupyter-widgets/controls",
            "_view_module_version": "1.5.0",
            "_view_name": "HBoxView",
            "box_style": "",
            "children": [
              "IPY_MODEL_19806674d7844eeab2777f2d698b45e2",
              "IPY_MODEL_02581cf31a7641e5b765ac3a6b019d6e",
              "IPY_MODEL_9d34fd0905284618a5ea4267b733ba93"
            ],
            "layout": "IPY_MODEL_108170582830419bb2e5141571f88b84"
          }
        },
        "3fcfdb7baebe49c2aa2bcd4bfdc87ae5": {
          "model_module": "@jupyter-widgets/controls",
          "model_module_version": "1.5.0",
          "model_name": "HTMLModel",
          "state": {
            "_dom_classes": [],
            "_model_module": "@jupyter-widgets/controls",
            "_model_module_version": "1.5.0",
            "_model_name": "HTMLModel",
            "_view_count": null,
            "_view_module": "@jupyter-widgets/controls",
            "_view_module_version": "1.5.0",
            "_view_name": "HTMLView",
            "description": "",
            "description_tooltip": null,
            "layout": "IPY_MODEL_1d7929b89c9e42299404edbc7b64f6a9",
            "placeholder": "​",
            "style": "IPY_MODEL_4bcd4f343ae3477c870f79a25bede46d",
            "value": "100%"
          }
        },
        "44ae266a47014770b154f24f098e054a": {
          "model_module": "@jupyter-widgets/controls",
          "model_module_version": "1.5.0",
          "model_name": "FloatProgressModel",
          "state": {
            "_dom_classes": [],
            "_model_module": "@jupyter-widgets/controls",
            "_model_module_version": "1.5.0",
            "_model_name": "FloatProgressModel",
            "_view_count": null,
            "_view_module": "@jupyter-widgets/controls",
            "_view_module_version": "1.5.0",
            "_view_name": "ProgressView",
            "bar_style": "success",
            "description": "",
            "description_tooltip": null,
            "layout": "IPY_MODEL_bc3e524dd0ee40c19921c1fee058966a",
            "max": 10,
            "min": 0,
            "orientation": "horizontal",
            "style": "IPY_MODEL_b79b2a3524df4ca9a3056c03dffff18d",
            "value": 10
          }
        },
        "48034a6d9cf14cc880146848c22e7633": {
          "model_module": "@jupyter-widgets/controls",
          "model_module_version": "1.5.0",
          "model_name": "DescriptionStyleModel",
          "state": {
            "_model_module": "@jupyter-widgets/controls",
            "_model_module_version": "1.5.0",
            "_model_name": "DescriptionStyleModel",
            "_view_count": null,
            "_view_module": "@jupyter-widgets/base",
            "_view_module_version": "1.2.0",
            "_view_name": "StyleView",
            "description_width": ""
          }
        },
        "4855bacd75cf4662a78d25accfcf196c": {
          "model_module": "@jupyter-widgets/base",
          "model_module_version": "1.2.0",
          "model_name": "LayoutModel",
          "state": {
            "_model_module": "@jupyter-widgets/base",
            "_model_module_version": "1.2.0",
            "_model_name": "LayoutModel",
            "_view_count": null,
            "_view_module": "@jupyter-widgets/base",
            "_view_module_version": "1.2.0",
            "_view_name": "LayoutView",
            "align_content": null,
            "align_items": null,
            "align_self": null,
            "border": null,
            "bottom": null,
            "display": null,
            "flex": null,
            "flex_flow": null,
            "grid_area": null,
            "grid_auto_columns": null,
            "grid_auto_flow": null,
            "grid_auto_rows": null,
            "grid_column": null,
            "grid_gap": null,
            "grid_row": null,
            "grid_template_areas": null,
            "grid_template_columns": null,
            "grid_template_rows": null,
            "height": null,
            "justify_content": null,
            "justify_items": null,
            "left": null,
            "margin": null,
            "max_height": null,
            "max_width": null,
            "min_height": null,
            "min_width": null,
            "object_fit": null,
            "object_position": null,
            "order": null,
            "overflow": null,
            "overflow_x": null,
            "overflow_y": null,
            "padding": null,
            "right": null,
            "top": null,
            "visibility": null,
            "width": null
          }
        },
        "4bcd4f343ae3477c870f79a25bede46d": {
          "model_module": "@jupyter-widgets/controls",
          "model_module_version": "1.5.0",
          "model_name": "DescriptionStyleModel",
          "state": {
            "_model_module": "@jupyter-widgets/controls",
            "_model_module_version": "1.5.0",
            "_model_name": "DescriptionStyleModel",
            "_view_count": null,
            "_view_module": "@jupyter-widgets/base",
            "_view_module_version": "1.2.0",
            "_view_name": "StyleView",
            "description_width": ""
          }
        },
        "4df6f6b0cd2745f3a05cd4288edcd195": {
          "model_module": "@jupyter-widgets/controls",
          "model_module_version": "1.5.0",
          "model_name": "HTMLModel",
          "state": {
            "_dom_classes": [],
            "_model_module": "@jupyter-widgets/controls",
            "_model_module_version": "1.5.0",
            "_model_name": "HTMLModel",
            "_view_count": null,
            "_view_module": "@jupyter-widgets/controls",
            "_view_module_version": "1.5.0",
            "_view_name": "HTMLView",
            "description": "",
            "description_tooltip": null,
            "layout": "IPY_MODEL_87101b40f5404ffbb5e7b3610d657973",
            "placeholder": "​",
            "style": "IPY_MODEL_96807a16d0374739858a0828d30a5abf",
            "value": "100%"
          }
        },
        "4e8ce94233f546e0ae0e9beb154991c9": {
          "model_module": "@jupyter-widgets/controls",
          "model_module_version": "1.5.0",
          "model_name": "HBoxModel",
          "state": {
            "_dom_classes": [],
            "_model_module": "@jupyter-widgets/controls",
            "_model_module_version": "1.5.0",
            "_model_name": "HBoxModel",
            "_view_count": null,
            "_view_module": "@jupyter-widgets/controls",
            "_view_module_version": "1.5.0",
            "_view_name": "HBoxView",
            "box_style": "",
            "children": [
              "IPY_MODEL_6b81a53b52b44f75886c2926d5263de0",
              "IPY_MODEL_7672f338203a4ac9b69164be851791fa",
              "IPY_MODEL_7de913221c824e3fa4fb60bb16a54f41"
            ],
            "layout": "IPY_MODEL_676558437bea47508003a5d1f04c807c"
          }
        },
        "4ef5a7c5ed984c55a80a3caea248edfb": {
          "model_module": "@jupyter-widgets/controls",
          "model_module_version": "1.5.0",
          "model_name": "FloatProgressModel",
          "state": {
            "_dom_classes": [],
            "_model_module": "@jupyter-widgets/controls",
            "_model_module_version": "1.5.0",
            "_model_name": "FloatProgressModel",
            "_view_count": null,
            "_view_module": "@jupyter-widgets/controls",
            "_view_module_version": "1.5.0",
            "_view_name": "ProgressView",
            "bar_style": "success",
            "description": "",
            "description_tooltip": null,
            "layout": "IPY_MODEL_4855bacd75cf4662a78d25accfcf196c",
            "max": 10,
            "min": 0,
            "orientation": "horizontal",
            "style": "IPY_MODEL_17260f8c92f24f30bc040b7e23bc3e88",
            "value": 10
          }
        },
        "5d2ac821eabd477bb8ee919b53f43592": {
          "model_module": "@jupyter-widgets/controls",
          "model_module_version": "1.5.0",
          "model_name": "HTMLModel",
          "state": {
            "_dom_classes": [],
            "_model_module": "@jupyter-widgets/controls",
            "_model_module_version": "1.5.0",
            "_model_name": "HTMLModel",
            "_view_count": null,
            "_view_module": "@jupyter-widgets/controls",
            "_view_module_version": "1.5.0",
            "_view_name": "HTMLView",
            "description": "",
            "description_tooltip": null,
            "layout": "IPY_MODEL_6caced4c308540d982be2b5c1a7f7be2",
            "placeholder": "​",
            "style": "IPY_MODEL_fabf0241f0f948dba811b1d5d8e9c55e",
            "value": " 10/10 [00:19&lt;00:00,  1.91s/epoch]"
          }
        },
        "5eab160049144f21bedc5a5d3204d012": {
          "model_module": "@jupyter-widgets/controls",
          "model_module_version": "1.5.0",
          "model_name": "DescriptionStyleModel",
          "state": {
            "_model_module": "@jupyter-widgets/controls",
            "_model_module_version": "1.5.0",
            "_model_name": "DescriptionStyleModel",
            "_view_count": null,
            "_view_module": "@jupyter-widgets/base",
            "_view_module_version": "1.2.0",
            "_view_name": "StyleView",
            "description_width": ""
          }
        },
        "60d2752454a44da1880c0b1c074052f1": {
          "model_module": "@jupyter-widgets/controls",
          "model_module_version": "1.5.0",
          "model_name": "DescriptionStyleModel",
          "state": {
            "_model_module": "@jupyter-widgets/controls",
            "_model_module_version": "1.5.0",
            "_model_name": "DescriptionStyleModel",
            "_view_count": null,
            "_view_module": "@jupyter-widgets/base",
            "_view_module_version": "1.2.0",
            "_view_name": "StyleView",
            "description_width": ""
          }
        },
        "676558437bea47508003a5d1f04c807c": {
          "model_module": "@jupyter-widgets/base",
          "model_module_version": "1.2.0",
          "model_name": "LayoutModel",
          "state": {
            "_model_module": "@jupyter-widgets/base",
            "_model_module_version": "1.2.0",
            "_model_name": "LayoutModel",
            "_view_count": null,
            "_view_module": "@jupyter-widgets/base",
            "_view_module_version": "1.2.0",
            "_view_name": "LayoutView",
            "align_content": null,
            "align_items": null,
            "align_self": null,
            "border": null,
            "bottom": null,
            "display": null,
            "flex": null,
            "flex_flow": null,
            "grid_area": null,
            "grid_auto_columns": null,
            "grid_auto_flow": null,
            "grid_auto_rows": null,
            "grid_column": null,
            "grid_gap": null,
            "grid_row": null,
            "grid_template_areas": null,
            "grid_template_columns": null,
            "grid_template_rows": null,
            "height": null,
            "justify_content": null,
            "justify_items": null,
            "left": null,
            "margin": null,
            "max_height": null,
            "max_width": null,
            "min_height": null,
            "min_width": null,
            "object_fit": null,
            "object_position": null,
            "order": null,
            "overflow": null,
            "overflow_x": null,
            "overflow_y": null,
            "padding": null,
            "right": null,
            "top": null,
            "visibility": null,
            "width": null
          }
        },
        "6b81a53b52b44f75886c2926d5263de0": {
          "model_module": "@jupyter-widgets/controls",
          "model_module_version": "1.5.0",
          "model_name": "HTMLModel",
          "state": {
            "_dom_classes": [],
            "_model_module": "@jupyter-widgets/controls",
            "_model_module_version": "1.5.0",
            "_model_name": "HTMLModel",
            "_view_count": null,
            "_view_module": "@jupyter-widgets/controls",
            "_view_module_version": "1.5.0",
            "_view_name": "HTMLView",
            "description": "",
            "description_tooltip": null,
            "layout": "IPY_MODEL_fc00651507a147dfbaa9038ee8091d57",
            "placeholder": "​",
            "style": "IPY_MODEL_9e9b46bb50504227b88e5a25233b13c3",
            "value": "100%"
          }
        },
        "6caced4c308540d982be2b5c1a7f7be2": {
          "model_module": "@jupyter-widgets/base",
          "model_module_version": "1.2.0",
          "model_name": "LayoutModel",
          "state": {
            "_model_module": "@jupyter-widgets/base",
            "_model_module_version": "1.2.0",
            "_model_name": "LayoutModel",
            "_view_count": null,
            "_view_module": "@jupyter-widgets/base",
            "_view_module_version": "1.2.0",
            "_view_name": "LayoutView",
            "align_content": null,
            "align_items": null,
            "align_self": null,
            "border": null,
            "bottom": null,
            "display": null,
            "flex": null,
            "flex_flow": null,
            "grid_area": null,
            "grid_auto_columns": null,
            "grid_auto_flow": null,
            "grid_auto_rows": null,
            "grid_column": null,
            "grid_gap": null,
            "grid_row": null,
            "grid_template_areas": null,
            "grid_template_columns": null,
            "grid_template_rows": null,
            "height": null,
            "justify_content": null,
            "justify_items": null,
            "left": null,
            "margin": null,
            "max_height": null,
            "max_width": null,
            "min_height": null,
            "min_width": null,
            "object_fit": null,
            "object_position": null,
            "order": null,
            "overflow": null,
            "overflow_x": null,
            "overflow_y": null,
            "padding": null,
            "right": null,
            "top": null,
            "visibility": null,
            "width": null
          }
        },
        "7672f338203a4ac9b69164be851791fa": {
          "model_module": "@jupyter-widgets/controls",
          "model_module_version": "1.5.0",
          "model_name": "FloatProgressModel",
          "state": {
            "_dom_classes": [],
            "_model_module": "@jupyter-widgets/controls",
            "_model_module_version": "1.5.0",
            "_model_name": "FloatProgressModel",
            "_view_count": null,
            "_view_module": "@jupyter-widgets/controls",
            "_view_module_version": "1.5.0",
            "_view_name": "ProgressView",
            "bar_style": "success",
            "description": "",
            "description_tooltip": null,
            "layout": "IPY_MODEL_1a352f99acc14d7fb15ad83dcfda9c03",
            "max": 20,
            "min": 0,
            "orientation": "horizontal",
            "style": "IPY_MODEL_f2721bfa9c1547a0a62b7ef6803a354a",
            "value": 20
          }
        },
        "7b162549104f4882b5e6f6f0ad314be5": {
          "model_module": "@jupyter-widgets/base",
          "model_module_version": "1.2.0",
          "model_name": "LayoutModel",
          "state": {
            "_model_module": "@jupyter-widgets/base",
            "_model_module_version": "1.2.0",
            "_model_name": "LayoutModel",
            "_view_count": null,
            "_view_module": "@jupyter-widgets/base",
            "_view_module_version": "1.2.0",
            "_view_name": "LayoutView",
            "align_content": null,
            "align_items": null,
            "align_self": null,
            "border": null,
            "bottom": null,
            "display": null,
            "flex": null,
            "flex_flow": null,
            "grid_area": null,
            "grid_auto_columns": null,
            "grid_auto_flow": null,
            "grid_auto_rows": null,
            "grid_column": null,
            "grid_gap": null,
            "grid_row": null,
            "grid_template_areas": null,
            "grid_template_columns": null,
            "grid_template_rows": null,
            "height": null,
            "justify_content": null,
            "justify_items": null,
            "left": null,
            "margin": null,
            "max_height": null,
            "max_width": null,
            "min_height": null,
            "min_width": null,
            "object_fit": null,
            "object_position": null,
            "order": null,
            "overflow": null,
            "overflow_x": null,
            "overflow_y": null,
            "padding": null,
            "right": null,
            "top": null,
            "visibility": null,
            "width": null
          }
        },
        "7de913221c824e3fa4fb60bb16a54f41": {
          "model_module": "@jupyter-widgets/controls",
          "model_module_version": "1.5.0",
          "model_name": "HTMLModel",
          "state": {
            "_dom_classes": [],
            "_model_module": "@jupyter-widgets/controls",
            "_model_module_version": "1.5.0",
            "_model_name": "HTMLModel",
            "_view_count": null,
            "_view_module": "@jupyter-widgets/controls",
            "_view_module_version": "1.5.0",
            "_view_name": "HTMLView",
            "description": "",
            "description_tooltip": null,
            "layout": "IPY_MODEL_7f3613608902456dbab9fc13768fdabc",
            "placeholder": "​",
            "style": "IPY_MODEL_f542028807d94b74ab3ecc6faff9a26b",
            "value": " 20/20 [00:38&lt;00:00,  1.90s/epoch]"
          }
        },
        "7f3613608902456dbab9fc13768fdabc": {
          "model_module": "@jupyter-widgets/base",
          "model_module_version": "1.2.0",
          "model_name": "LayoutModel",
          "state": {
            "_model_module": "@jupyter-widgets/base",
            "_model_module_version": "1.2.0",
            "_model_name": "LayoutModel",
            "_view_count": null,
            "_view_module": "@jupyter-widgets/base",
            "_view_module_version": "1.2.0",
            "_view_name": "LayoutView",
            "align_content": null,
            "align_items": null,
            "align_self": null,
            "border": null,
            "bottom": null,
            "display": null,
            "flex": null,
            "flex_flow": null,
            "grid_area": null,
            "grid_auto_columns": null,
            "grid_auto_flow": null,
            "grid_auto_rows": null,
            "grid_column": null,
            "grid_gap": null,
            "grid_row": null,
            "grid_template_areas": null,
            "grid_template_columns": null,
            "grid_template_rows": null,
            "height": null,
            "justify_content": null,
            "justify_items": null,
            "left": null,
            "margin": null,
            "max_height": null,
            "max_width": null,
            "min_height": null,
            "min_width": null,
            "object_fit": null,
            "object_position": null,
            "order": null,
            "overflow": null,
            "overflow_x": null,
            "overflow_y": null,
            "padding": null,
            "right": null,
            "top": null,
            "visibility": null,
            "width": null
          }
        },
        "858fcdba2037403d986c268af5096046": {
          "model_module": "@jupyter-widgets/base",
          "model_module_version": "1.2.0",
          "model_name": "LayoutModel",
          "state": {
            "_model_module": "@jupyter-widgets/base",
            "_model_module_version": "1.2.0",
            "_model_name": "LayoutModel",
            "_view_count": null,
            "_view_module": "@jupyter-widgets/base",
            "_view_module_version": "1.2.0",
            "_view_name": "LayoutView",
            "align_content": null,
            "align_items": null,
            "align_self": null,
            "border": null,
            "bottom": null,
            "display": null,
            "flex": null,
            "flex_flow": null,
            "grid_area": null,
            "grid_auto_columns": null,
            "grid_auto_flow": null,
            "grid_auto_rows": null,
            "grid_column": null,
            "grid_gap": null,
            "grid_row": null,
            "grid_template_areas": null,
            "grid_template_columns": null,
            "grid_template_rows": null,
            "height": null,
            "justify_content": null,
            "justify_items": null,
            "left": null,
            "margin": null,
            "max_height": null,
            "max_width": null,
            "min_height": null,
            "min_width": null,
            "object_fit": null,
            "object_position": null,
            "order": null,
            "overflow": null,
            "overflow_x": null,
            "overflow_y": null,
            "padding": null,
            "right": null,
            "top": null,
            "visibility": null,
            "width": null
          }
        },
        "87101b40f5404ffbb5e7b3610d657973": {
          "model_module": "@jupyter-widgets/base",
          "model_module_version": "1.2.0",
          "model_name": "LayoutModel",
          "state": {
            "_model_module": "@jupyter-widgets/base",
            "_model_module_version": "1.2.0",
            "_model_name": "LayoutModel",
            "_view_count": null,
            "_view_module": "@jupyter-widgets/base",
            "_view_module_version": "1.2.0",
            "_view_name": "LayoutView",
            "align_content": null,
            "align_items": null,
            "align_self": null,
            "border": null,
            "bottom": null,
            "display": null,
            "flex": null,
            "flex_flow": null,
            "grid_area": null,
            "grid_auto_columns": null,
            "grid_auto_flow": null,
            "grid_auto_rows": null,
            "grid_column": null,
            "grid_gap": null,
            "grid_row": null,
            "grid_template_areas": null,
            "grid_template_columns": null,
            "grid_template_rows": null,
            "height": null,
            "justify_content": null,
            "justify_items": null,
            "left": null,
            "margin": null,
            "max_height": null,
            "max_width": null,
            "min_height": null,
            "min_width": null,
            "object_fit": null,
            "object_position": null,
            "order": null,
            "overflow": null,
            "overflow_x": null,
            "overflow_y": null,
            "padding": null,
            "right": null,
            "top": null,
            "visibility": null,
            "width": null
          }
        },
        "8c3624f867194715ad128a4cc7cc96af": {
          "model_module": "@jupyter-widgets/controls",
          "model_module_version": "1.5.0",
          "model_name": "HTMLModel",
          "state": {
            "_dom_classes": [],
            "_model_module": "@jupyter-widgets/controls",
            "_model_module_version": "1.5.0",
            "_model_name": "HTMLModel",
            "_view_count": null,
            "_view_module": "@jupyter-widgets/controls",
            "_view_module_version": "1.5.0",
            "_view_name": "HTMLView",
            "description": "",
            "description_tooltip": null,
            "layout": "IPY_MODEL_ffdf03ee87644db1a50cc2a66f16c6e0",
            "placeholder": "​",
            "style": "IPY_MODEL_306bbe857d1840bca0f0bef455d94775",
            "value": " 10/10 [00:19&lt;00:00,  1.90s/epoch]"
          }
        },
        "96807a16d0374739858a0828d30a5abf": {
          "model_module": "@jupyter-widgets/controls",
          "model_module_version": "1.5.0",
          "model_name": "DescriptionStyleModel",
          "state": {
            "_model_module": "@jupyter-widgets/controls",
            "_model_module_version": "1.5.0",
            "_model_name": "DescriptionStyleModel",
            "_view_count": null,
            "_view_module": "@jupyter-widgets/base",
            "_view_module_version": "1.2.0",
            "_view_name": "StyleView",
            "description_width": ""
          }
        },
        "9d34fd0905284618a5ea4267b733ba93": {
          "model_module": "@jupyter-widgets/controls",
          "model_module_version": "1.5.0",
          "model_name": "HTMLModel",
          "state": {
            "_dom_classes": [],
            "_model_module": "@jupyter-widgets/controls",
            "_model_module_version": "1.5.0",
            "_model_name": "HTMLModel",
            "_view_count": null,
            "_view_module": "@jupyter-widgets/controls",
            "_view_module_version": "1.5.0",
            "_view_name": "HTMLView",
            "description": "",
            "description_tooltip": null,
            "layout": "IPY_MODEL_e7a7b2cb804446618d71fc31f918f4bc",
            "placeholder": "​",
            "style": "IPY_MODEL_60d2752454a44da1880c0b1c074052f1",
            "value": " 10/10 [00:23&lt;00:00,  2.33s/epoch]"
          }
        },
        "9e9b46bb50504227b88e5a25233b13c3": {
          "model_module": "@jupyter-widgets/controls",
          "model_module_version": "1.5.0",
          "model_name": "DescriptionStyleModel",
          "state": {
            "_model_module": "@jupyter-widgets/controls",
            "_model_module_version": "1.5.0",
            "_model_name": "DescriptionStyleModel",
            "_view_count": null,
            "_view_module": "@jupyter-widgets/base",
            "_view_module_version": "1.2.0",
            "_view_name": "StyleView",
            "description_width": ""
          }
        },
        "a4436765baac4a4ba9e1f4163e6a1aea": {
          "model_module": "@jupyter-widgets/base",
          "model_module_version": "1.2.0",
          "model_name": "LayoutModel",
          "state": {
            "_model_module": "@jupyter-widgets/base",
            "_model_module_version": "1.2.0",
            "_model_name": "LayoutModel",
            "_view_count": null,
            "_view_module": "@jupyter-widgets/base",
            "_view_module_version": "1.2.0",
            "_view_name": "LayoutView",
            "align_content": null,
            "align_items": null,
            "align_self": null,
            "border": null,
            "bottom": null,
            "display": null,
            "flex": null,
            "flex_flow": null,
            "grid_area": null,
            "grid_auto_columns": null,
            "grid_auto_flow": null,
            "grid_auto_rows": null,
            "grid_column": null,
            "grid_gap": null,
            "grid_row": null,
            "grid_template_areas": null,
            "grid_template_columns": null,
            "grid_template_rows": null,
            "height": null,
            "justify_content": null,
            "justify_items": null,
            "left": null,
            "margin": null,
            "max_height": null,
            "max_width": null,
            "min_height": null,
            "min_width": null,
            "object_fit": null,
            "object_position": null,
            "order": null,
            "overflow": null,
            "overflow_x": null,
            "overflow_y": null,
            "padding": null,
            "right": null,
            "top": null,
            "visibility": null,
            "width": null
          }
        },
        "a589144194a540e8b7fbdc11a947e72d": {
          "model_module": "@jupyter-widgets/controls",
          "model_module_version": "1.5.0",
          "model_name": "HTMLModel",
          "state": {
            "_dom_classes": [],
            "_model_module": "@jupyter-widgets/controls",
            "_model_module_version": "1.5.0",
            "_model_name": "HTMLModel",
            "_view_count": null,
            "_view_module": "@jupyter-widgets/controls",
            "_view_module_version": "1.5.0",
            "_view_name": "HTMLView",
            "description": "",
            "description_tooltip": null,
            "layout": "IPY_MODEL_2df323fb074d4a0180adc7014467e49b",
            "placeholder": "​",
            "style": "IPY_MODEL_5eab160049144f21bedc5a5d3204d012",
            "value": " 200/200 [07:28&lt;00:00,  2.26s/epoch]"
          }
        },
        "b79b2a3524df4ca9a3056c03dffff18d": {
          "model_module": "@jupyter-widgets/controls",
          "model_module_version": "1.5.0",
          "model_name": "ProgressStyleModel",
          "state": {
            "_model_module": "@jupyter-widgets/controls",
            "_model_module_version": "1.5.0",
            "_model_name": "ProgressStyleModel",
            "_view_count": null,
            "_view_module": "@jupyter-widgets/base",
            "_view_module_version": "1.2.0",
            "_view_name": "StyleView",
            "bar_color": null,
            "description_width": ""
          }
        },
        "bc3e524dd0ee40c19921c1fee058966a": {
          "model_module": "@jupyter-widgets/base",
          "model_module_version": "1.2.0",
          "model_name": "LayoutModel",
          "state": {
            "_model_module": "@jupyter-widgets/base",
            "_model_module_version": "1.2.0",
            "_model_name": "LayoutModel",
            "_view_count": null,
            "_view_module": "@jupyter-widgets/base",
            "_view_module_version": "1.2.0",
            "_view_name": "LayoutView",
            "align_content": null,
            "align_items": null,
            "align_self": null,
            "border": null,
            "bottom": null,
            "display": null,
            "flex": null,
            "flex_flow": null,
            "grid_area": null,
            "grid_auto_columns": null,
            "grid_auto_flow": null,
            "grid_auto_rows": null,
            "grid_column": null,
            "grid_gap": null,
            "grid_row": null,
            "grid_template_areas": null,
            "grid_template_columns": null,
            "grid_template_rows": null,
            "height": null,
            "justify_content": null,
            "justify_items": null,
            "left": null,
            "margin": null,
            "max_height": null,
            "max_width": null,
            "min_height": null,
            "min_width": null,
            "object_fit": null,
            "object_position": null,
            "order": null,
            "overflow": null,
            "overflow_x": null,
            "overflow_y": null,
            "padding": null,
            "right": null,
            "top": null,
            "visibility": null,
            "width": null
          }
        },
        "bd15b512d17440e0bcc3e43c9cd99916": {
          "model_module": "@jupyter-widgets/controls",
          "model_module_version": "1.5.0",
          "model_name": "HBoxModel",
          "state": {
            "_dom_classes": [],
            "_model_module": "@jupyter-widgets/controls",
            "_model_module_version": "1.5.0",
            "_model_name": "HBoxModel",
            "_view_count": null,
            "_view_module": "@jupyter-widgets/controls",
            "_view_module_version": "1.5.0",
            "_view_name": "HBoxView",
            "box_style": "",
            "children": [
              "IPY_MODEL_4df6f6b0cd2745f3a05cd4288edcd195",
              "IPY_MODEL_4ef5a7c5ed984c55a80a3caea248edfb",
              "IPY_MODEL_8c3624f867194715ad128a4cc7cc96af"
            ],
            "layout": "IPY_MODEL_a4436765baac4a4ba9e1f4163e6a1aea"
          }
        },
        "c2f87624e8194c27b3f8ed9ee358d9cf": {
          "model_module": "@jupyter-widgets/base",
          "model_module_version": "1.2.0",
          "model_name": "LayoutModel",
          "state": {
            "_model_module": "@jupyter-widgets/base",
            "_model_module_version": "1.2.0",
            "_model_name": "LayoutModel",
            "_view_count": null,
            "_view_module": "@jupyter-widgets/base",
            "_view_module_version": "1.2.0",
            "_view_name": "LayoutView",
            "align_content": null,
            "align_items": null,
            "align_self": null,
            "border": null,
            "bottom": null,
            "display": null,
            "flex": null,
            "flex_flow": null,
            "grid_area": null,
            "grid_auto_columns": null,
            "grid_auto_flow": null,
            "grid_auto_rows": null,
            "grid_column": null,
            "grid_gap": null,
            "grid_row": null,
            "grid_template_areas": null,
            "grid_template_columns": null,
            "grid_template_rows": null,
            "height": null,
            "justify_content": null,
            "justify_items": null,
            "left": null,
            "margin": null,
            "max_height": null,
            "max_width": null,
            "min_height": null,
            "min_width": null,
            "object_fit": null,
            "object_position": null,
            "order": null,
            "overflow": null,
            "overflow_x": null,
            "overflow_y": null,
            "padding": null,
            "right": null,
            "top": null,
            "visibility": null,
            "width": null
          }
        },
        "ce56da94b35f416d86e76329a05b97bb": {
          "model_module": "@jupyter-widgets/controls",
          "model_module_version": "1.5.0",
          "model_name": "HTMLModel",
          "state": {
            "_dom_classes": [],
            "_model_module": "@jupyter-widgets/controls",
            "_model_module_version": "1.5.0",
            "_model_name": "HTMLModel",
            "_view_count": null,
            "_view_module": "@jupyter-widgets/controls",
            "_view_module_version": "1.5.0",
            "_view_name": "HTMLView",
            "description": "",
            "description_tooltip": null,
            "layout": "IPY_MODEL_7b162549104f4882b5e6f6f0ad314be5",
            "placeholder": "​",
            "style": "IPY_MODEL_d75eabd6dd2644639e9c81936a073ada",
            "value": "100%"
          }
        },
        "cea7b3a0219f4243b06adc78a7d3c856": {
          "model_module": "@jupyter-widgets/controls",
          "model_module_version": "1.5.0",
          "model_name": "ProgressStyleModel",
          "state": {
            "_model_module": "@jupyter-widgets/controls",
            "_model_module_version": "1.5.0",
            "_model_name": "ProgressStyleModel",
            "_view_count": null,
            "_view_module": "@jupyter-widgets/base",
            "_view_module_version": "1.2.0",
            "_view_name": "StyleView",
            "bar_color": null,
            "description_width": ""
          }
        },
        "d007d15f1e7e4a0c865323a40f6f4715": {
          "model_module": "@jupyter-widgets/base",
          "model_module_version": "1.2.0",
          "model_name": "LayoutModel",
          "state": {
            "_model_module": "@jupyter-widgets/base",
            "_model_module_version": "1.2.0",
            "_model_name": "LayoutModel",
            "_view_count": null,
            "_view_module": "@jupyter-widgets/base",
            "_view_module_version": "1.2.0",
            "_view_name": "LayoutView",
            "align_content": null,
            "align_items": null,
            "align_self": null,
            "border": null,
            "bottom": null,
            "display": null,
            "flex": null,
            "flex_flow": null,
            "grid_area": null,
            "grid_auto_columns": null,
            "grid_auto_flow": null,
            "grid_auto_rows": null,
            "grid_column": null,
            "grid_gap": null,
            "grid_row": null,
            "grid_template_areas": null,
            "grid_template_columns": null,
            "grid_template_rows": null,
            "height": null,
            "justify_content": null,
            "justify_items": null,
            "left": null,
            "margin": null,
            "max_height": null,
            "max_width": null,
            "min_height": null,
            "min_width": null,
            "object_fit": null,
            "object_position": null,
            "order": null,
            "overflow": null,
            "overflow_x": null,
            "overflow_y": null,
            "padding": null,
            "right": null,
            "top": null,
            "visibility": null,
            "width": null
          }
        },
        "d75eabd6dd2644639e9c81936a073ada": {
          "model_module": "@jupyter-widgets/controls",
          "model_module_version": "1.5.0",
          "model_name": "DescriptionStyleModel",
          "state": {
            "_model_module": "@jupyter-widgets/controls",
            "_model_module_version": "1.5.0",
            "_model_name": "DescriptionStyleModel",
            "_view_count": null,
            "_view_module": "@jupyter-widgets/base",
            "_view_module_version": "1.2.0",
            "_view_name": "StyleView",
            "description_width": ""
          }
        },
        "da5752ff7e2843f899102837543b4981": {
          "model_module": "@jupyter-widgets/controls",
          "model_module_version": "1.5.0",
          "model_name": "FloatProgressModel",
          "state": {
            "_dom_classes": [],
            "_model_module": "@jupyter-widgets/controls",
            "_model_module_version": "1.5.0",
            "_model_name": "FloatProgressModel",
            "_view_count": null,
            "_view_module": "@jupyter-widgets/controls",
            "_view_module_version": "1.5.0",
            "_view_name": "ProgressView",
            "bar_style": "success",
            "description": "",
            "description_tooltip": null,
            "layout": "IPY_MODEL_d007d15f1e7e4a0c865323a40f6f4715",
            "max": 200,
            "min": 0,
            "orientation": "horizontal",
            "style": "IPY_MODEL_cea7b3a0219f4243b06adc78a7d3c856",
            "value": 200
          }
        },
        "dfb4c7a7a1fd4c2a93df2beecb02700f": {
          "model_module": "@jupyter-widgets/controls",
          "model_module_version": "1.5.0",
          "model_name": "HBoxModel",
          "state": {
            "_dom_classes": [],
            "_model_module": "@jupyter-widgets/controls",
            "_model_module_version": "1.5.0",
            "_model_name": "HBoxModel",
            "_view_count": null,
            "_view_module": "@jupyter-widgets/controls",
            "_view_module_version": "1.5.0",
            "_view_name": "HBoxView",
            "box_style": "",
            "children": [
              "IPY_MODEL_ce56da94b35f416d86e76329a05b97bb",
              "IPY_MODEL_da5752ff7e2843f899102837543b4981",
              "IPY_MODEL_a589144194a540e8b7fbdc11a947e72d"
            ],
            "layout": "IPY_MODEL_858fcdba2037403d986c268af5096046"
          }
        },
        "e7a7b2cb804446618d71fc31f918f4bc": {
          "model_module": "@jupyter-widgets/base",
          "model_module_version": "1.2.0",
          "model_name": "LayoutModel",
          "state": {
            "_model_module": "@jupyter-widgets/base",
            "_model_module_version": "1.2.0",
            "_model_name": "LayoutModel",
            "_view_count": null,
            "_view_module": "@jupyter-widgets/base",
            "_view_module_version": "1.2.0",
            "_view_name": "LayoutView",
            "align_content": null,
            "align_items": null,
            "align_self": null,
            "border": null,
            "bottom": null,
            "display": null,
            "flex": null,
            "flex_flow": null,
            "grid_area": null,
            "grid_auto_columns": null,
            "grid_auto_flow": null,
            "grid_auto_rows": null,
            "grid_column": null,
            "grid_gap": null,
            "grid_row": null,
            "grid_template_areas": null,
            "grid_template_columns": null,
            "grid_template_rows": null,
            "height": null,
            "justify_content": null,
            "justify_items": null,
            "left": null,
            "margin": null,
            "max_height": null,
            "max_width": null,
            "min_height": null,
            "min_width": null,
            "object_fit": null,
            "object_position": null,
            "order": null,
            "overflow": null,
            "overflow_x": null,
            "overflow_y": null,
            "padding": null,
            "right": null,
            "top": null,
            "visibility": null,
            "width": null
          }
        },
        "efa0b317913e4a7a941234b48242094b": {
          "model_module": "@jupyter-widgets/base",
          "model_module_version": "1.2.0",
          "model_name": "LayoutModel",
          "state": {
            "_model_module": "@jupyter-widgets/base",
            "_model_module_version": "1.2.0",
            "_model_name": "LayoutModel",
            "_view_count": null,
            "_view_module": "@jupyter-widgets/base",
            "_view_module_version": "1.2.0",
            "_view_name": "LayoutView",
            "align_content": null,
            "align_items": null,
            "align_self": null,
            "border": null,
            "bottom": null,
            "display": null,
            "flex": null,
            "flex_flow": null,
            "grid_area": null,
            "grid_auto_columns": null,
            "grid_auto_flow": null,
            "grid_auto_rows": null,
            "grid_column": null,
            "grid_gap": null,
            "grid_row": null,
            "grid_template_areas": null,
            "grid_template_columns": null,
            "grid_template_rows": null,
            "height": null,
            "justify_content": null,
            "justify_items": null,
            "left": null,
            "margin": null,
            "max_height": null,
            "max_width": null,
            "min_height": null,
            "min_width": null,
            "object_fit": null,
            "object_position": null,
            "order": null,
            "overflow": null,
            "overflow_x": null,
            "overflow_y": null,
            "padding": null,
            "right": null,
            "top": null,
            "visibility": null,
            "width": null
          }
        },
        "f2721bfa9c1547a0a62b7ef6803a354a": {
          "model_module": "@jupyter-widgets/controls",
          "model_module_version": "1.5.0",
          "model_name": "ProgressStyleModel",
          "state": {
            "_model_module": "@jupyter-widgets/controls",
            "_model_module_version": "1.5.0",
            "_model_name": "ProgressStyleModel",
            "_view_count": null,
            "_view_module": "@jupyter-widgets/base",
            "_view_module_version": "1.2.0",
            "_view_name": "StyleView",
            "bar_color": null,
            "description_width": ""
          }
        },
        "f542028807d94b74ab3ecc6faff9a26b": {
          "model_module": "@jupyter-widgets/controls",
          "model_module_version": "1.5.0",
          "model_name": "DescriptionStyleModel",
          "state": {
            "_model_module": "@jupyter-widgets/controls",
            "_model_module_version": "1.5.0",
            "_model_name": "DescriptionStyleModel",
            "_view_count": null,
            "_view_module": "@jupyter-widgets/base",
            "_view_module_version": "1.2.0",
            "_view_name": "StyleView",
            "description_width": ""
          }
        },
        "fabf0241f0f948dba811b1d5d8e9c55e": {
          "model_module": "@jupyter-widgets/controls",
          "model_module_version": "1.5.0",
          "model_name": "DescriptionStyleModel",
          "state": {
            "_model_module": "@jupyter-widgets/controls",
            "_model_module_version": "1.5.0",
            "_model_name": "DescriptionStyleModel",
            "_view_count": null,
            "_view_module": "@jupyter-widgets/base",
            "_view_module_version": "1.2.0",
            "_view_name": "StyleView",
            "description_width": ""
          }
        },
        "fc00651507a147dfbaa9038ee8091d57": {
          "model_module": "@jupyter-widgets/base",
          "model_module_version": "1.2.0",
          "model_name": "LayoutModel",
          "state": {
            "_model_module": "@jupyter-widgets/base",
            "_model_module_version": "1.2.0",
            "_model_name": "LayoutModel",
            "_view_count": null,
            "_view_module": "@jupyter-widgets/base",
            "_view_module_version": "1.2.0",
            "_view_name": "LayoutView",
            "align_content": null,
            "align_items": null,
            "align_self": null,
            "border": null,
            "bottom": null,
            "display": null,
            "flex": null,
            "flex_flow": null,
            "grid_area": null,
            "grid_auto_columns": null,
            "grid_auto_flow": null,
            "grid_auto_rows": null,
            "grid_column": null,
            "grid_gap": null,
            "grid_row": null,
            "grid_template_areas": null,
            "grid_template_columns": null,
            "grid_template_rows": null,
            "height": null,
            "justify_content": null,
            "justify_items": null,
            "left": null,
            "margin": null,
            "max_height": null,
            "max_width": null,
            "min_height": null,
            "min_width": null,
            "object_fit": null,
            "object_position": null,
            "order": null,
            "overflow": null,
            "overflow_x": null,
            "overflow_y": null,
            "padding": null,
            "right": null,
            "top": null,
            "visibility": null,
            "width": null
          }
        },
        "ffdf03ee87644db1a50cc2a66f16c6e0": {
          "model_module": "@jupyter-widgets/base",
          "model_module_version": "1.2.0",
          "model_name": "LayoutModel",
          "state": {
            "_model_module": "@jupyter-widgets/base",
            "_model_module_version": "1.2.0",
            "_model_name": "LayoutModel",
            "_view_count": null,
            "_view_module": "@jupyter-widgets/base",
            "_view_module_version": "1.2.0",
            "_view_name": "LayoutView",
            "align_content": null,
            "align_items": null,
            "align_self": null,
            "border": null,
            "bottom": null,
            "display": null,
            "flex": null,
            "flex_flow": null,
            "grid_area": null,
            "grid_auto_columns": null,
            "grid_auto_flow": null,
            "grid_auto_rows": null,
            "grid_column": null,
            "grid_gap": null,
            "grid_row": null,
            "grid_template_areas": null,
            "grid_template_columns": null,
            "grid_template_rows": null,
            "height": null,
            "justify_content": null,
            "justify_items": null,
            "left": null,
            "margin": null,
            "max_height": null,
            "max_width": null,
            "min_height": null,
            "min_width": null,
            "object_fit": null,
            "object_position": null,
            "order": null,
            "overflow": null,
            "overflow_x": null,
            "overflow_y": null,
            "padding": null,
            "right": null,
            "top": null,
            "visibility": null,
            "width": null
          }
        },
        "5b887375e08d4092bcc8a334d89056e7": {
          "model_module": "@jupyter-widgets/controls",
          "model_name": "HBoxModel",
          "model_module_version": "1.5.0",
          "state": {
            "_dom_classes": [],
            "_model_module": "@jupyter-widgets/controls",
            "_model_module_version": "1.5.0",
            "_model_name": "HBoxModel",
            "_view_count": null,
            "_view_module": "@jupyter-widgets/controls",
            "_view_module_version": "1.5.0",
            "_view_name": "HBoxView",
            "box_style": "",
            "children": [
              "IPY_MODEL_1bb8f3e771664c7ab9f92b8ece0edf35",
              "IPY_MODEL_242f25a8337b46c6b0cbb1aeb540e0bc",
              "IPY_MODEL_9379f94160d24867976cf70456215be9"
            ],
            "layout": "IPY_MODEL_f199749773c441bdba4ad9189e0610c3"
          }
        },
        "1bb8f3e771664c7ab9f92b8ece0edf35": {
          "model_module": "@jupyter-widgets/controls",
          "model_name": "HTMLModel",
          "model_module_version": "1.5.0",
          "state": {
            "_dom_classes": [],
            "_model_module": "@jupyter-widgets/controls",
            "_model_module_version": "1.5.0",
            "_model_name": "HTMLModel",
            "_view_count": null,
            "_view_module": "@jupyter-widgets/controls",
            "_view_module_version": "1.5.0",
            "_view_name": "HTMLView",
            "description": "",
            "description_tooltip": null,
            "layout": "IPY_MODEL_eedc706cadf64e8c8f7c5cdd41beb3e4",
            "placeholder": "​",
            "style": "IPY_MODEL_f693fc123e524d16a3c1dedbbd60af88",
            "value": "100%"
          }
        },
        "242f25a8337b46c6b0cbb1aeb540e0bc": {
          "model_module": "@jupyter-widgets/controls",
          "model_name": "FloatProgressModel",
          "model_module_version": "1.5.0",
          "state": {
            "_dom_classes": [],
            "_model_module": "@jupyter-widgets/controls",
            "_model_module_version": "1.5.0",
            "_model_name": "FloatProgressModel",
            "_view_count": null,
            "_view_module": "@jupyter-widgets/controls",
            "_view_module_version": "1.5.0",
            "_view_name": "ProgressView",
            "bar_style": "success",
            "description": "",
            "description_tooltip": null,
            "layout": "IPY_MODEL_131f58c4dc2f4344a69247c02aefddf9",
            "max": 10,
            "min": 0,
            "orientation": "horizontal",
            "style": "IPY_MODEL_f70d5db7ff27463bb7cee5e1657a604d",
            "value": 10
          }
        },
        "9379f94160d24867976cf70456215be9": {
          "model_module": "@jupyter-widgets/controls",
          "model_name": "HTMLModel",
          "model_module_version": "1.5.0",
          "state": {
            "_dom_classes": [],
            "_model_module": "@jupyter-widgets/controls",
            "_model_module_version": "1.5.0",
            "_model_name": "HTMLModel",
            "_view_count": null,
            "_view_module": "@jupyter-widgets/controls",
            "_view_module_version": "1.5.0",
            "_view_name": "HTMLView",
            "description": "",
            "description_tooltip": null,
            "layout": "IPY_MODEL_284aa0a1da0241598e1ff6d2a3cf90e7",
            "placeholder": "​",
            "style": "IPY_MODEL_f579115967274b79a1708c112b2058e9",
            "value": " 10/10 [00:53&lt;00:00,  5.32s/epoch]"
          }
        },
        "f199749773c441bdba4ad9189e0610c3": {
          "model_module": "@jupyter-widgets/base",
          "model_name": "LayoutModel",
          "model_module_version": "1.2.0",
          "state": {
            "_model_module": "@jupyter-widgets/base",
            "_model_module_version": "1.2.0",
            "_model_name": "LayoutModel",
            "_view_count": null,
            "_view_module": "@jupyter-widgets/base",
            "_view_module_version": "1.2.0",
            "_view_name": "LayoutView",
            "align_content": null,
            "align_items": null,
            "align_self": null,
            "border": null,
            "bottom": null,
            "display": null,
            "flex": null,
            "flex_flow": null,
            "grid_area": null,
            "grid_auto_columns": null,
            "grid_auto_flow": null,
            "grid_auto_rows": null,
            "grid_column": null,
            "grid_gap": null,
            "grid_row": null,
            "grid_template_areas": null,
            "grid_template_columns": null,
            "grid_template_rows": null,
            "height": null,
            "justify_content": null,
            "justify_items": null,
            "left": null,
            "margin": null,
            "max_height": null,
            "max_width": null,
            "min_height": null,
            "min_width": null,
            "object_fit": null,
            "object_position": null,
            "order": null,
            "overflow": null,
            "overflow_x": null,
            "overflow_y": null,
            "padding": null,
            "right": null,
            "top": null,
            "visibility": null,
            "width": null
          }
        },
        "eedc706cadf64e8c8f7c5cdd41beb3e4": {
          "model_module": "@jupyter-widgets/base",
          "model_name": "LayoutModel",
          "model_module_version": "1.2.0",
          "state": {
            "_model_module": "@jupyter-widgets/base",
            "_model_module_version": "1.2.0",
            "_model_name": "LayoutModel",
            "_view_count": null,
            "_view_module": "@jupyter-widgets/base",
            "_view_module_version": "1.2.0",
            "_view_name": "LayoutView",
            "align_content": null,
            "align_items": null,
            "align_self": null,
            "border": null,
            "bottom": null,
            "display": null,
            "flex": null,
            "flex_flow": null,
            "grid_area": null,
            "grid_auto_columns": null,
            "grid_auto_flow": null,
            "grid_auto_rows": null,
            "grid_column": null,
            "grid_gap": null,
            "grid_row": null,
            "grid_template_areas": null,
            "grid_template_columns": null,
            "grid_template_rows": null,
            "height": null,
            "justify_content": null,
            "justify_items": null,
            "left": null,
            "margin": null,
            "max_height": null,
            "max_width": null,
            "min_height": null,
            "min_width": null,
            "object_fit": null,
            "object_position": null,
            "order": null,
            "overflow": null,
            "overflow_x": null,
            "overflow_y": null,
            "padding": null,
            "right": null,
            "top": null,
            "visibility": null,
            "width": null
          }
        },
        "f693fc123e524d16a3c1dedbbd60af88": {
          "model_module": "@jupyter-widgets/controls",
          "model_name": "DescriptionStyleModel",
          "model_module_version": "1.5.0",
          "state": {
            "_model_module": "@jupyter-widgets/controls",
            "_model_module_version": "1.5.0",
            "_model_name": "DescriptionStyleModel",
            "_view_count": null,
            "_view_module": "@jupyter-widgets/base",
            "_view_module_version": "1.2.0",
            "_view_name": "StyleView",
            "description_width": ""
          }
        },
        "131f58c4dc2f4344a69247c02aefddf9": {
          "model_module": "@jupyter-widgets/base",
          "model_name": "LayoutModel",
          "model_module_version": "1.2.0",
          "state": {
            "_model_module": "@jupyter-widgets/base",
            "_model_module_version": "1.2.0",
            "_model_name": "LayoutModel",
            "_view_count": null,
            "_view_module": "@jupyter-widgets/base",
            "_view_module_version": "1.2.0",
            "_view_name": "LayoutView",
            "align_content": null,
            "align_items": null,
            "align_self": null,
            "border": null,
            "bottom": null,
            "display": null,
            "flex": null,
            "flex_flow": null,
            "grid_area": null,
            "grid_auto_columns": null,
            "grid_auto_flow": null,
            "grid_auto_rows": null,
            "grid_column": null,
            "grid_gap": null,
            "grid_row": null,
            "grid_template_areas": null,
            "grid_template_columns": null,
            "grid_template_rows": null,
            "height": null,
            "justify_content": null,
            "justify_items": null,
            "left": null,
            "margin": null,
            "max_height": null,
            "max_width": null,
            "min_height": null,
            "min_width": null,
            "object_fit": null,
            "object_position": null,
            "order": null,
            "overflow": null,
            "overflow_x": null,
            "overflow_y": null,
            "padding": null,
            "right": null,
            "top": null,
            "visibility": null,
            "width": null
          }
        },
        "f70d5db7ff27463bb7cee5e1657a604d": {
          "model_module": "@jupyter-widgets/controls",
          "model_name": "ProgressStyleModel",
          "model_module_version": "1.5.0",
          "state": {
            "_model_module": "@jupyter-widgets/controls",
            "_model_module_version": "1.5.0",
            "_model_name": "ProgressStyleModel",
            "_view_count": null,
            "_view_module": "@jupyter-widgets/base",
            "_view_module_version": "1.2.0",
            "_view_name": "StyleView",
            "bar_color": null,
            "description_width": ""
          }
        },
        "284aa0a1da0241598e1ff6d2a3cf90e7": {
          "model_module": "@jupyter-widgets/base",
          "model_name": "LayoutModel",
          "model_module_version": "1.2.0",
          "state": {
            "_model_module": "@jupyter-widgets/base",
            "_model_module_version": "1.2.0",
            "_model_name": "LayoutModel",
            "_view_count": null,
            "_view_module": "@jupyter-widgets/base",
            "_view_module_version": "1.2.0",
            "_view_name": "LayoutView",
            "align_content": null,
            "align_items": null,
            "align_self": null,
            "border": null,
            "bottom": null,
            "display": null,
            "flex": null,
            "flex_flow": null,
            "grid_area": null,
            "grid_auto_columns": null,
            "grid_auto_flow": null,
            "grid_auto_rows": null,
            "grid_column": null,
            "grid_gap": null,
            "grid_row": null,
            "grid_template_areas": null,
            "grid_template_columns": null,
            "grid_template_rows": null,
            "height": null,
            "justify_content": null,
            "justify_items": null,
            "left": null,
            "margin": null,
            "max_height": null,
            "max_width": null,
            "min_height": null,
            "min_width": null,
            "object_fit": null,
            "object_position": null,
            "order": null,
            "overflow": null,
            "overflow_x": null,
            "overflow_y": null,
            "padding": null,
            "right": null,
            "top": null,
            "visibility": null,
            "width": null
          }
        },
        "f579115967274b79a1708c112b2058e9": {
          "model_module": "@jupyter-widgets/controls",
          "model_name": "DescriptionStyleModel",
          "model_module_version": "1.5.0",
          "state": {
            "_model_module": "@jupyter-widgets/controls",
            "_model_module_version": "1.5.0",
            "_model_name": "DescriptionStyleModel",
            "_view_count": null,
            "_view_module": "@jupyter-widgets/base",
            "_view_module_version": "1.2.0",
            "_view_name": "StyleView",
            "description_width": ""
          }
        }
      }
    },
    "accelerator": "GPU",
    "gpuClass": "standard"
  },
  "nbformat": 4,
  "nbformat_minor": 0
}