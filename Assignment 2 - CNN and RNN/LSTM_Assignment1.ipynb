{
  "nbformat": 4,
  "nbformat_minor": 0,
  "metadata": {
    "colab": {
      "provenance": [],
      "collapsed_sections": [
        "3QBmwf4HeR9W"
      ]
    },
    "kernelspec": {
      "name": "python3",
      "display_name": "Python 3"
    },
    "language_info": {
      "name": "python"
    }
  },
  "cells": [
    {
      "cell_type": "markdown",
      "source": [
        "# LSTM for a sequential problem"
      ],
      "metadata": {
        "id": "2kFEBoaofqJ4"
      }
    },
    {
      "cell_type": "markdown",
      "source": [
        "## First LSTM trial based on HAMIDS example LSTM with starbucks stock data"
      ],
      "metadata": {
        "id": "sM2-mXYXijeD"
      }
    },
    {
      "cell_type": "code",
      "source": [
        "import torch\n",
        "import pandas as pd\n",
        "import torch.nn as nn\n",
        "import torch.optim as optim\n",
        "import numpy as np\n",
        "from torch.utils.data import DataLoader, TensorDataset\n",
        "from sklearn.preprocessing import MinMaxScaler\n",
        "import matplotlib.pyplot as plt"
      ],
      "metadata": {
        "id": "Gd5FuFVch1UK"
      },
      "execution_count": null,
      "outputs": []
    },
    {
      "cell_type": "code",
      "source": [
        "import numpy as np\n",
        "import pandas as pd\n",
        "import matplotlib.pyplot as plt\n",
        "\n",
        "df = pd.read_csv('https://raw.githubusercontent.com/CNielsen94/NN_exercises_AAUBSDS/main/Assignment%202%20-%20CNN%20and%20RNN/AAPL_2006-01-01_to_2018-01-01.csv', index_col = 'Date', parse_dates=True)"
      ],
      "metadata": {
        "id": "MGC1JVwlft29"
      },
      "execution_count": null,
      "outputs": []
    },
    {
      "cell_type": "code",
      "source": [
        "df.head()"
      ],
      "metadata": {
        "id": "0IUs-3CYj1tD",
        "colab": {
          "base_uri": "https://localhost:8080/",
          "height": 238
        },
        "outputId": "69462bdf-1edc-4512-90b3-b0fe180e5aa4"
      },
      "execution_count": null,
      "outputs": [
        {
          "output_type": "execute_result",
          "data": {
            "text/plain": [
              "             Open   High    Low  Close     Volume  Name\n",
              "Date                                                   \n",
              "2006-01-03  10.34  10.68  10.32  10.68  201853036  AAPL\n",
              "2006-01-04  10.73  10.85  10.64  10.71  155225609  AAPL\n",
              "2006-01-05  10.69  10.70  10.54  10.63  112396081  AAPL\n",
              "2006-01-06  10.75  10.96  10.65  10.90  176139334  AAPL\n",
              "2006-01-09  10.96  11.03  10.82  10.86  168861224  AAPL"
            ],
            "text/html": [
              "\n",
              "  <div id=\"df-27609d99-4e08-4686-bdea-22d21bbbfddc\">\n",
              "    <div class=\"colab-df-container\">\n",
              "      <div>\n",
              "<style scoped>\n",
              "    .dataframe tbody tr th:only-of-type {\n",
              "        vertical-align: middle;\n",
              "    }\n",
              "\n",
              "    .dataframe tbody tr th {\n",
              "        vertical-align: top;\n",
              "    }\n",
              "\n",
              "    .dataframe thead th {\n",
              "        text-align: right;\n",
              "    }\n",
              "</style>\n",
              "<table border=\"1\" class=\"dataframe\">\n",
              "  <thead>\n",
              "    <tr style=\"text-align: right;\">\n",
              "      <th></th>\n",
              "      <th>Open</th>\n",
              "      <th>High</th>\n",
              "      <th>Low</th>\n",
              "      <th>Close</th>\n",
              "      <th>Volume</th>\n",
              "      <th>Name</th>\n",
              "    </tr>\n",
              "    <tr>\n",
              "      <th>Date</th>\n",
              "      <th></th>\n",
              "      <th></th>\n",
              "      <th></th>\n",
              "      <th></th>\n",
              "      <th></th>\n",
              "      <th></th>\n",
              "    </tr>\n",
              "  </thead>\n",
              "  <tbody>\n",
              "    <tr>\n",
              "      <th>2006-01-03</th>\n",
              "      <td>10.34</td>\n",
              "      <td>10.68</td>\n",
              "      <td>10.32</td>\n",
              "      <td>10.68</td>\n",
              "      <td>201853036</td>\n",
              "      <td>AAPL</td>\n",
              "    </tr>\n",
              "    <tr>\n",
              "      <th>2006-01-04</th>\n",
              "      <td>10.73</td>\n",
              "      <td>10.85</td>\n",
              "      <td>10.64</td>\n",
              "      <td>10.71</td>\n",
              "      <td>155225609</td>\n",
              "      <td>AAPL</td>\n",
              "    </tr>\n",
              "    <tr>\n",
              "      <th>2006-01-05</th>\n",
              "      <td>10.69</td>\n",
              "      <td>10.70</td>\n",
              "      <td>10.54</td>\n",
              "      <td>10.63</td>\n",
              "      <td>112396081</td>\n",
              "      <td>AAPL</td>\n",
              "    </tr>\n",
              "    <tr>\n",
              "      <th>2006-01-06</th>\n",
              "      <td>10.75</td>\n",
              "      <td>10.96</td>\n",
              "      <td>10.65</td>\n",
              "      <td>10.90</td>\n",
              "      <td>176139334</td>\n",
              "      <td>AAPL</td>\n",
              "    </tr>\n",
              "    <tr>\n",
              "      <th>2006-01-09</th>\n",
              "      <td>10.96</td>\n",
              "      <td>11.03</td>\n",
              "      <td>10.82</td>\n",
              "      <td>10.86</td>\n",
              "      <td>168861224</td>\n",
              "      <td>AAPL</td>\n",
              "    </tr>\n",
              "  </tbody>\n",
              "</table>\n",
              "</div>\n",
              "      <button class=\"colab-df-convert\" onclick=\"convertToInteractive('df-27609d99-4e08-4686-bdea-22d21bbbfddc')\"\n",
              "              title=\"Convert this dataframe to an interactive table.\"\n",
              "              style=\"display:none;\">\n",
              "        \n",
              "  <svg xmlns=\"http://www.w3.org/2000/svg\" height=\"24px\"viewBox=\"0 0 24 24\"\n",
              "       width=\"24px\">\n",
              "    <path d=\"M0 0h24v24H0V0z\" fill=\"none\"/>\n",
              "    <path d=\"M18.56 5.44l.94 2.06.94-2.06 2.06-.94-2.06-.94-.94-2.06-.94 2.06-2.06.94zm-11 1L8.5 8.5l.94-2.06 2.06-.94-2.06-.94L8.5 2.5l-.94 2.06-2.06.94zm10 10l.94 2.06.94-2.06 2.06-.94-2.06-.94-.94-2.06-.94 2.06-2.06.94z\"/><path d=\"M17.41 7.96l-1.37-1.37c-.4-.4-.92-.59-1.43-.59-.52 0-1.04.2-1.43.59L10.3 9.45l-7.72 7.72c-.78.78-.78 2.05 0 2.83L4 21.41c.39.39.9.59 1.41.59.51 0 1.02-.2 1.41-.59l7.78-7.78 2.81-2.81c.8-.78.8-2.07 0-2.86zM5.41 20L4 18.59l7.72-7.72 1.47 1.35L5.41 20z\"/>\n",
              "  </svg>\n",
              "      </button>\n",
              "      \n",
              "  <style>\n",
              "    .colab-df-container {\n",
              "      display:flex;\n",
              "      flex-wrap:wrap;\n",
              "      gap: 12px;\n",
              "    }\n",
              "\n",
              "    .colab-df-convert {\n",
              "      background-color: #E8F0FE;\n",
              "      border: none;\n",
              "      border-radius: 50%;\n",
              "      cursor: pointer;\n",
              "      display: none;\n",
              "      fill: #1967D2;\n",
              "      height: 32px;\n",
              "      padding: 0 0 0 0;\n",
              "      width: 32px;\n",
              "    }\n",
              "\n",
              "    .colab-df-convert:hover {\n",
              "      background-color: #E2EBFA;\n",
              "      box-shadow: 0px 1px 2px rgba(60, 64, 67, 0.3), 0px 1px 3px 1px rgba(60, 64, 67, 0.15);\n",
              "      fill: #174EA6;\n",
              "    }\n",
              "\n",
              "    [theme=dark] .colab-df-convert {\n",
              "      background-color: #3B4455;\n",
              "      fill: #D2E3FC;\n",
              "    }\n",
              "\n",
              "    [theme=dark] .colab-df-convert:hover {\n",
              "      background-color: #434B5C;\n",
              "      box-shadow: 0px 1px 3px 1px rgba(0, 0, 0, 0.15);\n",
              "      filter: drop-shadow(0px 1px 2px rgba(0, 0, 0, 0.3));\n",
              "      fill: #FFFFFF;\n",
              "    }\n",
              "  </style>\n",
              "\n",
              "      <script>\n",
              "        const buttonEl =\n",
              "          document.querySelector('#df-27609d99-4e08-4686-bdea-22d21bbbfddc button.colab-df-convert');\n",
              "        buttonEl.style.display =\n",
              "          google.colab.kernel.accessAllowed ? 'block' : 'none';\n",
              "\n",
              "        async function convertToInteractive(key) {\n",
              "          const element = document.querySelector('#df-27609d99-4e08-4686-bdea-22d21bbbfddc');\n",
              "          const dataTable =\n",
              "            await google.colab.kernel.invokeFunction('convertToInteractive',\n",
              "                                                     [key], {});\n",
              "          if (!dataTable) return;\n",
              "\n",
              "          const docLinkHtml = 'Like what you see? Visit the ' +\n",
              "            '<a target=\"_blank\" href=https://colab.research.google.com/notebooks/data_table.ipynb>data table notebook</a>'\n",
              "            + ' to learn more about interactive tables.';\n",
              "          element.innerHTML = '';\n",
              "          dataTable['output_type'] = 'display_data';\n",
              "          await google.colab.output.renderOutput(dataTable, element);\n",
              "          const docLink = document.createElement('div');\n",
              "          docLink.innerHTML = docLinkHtml;\n",
              "          element.appendChild(docLink);\n",
              "        }\n",
              "      </script>\n",
              "    </div>\n",
              "  </div>\n",
              "  "
            ]
          },
          "metadata": {},
          "execution_count": 23
        }
      ]
    },
    {
      "cell_type": "code",
      "source": [
        "plt.style.use('ggplot')\n",
        "df['Volume'].plot(title='Apple stock Volume')"
      ],
      "metadata": {
        "id": "zGvyDYnHj4Ek"
      },
      "execution_count": null,
      "outputs": []
    },
    {
      "cell_type": "code",
      "source": [
        "plt.style.use('ggplot')\n",
        "plt.ylim(0, max(df['Volume']) * 1.1)\n",
        "df['Volume'].plot(label='CLOSE', title='Apple stock Volume')"
      ],
      "metadata": {
        "id": "1jZp3dcaMQb8"
      },
      "execution_count": null,
      "outputs": []
    },
    {
      "cell_type": "code",
      "source": [
        "X = df.iloc[:, :-2]\n",
        "y = df.iloc[:, 4:5] "
      ],
      "metadata": {
        "id": "j8jEyAwZav7I"
      },
      "execution_count": null,
      "outputs": []
    },
    {
      "cell_type": "code",
      "source": [
        "y"
      ],
      "metadata": {
        "id": "aysr5YmkbhXz"
      },
      "execution_count": null,
      "outputs": []
    },
    {
      "cell_type": "code",
      "source": [
        "X"
      ],
      "metadata": {
        "id": "-iGPkeW-bhyK"
      },
      "execution_count": null,
      "outputs": []
    },
    {
      "cell_type": "code",
      "source": [
        "from sklearn.preprocessing import StandardScaler, MinMaxScaler\n",
        "mm = MinMaxScaler()\n",
        "ss = StandardScaler()\n",
        "\n",
        "\n",
        "X_ss = ss.fit_transform(X)\n",
        "y_mm = mm.fit_transform(y) "
      ],
      "metadata": {
        "id": "lzNIjb9FbknO"
      },
      "execution_count": null,
      "outputs": []
    },
    {
      "cell_type": "code",
      "source": [
        "#first 2200 for training\n",
        "\n",
        "X_train = X_ss[:2200, :]\n",
        "X_test = X_ss[2200:, :]\n",
        "\n",
        "y_train = y_mm[:2200, :]\n",
        "y_test = y_mm[2200:, :] "
      ],
      "metadata": {
        "id": "tqHP-ARmh1nC"
      },
      "execution_count": null,
      "outputs": []
    },
    {
      "cell_type": "code",
      "source": [
        "print(\"Training Shape\", X_train.shape, y_train.shape)\n",
        "print(\"Testing Shape\", X_test.shape, y_test.shape) "
      ],
      "metadata": {
        "colab": {
          "base_uri": "https://localhost:8080/"
        },
        "id": "SR6tetKKh1b9",
        "outputId": "e10fcdf6-ac66-4ff9-df98-812182a3f868"
      },
      "execution_count": null,
      "outputs": [
        {
          "output_type": "stream",
          "name": "stdout",
          "text": [
            "Training Shape (2200, 4) (2200, 1)\n",
            "Testing Shape (819, 4) (819, 1)\n"
          ]
        }
      ]
    },
    {
      "cell_type": "code",
      "source": [
        "# Split the data into training and testing sets\n",
        "train_data = TensorDataset(torch.from_numpy(X_train), torch.from_numpy(y_train))\n",
        "test_data = TensorDataset(torch.from_numpy(X_test), torch.from_numpy(y_test))\n",
        "\n",
        "train_loader = DataLoader(train_data, batch_size=1, shuffle=True)\n",
        "test_loader = DataLoader(test_data, batch_size=1, shuffle=False)"
      ],
      "metadata": {
        "id": "L6CDiKnkiA-x"
      },
      "execution_count": null,
      "outputs": []
    },
    {
      "cell_type": "code",
      "source": [
        "# Initialize the LSTM model\n",
        "# Define the input size, hidden size and number of outputs\n",
        "input_size = 4\n",
        "hidden_size = 16\n",
        "output_size = 1\n",
        "num_epochs= 10\n",
        "\n",
        "# Define the LSTM model and Linear output fully connected layer\n",
        "lstm = nn.LSTM(input_size, hidden_size, batch_first=True)\n",
        "fc = nn.Linear(hidden_size, output_size)\n",
        "\n",
        "# Define the loss function and optimizer\n",
        "criterion = nn.MSELoss()\n",
        "optimizer = optim.SGD(lstm.parameters(), lr=0.01)"
      ],
      "metadata": {
        "id": "saBUCo64iA8C"
      },
      "execution_count": null,
      "outputs": []
    },
    {
      "cell_type": "code",
      "source": [
        "# Initializing Hyperparameters\n",
        "num_epochs = 100\n",
        "train_losses = []\n",
        "test_losses = []\n",
        "\n",
        "# Loop over the number of epochs\n",
        "for epoch in range(num_epochs):\n",
        "    train_loss = 0\n",
        "    # Initialize the hidden state and the cell state\n",
        "    # The hidden state and the cell state reset to zero for every epoch\n",
        "    hs = torch.zeros(1, hidden_size)\n",
        "    cs = torch.zeros(1, hidden_size)\n",
        "\n",
        "    # Get the input and target at position i\n",
        "    for i, (data, label) in enumerate(train_loader):\n",
        "        \n",
        "        hidden = (hs, cs)\n",
        "        # Run the forward pass\n",
        "        output, hidden = lstm(data.float(), hidden)\n",
        "        output = fc(hidden[-1])\n",
        "        hs = hs.detach()\n",
        "        cs = cs.detach()\n",
        "\n",
        "        # 2. Network Evaluation\n",
        "        loss = criterion(output, label.float())\n",
        "\n",
        "        # 3. Gradient Calculation\n",
        "        loss.backward()\n",
        "\n",
        "        # 4. Back Propagation\n",
        "        optimizer.step()\n",
        "        optimizer.zero_grad()\n",
        "\n",
        "        train_loss += loss.item()\n",
        "\n",
        "    # Calculate the average training loss\n",
        "    train_loss = train_loss / len(train_loader)\n",
        "    train_losses.append(train_loss)\n",
        "\n",
        "# Plot the MSE loss for each epoch\n",
        "plt.plot(train_losses)\n",
        "plt.xlabel('Epoch')\n",
        "plt.ylabel('MSE Loss')\n",
        "plt.title('Training Loss over Epochs')\n",
        "plt.show()"
      ],
      "metadata": {
        "id": "2TdzqCfOiA4N",
        "colab": {
          "base_uri": "https://localhost:8080/",
          "height": 299
        },
        "outputId": "1f66e4d6-fac8-4927-82ef-06ebe3910c8a"
      },
      "execution_count": null,
      "outputs": [
        {
          "output_type": "display_data",
          "data": {
            "text/plain": [
              "<Figure size 432x288 with 1 Axes>"
            ],
            "image/png": "[encoded data removed]"
          },
          "metadata": {}
        }
      ]
    },
    {
      "cell_type": "code",
      "source": [
        "# Evaluate the LSTM model\n",
        "mse = 0\n",
        "\n",
        "#By wrapping the evaluation code in a with torch.no_grad() context, \n",
        "#you can avoid unnecessary memory usage and speed up the evaluation process.\n",
        "with torch.no_grad():\n",
        "    # Initialize the hidden state and the cell state\n",
        "    # The hidden state and the cell state reset to zero for every epoch\n",
        "    hs = torch.zeros(1, hidden_size)\n",
        "    cs = torch.zeros(1, hidden_size)\n",
        "\n",
        "    for data, label in test_loader:\n",
        "        hidden = (hs, cs)\n",
        "        output, hidden = lstm(data.float(), hidden)\n",
        "        output = fc(hidden[-1])\n",
        "        hs = hs.detach()\n",
        "        cs = cs.detach()\n",
        "        \n",
        "        mse += ((output - label)**2).mean().item()\n",
        "\n",
        "mse /= len(test_loader)\n",
        "print('Test MSE: {}'.format(mse))"
      ],
      "metadata": {
        "colab": {
          "base_uri": "https://localhost:8080/"
        },
        "id": "FlcG72mQiAzz",
        "outputId": "3c2b3f3b-9514-4342-a8d8-a80583bfe049"
      },
      "execution_count": null,
      "outputs": [
        {
          "output_type": "stream",
          "name": "stdout",
          "text": [
            "Test MSE: 0.013917164416987765\n"
          ]
        }
      ]
    },
    {
      "cell_type": "code",
      "source": [
        "output_list = []\n",
        "\n",
        "# Initialize the hidden state and the cell state\n",
        "# The hidden state and the cell state reset to zero for every epoch\n",
        "hs = torch.zeros(1, hidden_size)\n",
        "cs = torch.zeros(1, hidden_size)\n",
        "for i, (data, label) in enumerate(test_loader):\n",
        "    hidden = (hs, cs)\n",
        "    \n",
        "    # Run the forward pass\n",
        "    output, hidden = lstm(data.float(), hidden)\n",
        "    output = fc(hidden[-1])\n",
        "    hs = hs.detach()\n",
        "    cs = cs.detach()\n",
        "    output_list.append(output.detach().numpy()[0][0])\n",
        "    \n",
        "for i, (data, label) in enumerate(train_loader):\n",
        "    hidden = (hs, cs)\n",
        "\n",
        "    # Run the forward pass\n",
        "    output, hidden = lstm(data.float(), hidden)\n",
        "    output = fc(hidden[-1])\n",
        "    hs = hs.detach()\n",
        "    cs = cs.detach()\n",
        "    output_list.append(output.detach().numpy()[0][0])"
      ],
      "metadata": {
        "id": "iOWgx16PiAsB"
      },
      "execution_count": null,
      "outputs": []
    },
    {
      "cell_type": "code",
      "source": [
        "data_predict[0]"
      ],
      "metadata": {
        "colab": {
          "base_uri": "https://localhost:8080/",
          "height": 165
        },
        "id": "50fzQ7SC4LAE",
        "outputId": "08a75e1e-406b-4322-90d3-d68001b6f179"
      },
      "execution_count": null,
      "outputs": [
        {
          "output_type": "error",
          "ename": "NameError",
          "evalue": "ignored",
          "traceback": [
            "\u001b[0;31m---------------------------------------------------------------------------\u001b[0m",
            "\u001b[0;31mNameError\u001b[0m                                 Traceback (most recent call last)",
            "\u001b[0;32m<ipython-input-18-747238933b05>\u001b[0m in \u001b[0;36m<module>\u001b[0;34m\u001b[0m\n\u001b[0;32m----> 1\u001b[0;31m \u001b[0mdata_predict\u001b[0m\u001b[0;34m[\u001b[0m\u001b[0;36m0\u001b[0m\u001b[0;34m]\u001b[0m\u001b[0;34m\u001b[0m\u001b[0;34m\u001b[0m\u001b[0m\n\u001b[0m",
            "\u001b[0;31mNameError\u001b[0m: name 'data_predict' is not defined"
          ]
        }
      ]
    },
    {
      "cell_type": "code",
      "source": [
        "# train_predict = lstm(X_ss)#forward pass\n",
        "# data_predict = train_predict.data.numpy() #numpy conversion\n",
        "dataY_plot = y.Volume.values\n",
        "# data_predict = output_list\n",
        "\n",
        "data_predict = mm.inverse_transform([output_list]) #reverse transformation\n",
        "# dataY_plot = mm.inverse_transform(dataY_plot)\n",
        "plt.figure(figsize=(10,6)) #plotting\n",
        "plt.axvline(x=2200, c='r', linestyle='--') #size of the training set\n",
        "\n",
        "plt.plot(dataY_plot, label='Actuall Data') #actual plot\n",
        "plt.plot(data_predict[0], label='Predicted Data') #predicted plot\n",
        "plt.title('Time-Series Prediction')\n",
        "plt.legend()\n",
        "plt.show() "
      ],
      "metadata": {
        "colab": {
          "base_uri": "https://localhost:8080/",
          "height": 391
        },
        "id": "gLGgH-C_ieFX",
        "outputId": "ddd4c0a7-f05f-4cee-a472-5c4164c4a7b1"
      },
      "execution_count": null,
      "outputs": [
        {
          "output_type": "display_data",
          "data": {
            "text/plain": [
              "<Figure size 720x432 with 1 Axes>"
            ],
            "image/png": "[encoded data removed]"
          },
          "metadata": {}
        }
      ]
    },
    {
      "cell_type": "code",
      "source": [
        "# Save the trained RNN model\n",
        "torch.save(lstm.state_dict(), 'lstm.pt')\n",
        "\n",
        "# Load the model\n",
        "rnn = nn.LSTM(input_size, hidden_size, batch_first=True)\n",
        "rnn.load_state_dict(torch.load('lstm.pt'))"
      ],
      "metadata": {
        "colab": {
          "base_uri": "https://localhost:8080/"
        },
        "id": "vDpRg-KfihY2",
        "outputId": "c89773d7-c3b9-4735-e4db-bd2922cfaf20"
      },
      "execution_count": null,
      "outputs": [
        {
          "output_type": "execute_result",
          "data": {
            "text/plain": [
              "<All keys matched successfully>"
            ]
          },
          "metadata": {},
          "execution_count": 18
        }
      ]
    },
    {
      "cell_type": "markdown",
      "source": [
        "## Second LSTM trial, changing parameters"
      ],
      "metadata": {
        "id": "J1jf-pBwbETt"
      }
    },
    {
      "cell_type": "code",
      "source": [],
      "metadata": {
        "id": "10baQE6QbDTd"
      },
      "execution_count": null,
      "outputs": []
    },
    {
      "cell_type": "code",
      "source": [
        "import numpy as np\n",
        "import pandas as pd\n",
        "import matplotlib.pyplot as plt\n",
        "\n",
        "df = pd.read_csv('https://raw.githubusercontent.com/CNielsen94/NN_exercises_AAUBSDS/main/Assignment%202%20-%20CNN%20and%20RNN/AAPL_2006-01-01_to_2018-01-01.csv', index_col = 'Date', parse_dates=True)"
      ],
      "metadata": {
        "id": "E1XIT4g4bSbZ"
      },
      "execution_count": null,
      "outputs": []
    },
    {
      "cell_type": "code",
      "source": [
        "df.head()"
      ],
      "metadata": {
        "colab": {
          "base_uri": "https://localhost:8080/",
          "height": 238
        },
        "outputId": "1286092a-a70e-4b1c-91ef-68edb20ceaa8",
        "id": "0gQooViebSba"
      },
      "execution_count": null,
      "outputs": [
        {
          "output_type": "execute_result",
          "data": {
            "text/plain": [
              "             Open   High    Low  Close     Volume  Name\n",
              "Date                                                   \n",
              "2006-01-03  10.34  10.68  10.32  10.68  201853036  AAPL\n",
              "2006-01-04  10.73  10.85  10.64  10.71  155225609  AAPL\n",
              "2006-01-05  10.69  10.70  10.54  10.63  112396081  AAPL\n",
              "2006-01-06  10.75  10.96  10.65  10.90  176139334  AAPL\n",
              "2006-01-09  10.96  11.03  10.82  10.86  168861224  AAPL"
            ],
            "text/html": [
              "\n",
              "  <div id=\"df-2373e1f2-350f-4898-949d-7b9e69efa580\">\n",
              "    <div class=\"colab-df-container\">\n",
              "      <div>\n",
              "<style scoped>\n",
              "    .dataframe tbody tr th:only-of-type {\n",
              "        vertical-align: middle;\n",
              "    }\n",
              "\n",
              "    .dataframe tbody tr th {\n",
              "        vertical-align: top;\n",
              "    }\n",
              "\n",
              "    .dataframe thead th {\n",
              "        text-align: right;\n",
              "    }\n",
              "</style>\n",
              "<table border=\"1\" class=\"dataframe\">\n",
              "  <thead>\n",
              "    <tr style=\"text-align: right;\">\n",
              "      <th></th>\n",
              "      <th>Open</th>\n",
              "      <th>High</th>\n",
              "      <th>Low</th>\n",
              "      <th>Close</th>\n",
              "      <th>Volume</th>\n",
              "      <th>Name</th>\n",
              "    </tr>\n",
              "    <tr>\n",
              "      <th>Date</th>\n",
              "      <th></th>\n",
              "      <th></th>\n",
              "      <th></th>\n",
              "      <th></th>\n",
              "      <th></th>\n",
              "      <th></th>\n",
              "    </tr>\n",
              "  </thead>\n",
              "  <tbody>\n",
              "    <tr>\n",
              "      <th>2006-01-03</th>\n",
              "      <td>10.34</td>\n",
              "      <td>10.68</td>\n",
              "      <td>10.32</td>\n",
              "      <td>10.68</td>\n",
              "      <td>201853036</td>\n",
              "      <td>AAPL</td>\n",
              "    </tr>\n",
              "    <tr>\n",
              "      <th>2006-01-04</th>\n",
              "      <td>10.73</td>\n",
              "      <td>10.85</td>\n",
              "      <td>10.64</td>\n",
              "      <td>10.71</td>\n",
              "      <td>155225609</td>\n",
              "      <td>AAPL</td>\n",
              "    </tr>\n",
              "    <tr>\n",
              "      <th>2006-01-05</th>\n",
              "      <td>10.69</td>\n",
              "      <td>10.70</td>\n",
              "      <td>10.54</td>\n",
              "      <td>10.63</td>\n",
              "      <td>112396081</td>\n",
              "      <td>AAPL</td>\n",
              "    </tr>\n",
              "    <tr>\n",
              "      <th>2006-01-06</th>\n",
              "      <td>10.75</td>\n",
              "      <td>10.96</td>\n",
              "      <td>10.65</td>\n",
              "      <td>10.90</td>\n",
              "      <td>176139334</td>\n",
              "      <td>AAPL</td>\n",
              "    </tr>\n",
              "    <tr>\n",
              "      <th>2006-01-09</th>\n",
              "      <td>10.96</td>\n",
              "      <td>11.03</td>\n",
              "      <td>10.82</td>\n",
              "      <td>10.86</td>\n",
              "      <td>168861224</td>\n",
              "      <td>AAPL</td>\n",
              "    </tr>\n",
              "  </tbody>\n",
              "</table>\n",
              "</div>\n",
              "      <button class=\"colab-df-convert\" onclick=\"convertToInteractive('df-2373e1f2-350f-4898-949d-7b9e69efa580')\"\n",
              "              title=\"Convert this dataframe to an interactive table.\"\n",
              "              style=\"display:none;\">\n",
              "        \n",
              "  <svg xmlns=\"http://www.w3.org/2000/svg\" height=\"24px\"viewBox=\"0 0 24 24\"\n",
              "       width=\"24px\">\n",
              "    <path d=\"M0 0h24v24H0V0z\" fill=\"none\"/>\n",
              "    <path d=\"M18.56 5.44l.94 2.06.94-2.06 2.06-.94-2.06-.94-.94-2.06-.94 2.06-2.06.94zm-11 1L8.5 8.5l.94-2.06 2.06-.94-2.06-.94L8.5 2.5l-.94 2.06-2.06.94zm10 10l.94 2.06.94-2.06 2.06-.94-2.06-.94-.94-2.06-.94 2.06-2.06.94z\"/><path d=\"M17.41 7.96l-1.37-1.37c-.4-.4-.92-.59-1.43-.59-.52 0-1.04.2-1.43.59L10.3 9.45l-7.72 7.72c-.78.78-.78 2.05 0 2.83L4 21.41c.39.39.9.59 1.41.59.51 0 1.02-.2 1.41-.59l7.78-7.78 2.81-2.81c.8-.78.8-2.07 0-2.86zM5.41 20L4 18.59l7.72-7.72 1.47 1.35L5.41 20z\"/>\n",
              "  </svg>\n",
              "      </button>\n",
              "      \n",
              "  <style>\n",
              "    .colab-df-container {\n",
              "      display:flex;\n",
              "      flex-wrap:wrap;\n",
              "      gap: 12px;\n",
              "    }\n",
              "\n",
              "    .colab-df-convert {\n",
              "      background-color: #E8F0FE;\n",
              "      border: none;\n",
              "      border-radius: 50%;\n",
              "      cursor: pointer;\n",
              "      display: none;\n",
              "      fill: #1967D2;\n",
              "      height: 32px;\n",
              "      padding: 0 0 0 0;\n",
              "      width: 32px;\n",
              "    }\n",
              "\n",
              "    .colab-df-convert:hover {\n",
              "      background-color: #E2EBFA;\n",
              "      box-shadow: 0px 1px 2px rgba(60, 64, 67, 0.3), 0px 1px 3px 1px rgba(60, 64, 67, 0.15);\n",
              "      fill: #174EA6;\n",
              "    }\n",
              "\n",
              "    [theme=dark] .colab-df-convert {\n",
              "      background-color: #3B4455;\n",
              "      fill: #D2E3FC;\n",
              "    }\n",
              "\n",
              "    [theme=dark] .colab-df-convert:hover {\n",
              "      background-color: #434B5C;\n",
              "      box-shadow: 0px 1px 3px 1px rgba(0, 0, 0, 0.15);\n",
              "      filter: drop-shadow(0px 1px 2px rgba(0, 0, 0, 0.3));\n",
              "      fill: #FFFFFF;\n",
              "    }\n",
              "  </style>\n",
              "\n",
              "      <script>\n",
              "        const buttonEl =\n",
              "          document.querySelector('#df-2373e1f2-350f-4898-949d-7b9e69efa580 button.colab-df-convert');\n",
              "        buttonEl.style.display =\n",
              "          google.colab.kernel.accessAllowed ? 'block' : 'none';\n",
              "\n",
              "        async function convertToInteractive(key) {\n",
              "          const element = document.querySelector('#df-2373e1f2-350f-4898-949d-7b9e69efa580');\n",
              "          const dataTable =\n",
              "            await google.colab.kernel.invokeFunction('convertToInteractive',\n",
              "                                                     [key], {});\n",
              "          if (!dataTable) return;\n",
              "\n",
              "          const docLinkHtml = 'Like what you see? Visit the ' +\n",
              "            '<a target=\"_blank\" href=https://colab.research.google.com/notebooks/data_table.ipynb>data table notebook</a>'\n",
              "            + ' to learn more about interactive tables.';\n",
              "          element.innerHTML = '';\n",
              "          dataTable['output_type'] = 'display_data';\n",
              "          await google.colab.output.renderOutput(dataTable, element);\n",
              "          const docLink = document.createElement('div');\n",
              "          docLink.innerHTML = docLinkHtml;\n",
              "          element.appendChild(docLink);\n",
              "        }\n",
              "      </script>\n",
              "    </div>\n",
              "  </div>\n",
              "  "
            ]
          },
          "metadata": {},
          "execution_count": 20
        }
      ]
    },
    {
      "cell_type": "code",
      "source": [
        "plt.style.use('ggplot')\n",
        "df['Volume'].plot(label='CLOSE', title='Apple stock Volume')"
      ],
      "metadata": {
        "colab": {
          "base_uri": "https://localhost:8080/",
          "height": 307
        },
        "outputId": "2adf4e15-d32d-48a4-85da-a15b85c72f69",
        "id": "xNtaUdEbbSba"
      },
      "execution_count": null,
      "outputs": [
        {
          "output_type": "execute_result",
          "data": {
            "text/plain": [
              "<matplotlib.axes._subplots.AxesSubplot at 0x7fe442c891c0>"
            ]
          },
          "metadata": {},
          "execution_count": 21
        },
        {
          "output_type": "display_data",
          "data": {
            "text/plain": [
              "<Figure size 432x288 with 1 Axes>"
            ],
            "image/png": "[encoded data removed]"
          },
          "metadata": {}
        }
      ]
    },
    {
      "cell_type": "code",
      "source": [
        "X = df.iloc[:, :-2]\n",
        "y = df.iloc[:, 4:5] "
      ],
      "metadata": {
        "id": "gUwS96L4bSbb"
      },
      "execution_count": null,
      "outputs": []
    },
    {
      "cell_type": "code",
      "source": [
        "y"
      ],
      "metadata": {
        "id": "VF35k4nJbSbc"
      },
      "execution_count": null,
      "outputs": []
    },
    {
      "cell_type": "code",
      "source": [
        "X"
      ],
      "metadata": {
        "id": "uojpKxlCbSbc"
      },
      "execution_count": null,
      "outputs": []
    },
    {
      "cell_type": "code",
      "source": [
        "from sklearn.preprocessing import StandardScaler, MinMaxScaler\n",
        "mm = MinMaxScaler()\n",
        "ss = StandardScaler()\n",
        "\n",
        "\n",
        "X_ss = ss.fit_transform(X)\n",
        "y_mm = mm.fit_transform(y) "
      ],
      "metadata": {
        "id": "eKJjv6GxbSbd"
      },
      "execution_count": null,
      "outputs": []
    },
    {
      "cell_type": "code",
      "source": [
        "#first 2200 for training\n",
        "\n",
        "X_train = X_ss[:2500, :]\n",
        "X_test = X_ss[2500:, :]\n",
        "\n",
        "y_train = y_mm[:2500, :]\n",
        "y_test = y_mm[2500:, :] "
      ],
      "metadata": {
        "id": "E7YMoO97bSbd"
      },
      "execution_count": null,
      "outputs": []
    },
    {
      "cell_type": "code",
      "source": [
        "print(\"Training Shape\", X_train.shape, y_train.shape)\n",
        "print(\"Testing Shape\", X_test.shape, y_test.shape) "
      ],
      "metadata": {
        "colab": {
          "base_uri": "https://localhost:8080/"
        },
        "outputId": "253a7c58-d69a-49b4-9d61-60b6db952b77",
        "id": "-b4DMXwRbSbe"
      },
      "execution_count": null,
      "outputs": [
        {
          "output_type": "stream",
          "name": "stdout",
          "text": [
            "Training Shape (2500, 4) (2500, 1)\n",
            "Testing Shape (519, 4) (519, 1)\n"
          ]
        }
      ]
    },
    {
      "cell_type": "code",
      "source": [
        "# Split the data into training and testing sets\n",
        "train_data = TensorDataset(torch.from_numpy(X_train), torch.from_numpy(y_train))\n",
        "test_data = TensorDataset(torch.from_numpy(X_test), torch.from_numpy(y_test))\n",
        "\n",
        "train_loader = DataLoader(train_data, batch_size=1, shuffle=True)\n",
        "test_loader = DataLoader(test_data, batch_size=1, shuffle=False)"
      ],
      "metadata": {
        "id": "qNJLcT75bSbf"
      },
      "execution_count": null,
      "outputs": []
    },
    {
      "cell_type": "code",
      "source": [
        "# Initialize the LSTM model\n",
        "# Define the input size, hidden size and number of outputs\n",
        "input_size = 4\n",
        "hidden_size = 6\n",
        "output_size = 1\n",
        "num_epochs= 5\n",
        "\n",
        "# Define the LSTM model and Linear output fully connected layer\n",
        "lstm = nn.LSTM(input_size, hidden_size, batch_first=True)\n",
        "fc = nn.Linear(hidden_size, output_size)\n",
        "\n",
        "# Define the loss function and optimizer\n",
        "criterion = nn.MSELoss()\n",
        "optimizer = optim.SGD(lstm.parameters(), lr=0.01)"
      ],
      "metadata": {
        "id": "VJNWLlMybSbf"
      },
      "execution_count": null,
      "outputs": []
    },
    {
      "cell_type": "code",
      "source": [
        "# Initializing Hyperparameters\n",
        "num_epochs = 50\n",
        "train_losses = []\n",
        "test_losses = []\n",
        "\n",
        "# Loop over the number of epochs\n",
        "for epoch in range(num_epochs):\n",
        "    train_loss = 0\n",
        "    # Initialize the hidden state and the cell state\n",
        "    # The hidden state and the cell state reset to zero for every epoch\n",
        "    hs = torch.zeros(1, hidden_size)\n",
        "    cs = torch.zeros(1, hidden_size)\n",
        "\n",
        "    # Get the input and target at position i\n",
        "    for i, (data, label) in enumerate(train_loader):\n",
        "        \n",
        "        hidden = (hs, cs)\n",
        "        # Run the forward pass\n",
        "        output, hidden = lstm(data.float(), hidden)\n",
        "        output = fc(hidden[-1])\n",
        "        hs = hs.detach()\n",
        "        cs = cs.detach()\n",
        "\n",
        "        # 2. Network Evaluation\n",
        "        loss = criterion(output, label.float())\n",
        "\n",
        "        # 3. Gradient Calculation\n",
        "        loss.backward()\n",
        "\n",
        "        # 4. Back Propagation\n",
        "        optimizer.step()\n",
        "        optimizer.zero_grad()\n",
        "\n",
        "        train_loss += loss.item()\n",
        "\n",
        "    # Calculate the average training loss\n",
        "    train_loss = train_loss / len(train_loader)\n",
        "    train_losses.append(train_loss)\n",
        "\n",
        "# Plot the MSE loss for each epoch\n",
        "plt.plot(train_losses)\n",
        "plt.xlabel('Epoch')\n",
        "plt.ylabel('MSE Loss')\n",
        "plt.title('Training Loss over Epochs')\n",
        "plt.show()"
      ],
      "metadata": {
        "colab": {
          "base_uri": "https://localhost:8080/",
          "height": 299
        },
        "id": "l1ooLZXxbSbg",
        "outputId": "7ac23dbc-f40b-43a2-bc04-90e27571b8be"
      },
      "execution_count": null,
      "outputs": [
        {
          "output_type": "display_data",
          "data": {
            "text/plain": [
              "<Figure size 432x288 with 1 Axes>"
            ],
            "image/png": "[encoded data removed]"
          },
          "metadata": {}
        }
      ]
    },
    {
      "cell_type": "code",
      "source": [
        "# Evaluate the LSTM model\n",
        "mse = 0\n",
        "\n",
        "#By wrapping the evaluation code in a with torch.no_grad() context, \n",
        "#you can avoid unnecessary memory usage and speed up the evaluation process.\n",
        "with torch.no_grad():\n",
        "    # Initialize the hidden state and the cell state\n",
        "    # The hidden state and the cell state reset to zero for every epoch\n",
        "    hs = torch.zeros(1, hidden_size)\n",
        "    cs = torch.zeros(1, hidden_size)\n",
        "\n",
        "    for data, label in test_loader:\n",
        "        hidden = (hs, cs)\n",
        "        output, hidden = lstm(data.float(), hidden)\n",
        "        output = fc(hidden[-1])\n",
        "        hs = hs.detach()\n",
        "        cs = cs.detach()\n",
        "        \n",
        "        mse += ((output - label)**2).mean().item()\n",
        "\n",
        "mse /= len(test_loader)\n",
        "print('Test MSE: {}'.format(mse))"
      ],
      "metadata": {
        "colab": {
          "base_uri": "https://localhost:8080/"
        },
        "outputId": "f6cde8a0-0410-4be4-e76e-0056679bcaf9",
        "id": "4ae5pbrsbSbh"
      },
      "execution_count": null,
      "outputs": [
        {
          "output_type": "stream",
          "name": "stdout",
          "text": [
            "Test MSE: 0.001265097954979077\n"
          ]
        }
      ]
    },
    {
      "cell_type": "code",
      "source": [
        "output_list = []\n",
        "\n",
        "# Initialize the hidden state and the cell state\n",
        "# The hidden state and the cell state reset to zero for every epoch\n",
        "hs = torch.zeros(1, hidden_size)\n",
        "cs = torch.zeros(1, hidden_size)\n",
        "for i, (data, label) in enumerate(test_loader):\n",
        "    hidden = (hs, cs)\n",
        "    \n",
        "    # Run the forward pass\n",
        "    output, hidden = lstm(data.float(), hidden)\n",
        "    output = fc(hidden[-1])\n",
        "    hs = hs.detach()\n",
        "    cs = cs.detach()\n",
        "    output_list.append(output.detach().numpy()[0][0])\n",
        "    \n",
        "for i, (data, label) in enumerate(train_loader):\n",
        "    hidden = (hs, cs)\n",
        "\n",
        "    # Run the forward pass\n",
        "    output, hidden = lstm(data.float(), hidden)\n",
        "    output = fc(hidden[-1])\n",
        "    hs = hs.detach()\n",
        "    cs = cs.detach()\n",
        "    output_list.append(output.detach().numpy()[0][0])"
      ],
      "metadata": {
        "id": "f83jozr-bSbi"
      },
      "execution_count": null,
      "outputs": []
    },
    {
      "cell_type": "code",
      "source": [
        "data_predict[0]"
      ],
      "metadata": {
        "id": "r0Y4hxxCbSbi"
      },
      "execution_count": null,
      "outputs": []
    },
    {
      "cell_type": "code",
      "source": [
        "# train_predict = lstm(X_ss)#forward pass\n",
        "# data_predict = train_predict.data.numpy() #numpy conversion\n",
        "# dataY_plot = y.Volume.values\n",
        "# data_predict = output_list\n",
        "\n",
        "data_predict = mm.inverse_transform([output_list]) #reverse transformation\n",
        "dataY_plot = mm.inverse_transform(dataY_plot)\n",
        "plt.figure(figsize=(10,6)) #plotting\n",
        "plt.axvline(x=2500, c='r', linestyle='--') #size of the training set\n",
        "\n",
        "plt.plot(dataY_plot, label='Actuall Data') #actual plot\n",
        "plt.plot(data_predict[0], label='Predicted Data') #predicted plot\n",
        "plt.title('Time-Series Prediction')\n",
        "plt.legend()\n",
        "plt.show() "
      ],
      "metadata": {
        "colab": {
          "base_uri": "https://localhost:8080/",
          "height": 393
        },
        "id": "rHHa-vawbSbi",
        "outputId": "bccf67d6-dab1-409d-bd02-6dfeb6f59163"
      },
      "execution_count": null,
      "outputs": [
        {
          "output_type": "error",
          "ename": "AttributeError",
          "evalue": "ignored",
          "traceback": [
            "\u001b[0;31m---------------------------------------------------------------------------\u001b[0m",
            "\u001b[0;31mAttributeError\u001b[0m                            Traceback (most recent call last)",
            "\u001b[0;32m<ipython-input-32-eed9da42ef3e>\u001b[0m in \u001b[0;36m<module>\u001b[0;34m\u001b[0m\n\u001b[0;32m----> 1\u001b[0;31m \u001b[0mtrain_predict\u001b[0m \u001b[0;34m=\u001b[0m \u001b[0mlstm\u001b[0m\u001b[0;34m(\u001b[0m\u001b[0mX_ss\u001b[0m\u001b[0;34m)\u001b[0m\u001b[0;31m#forward pass\u001b[0m\u001b[0;34m\u001b[0m\u001b[0;34m\u001b[0m\u001b[0m\n\u001b[0m\u001b[1;32m      2\u001b[0m \u001b[0mdata_predict\u001b[0m \u001b[0;34m=\u001b[0m \u001b[0mtrain_predict\u001b[0m\u001b[0;34m.\u001b[0m\u001b[0mdata\u001b[0m\u001b[0;34m.\u001b[0m\u001b[0mnumpy\u001b[0m\u001b[0;34m(\u001b[0m\u001b[0;34m)\u001b[0m \u001b[0;31m#numpy conversion\u001b[0m\u001b[0;34m\u001b[0m\u001b[0;34m\u001b[0m\u001b[0m\n\u001b[1;32m      3\u001b[0m \u001b[0mdataY_plot\u001b[0m \u001b[0;34m=\u001b[0m \u001b[0my\u001b[0m\u001b[0;34m.\u001b[0m\u001b[0mVolume\u001b[0m\u001b[0;34m.\u001b[0m\u001b[0mvalues\u001b[0m\u001b[0;34m\u001b[0m\u001b[0;34m\u001b[0m\u001b[0m\n\u001b[1;32m      4\u001b[0m \u001b[0mdata_predict\u001b[0m \u001b[0;34m=\u001b[0m \u001b[0moutput_list\u001b[0m\u001b[0;34m\u001b[0m\u001b[0;34m\u001b[0m\u001b[0m\n\u001b[1;32m      5\u001b[0m \u001b[0;34m\u001b[0m\u001b[0m\n",
            "\u001b[0;32m/usr/local/lib/python3.8/dist-packages/torch/nn/modules/module.py\u001b[0m in \u001b[0;36m_call_impl\u001b[0;34m(self, *input, **kwargs)\u001b[0m\n\u001b[1;32m   1192\u001b[0m         if not (self._backward_hooks or self._forward_hooks or self._forward_pre_hooks or _global_backward_hooks\n\u001b[1;32m   1193\u001b[0m                 or _global_forward_hooks or _global_forward_pre_hooks):\n\u001b[0;32m-> 1194\u001b[0;31m             \u001b[0;32mreturn\u001b[0m \u001b[0mforward_call\u001b[0m\u001b[0;34m(\u001b[0m\u001b[0;34m*\u001b[0m\u001b[0minput\u001b[0m\u001b[0;34m,\u001b[0m \u001b[0;34m**\u001b[0m\u001b[0mkwargs\u001b[0m\u001b[0;34m)\u001b[0m\u001b[0;34m\u001b[0m\u001b[0;34m\u001b[0m\u001b[0m\n\u001b[0m\u001b[1;32m   1195\u001b[0m         \u001b[0;31m# Do not call functions when jit is used\u001b[0m\u001b[0;34m\u001b[0m\u001b[0;34m\u001b[0m\u001b[0;34m\u001b[0m\u001b[0m\n\u001b[1;32m   1196\u001b[0m         \u001b[0mfull_backward_hooks\u001b[0m\u001b[0;34m,\u001b[0m \u001b[0mnon_full_backward_hooks\u001b[0m \u001b[0;34m=\u001b[0m \u001b[0;34m[\u001b[0m\u001b[0;34m]\u001b[0m\u001b[0;34m,\u001b[0m \u001b[0;34m[\u001b[0m\u001b[0;34m]\u001b[0m\u001b[0;34m\u001b[0m\u001b[0;34m\u001b[0m\u001b[0m\n",
            "\u001b[0;32m/usr/local/lib/python3.8/dist-packages/torch/nn/modules/rnn.py\u001b[0m in \u001b[0;36mforward\u001b[0;34m(self, input, hx)\u001b[0m\n\u001b[1;32m    734\u001b[0m         \u001b[0;32melse\u001b[0m\u001b[0;34m:\u001b[0m\u001b[0;34m\u001b[0m\u001b[0;34m\u001b[0m\u001b[0m\n\u001b[1;32m    735\u001b[0m             \u001b[0mbatch_sizes\u001b[0m \u001b[0;34m=\u001b[0m \u001b[0;32mNone\u001b[0m\u001b[0;34m\u001b[0m\u001b[0;34m\u001b[0m\u001b[0m\n\u001b[0;32m--> 736\u001b[0;31m             \u001b[0mis_batched\u001b[0m \u001b[0;34m=\u001b[0m \u001b[0minput\u001b[0m\u001b[0;34m.\u001b[0m\u001b[0mdim\u001b[0m\u001b[0;34m(\u001b[0m\u001b[0;34m)\u001b[0m \u001b[0;34m==\u001b[0m \u001b[0;36m3\u001b[0m\u001b[0;34m\u001b[0m\u001b[0;34m\u001b[0m\u001b[0m\n\u001b[0m\u001b[1;32m    737\u001b[0m             \u001b[0mbatch_dim\u001b[0m \u001b[0;34m=\u001b[0m \u001b[0;36m0\u001b[0m \u001b[0;32mif\u001b[0m \u001b[0mself\u001b[0m\u001b[0;34m.\u001b[0m\u001b[0mbatch_first\u001b[0m \u001b[0;32melse\u001b[0m \u001b[0;36m1\u001b[0m\u001b[0;34m\u001b[0m\u001b[0;34m\u001b[0m\u001b[0m\n\u001b[1;32m    738\u001b[0m             \u001b[0;32mif\u001b[0m \u001b[0;32mnot\u001b[0m \u001b[0mis_batched\u001b[0m\u001b[0;34m:\u001b[0m\u001b[0;34m\u001b[0m\u001b[0;34m\u001b[0m\u001b[0m\n",
            "\u001b[0;31mAttributeError\u001b[0m: 'numpy.ndarray' object has no attribute 'dim'"
          ]
        }
      ]
    },
    {
      "cell_type": "code",
      "source": [
        "# Save the trained RNN model\n",
        "torch.save(lstm.state_dict(), 'lstm.pt')\n",
        "\n",
        "# Load the model\n",
        "rnn = nn.LSTM(input_size, hidden_size, batch_first=True)\n",
        "rnn.load_state_dict(torch.load('lstm.pt'))"
      ],
      "metadata": {
        "id": "aBGcbIPMbSbj"
      },
      "execution_count": null,
      "outputs": []
    },
    {
      "cell_type": "code",
      "source": [],
      "metadata": {
        "id": "lYdzgm2GbD7W"
      },
      "execution_count": null,
      "outputs": []
    },
    {
      "cell_type": "markdown",
      "source": [
        "# Stock prediction LSTM test from article"
      ],
      "metadata": {
        "id": "JKTvW5doeEG3"
      }
    },
    {
      "cell_type": "code",
      "source": [
        "import torch\n",
        "import pandas as pd\n",
        "import torch.nn as nn\n",
        "import torch.optim as optim\n",
        "import numpy as np\n",
        "from torch.utils.data import DataLoader, TensorDataset\n",
        "from sklearn.preprocessing import MinMaxScaler\n",
        "import matplotlib.pyplot as plt"
      ],
      "metadata": {
        "id": "9tVSUuT1ecn5"
      },
      "execution_count": null,
      "outputs": []
    },
    {
      "cell_type": "code",
      "source": [
        "import numpy as np\n",
        "import pandas as pd\n",
        "import matplotlib.pyplot as plt\n",
        "\n",
        "df = pd.read_csv('https://raw.githubusercontent.com/CNielsen94/NN_exercises_AAUBSDS/main/Assignment%202%20-%20CNN%20and%20RNN/AAPL_2006-01-01_to_2018-01-01.csv', parse_dates=True)"
      ],
      "metadata": {
        "id": "qPug50L7ecn6"
      },
      "execution_count": null,
      "outputs": []
    },
    {
      "cell_type": "code",
      "source": [
        "df.head()"
      ],
      "metadata": {
        "colab": {
          "base_uri": "https://localhost:8080/",
          "height": 206
        },
        "outputId": "ad154bdc-4ae7-4ab6-e7f7-14a920ea5f37",
        "id": "0cDbqZ6Mecn6"
      },
      "execution_count": null,
      "outputs": [
        {
          "output_type": "execute_result",
          "data": {
            "text/plain": [
              "         Date   Open   High    Low  Close     Volume  Name\n",
              "0  2006-01-03  10.34  10.68  10.32  10.68  201853036  AAPL\n",
              "1  2006-01-04  10.73  10.85  10.64  10.71  155225609  AAPL\n",
              "2  2006-01-05  10.69  10.70  10.54  10.63  112396081  AAPL\n",
              "3  2006-01-06  10.75  10.96  10.65  10.90  176139334  AAPL\n",
              "4  2006-01-09  10.96  11.03  10.82  10.86  168861224  AAPL"
            ],
            "text/html": [
              "\n",
              "  <div id=\"df-66faa779-7c3e-4503-b5f1-0c22882cf54d\">\n",
              "    <div class=\"colab-df-container\">\n",
              "      <div>\n",
              "<style scoped>\n",
              "    .dataframe tbody tr th:only-of-type {\n",
              "        vertical-align: middle;\n",
              "    }\n",
              "\n",
              "    .dataframe tbody tr th {\n",
              "        vertical-align: top;\n",
              "    }\n",
              "\n",
              "    .dataframe thead th {\n",
              "        text-align: right;\n",
              "    }\n",
              "</style>\n",
              "<table border=\"1\" class=\"dataframe\">\n",
              "  <thead>\n",
              "    <tr style=\"text-align: right;\">\n",
              "      <th></th>\n",
              "      <th>Date</th>\n",
              "      <th>Open</th>\n",
              "      <th>High</th>\n",
              "      <th>Low</th>\n",
              "      <th>Close</th>\n",
              "      <th>Volume</th>\n",
              "      <th>Name</th>\n",
              "    </tr>\n",
              "  </thead>\n",
              "  <tbody>\n",
              "    <tr>\n",
              "      <th>0</th>\n",
              "      <td>2006-01-03</td>\n",
              "      <td>10.34</td>\n",
              "      <td>10.68</td>\n",
              "      <td>10.32</td>\n",
              "      <td>10.68</td>\n",
              "      <td>201853036</td>\n",
              "      <td>AAPL</td>\n",
              "    </tr>\n",
              "    <tr>\n",
              "      <th>1</th>\n",
              "      <td>2006-01-04</td>\n",
              "      <td>10.73</td>\n",
              "      <td>10.85</td>\n",
              "      <td>10.64</td>\n",
              "      <td>10.71</td>\n",
              "      <td>155225609</td>\n",
              "      <td>AAPL</td>\n",
              "    </tr>\n",
              "    <tr>\n",
              "      <th>2</th>\n",
              "      <td>2006-01-05</td>\n",
              "      <td>10.69</td>\n",
              "      <td>10.70</td>\n",
              "      <td>10.54</td>\n",
              "      <td>10.63</td>\n",
              "      <td>112396081</td>\n",
              "      <td>AAPL</td>\n",
              "    </tr>\n",
              "    <tr>\n",
              "      <th>3</th>\n",
              "      <td>2006-01-06</td>\n",
              "      <td>10.75</td>\n",
              "      <td>10.96</td>\n",
              "      <td>10.65</td>\n",
              "      <td>10.90</td>\n",
              "      <td>176139334</td>\n",
              "      <td>AAPL</td>\n",
              "    </tr>\n",
              "    <tr>\n",
              "      <th>4</th>\n",
              "      <td>2006-01-09</td>\n",
              "      <td>10.96</td>\n",
              "      <td>11.03</td>\n",
              "      <td>10.82</td>\n",
              "      <td>10.86</td>\n",
              "      <td>168861224</td>\n",
              "      <td>AAPL</td>\n",
              "    </tr>\n",
              "  </tbody>\n",
              "</table>\n",
              "</div>\n",
              "      <button class=\"colab-df-convert\" onclick=\"convertToInteractive('df-66faa779-7c3e-4503-b5f1-0c22882cf54d')\"\n",
              "              title=\"Convert this dataframe to an interactive table.\"\n",
              "              style=\"display:none;\">\n",
              "        \n",
              "  <svg xmlns=\"http://www.w3.org/2000/svg\" height=\"24px\"viewBox=\"0 0 24 24\"\n",
              "       width=\"24px\">\n",
              "    <path d=\"M0 0h24v24H0V0z\" fill=\"none\"/>\n",
              "    <path d=\"M18.56 5.44l.94 2.06.94-2.06 2.06-.94-2.06-.94-.94-2.06-.94 2.06-2.06.94zm-11 1L8.5 8.5l.94-2.06 2.06-.94-2.06-.94L8.5 2.5l-.94 2.06-2.06.94zm10 10l.94 2.06.94-2.06 2.06-.94-2.06-.94-.94-2.06-.94 2.06-2.06.94z\"/><path d=\"M17.41 7.96l-1.37-1.37c-.4-.4-.92-.59-1.43-.59-.52 0-1.04.2-1.43.59L10.3 9.45l-7.72 7.72c-.78.78-.78 2.05 0 2.83L4 21.41c.39.39.9.59 1.41.59.51 0 1.02-.2 1.41-.59l7.78-7.78 2.81-2.81c.8-.78.8-2.07 0-2.86zM5.41 20L4 18.59l7.72-7.72 1.47 1.35L5.41 20z\"/>\n",
              "  </svg>\n",
              "      </button>\n",
              "      \n",
              "  <style>\n",
              "    .colab-df-container {\n",
              "      display:flex;\n",
              "      flex-wrap:wrap;\n",
              "      gap: 12px;\n",
              "    }\n",
              "\n",
              "    .colab-df-convert {\n",
              "      background-color: #E8F0FE;\n",
              "      border: none;\n",
              "      border-radius: 50%;\n",
              "      cursor: pointer;\n",
              "      display: none;\n",
              "      fill: #1967D2;\n",
              "      height: 32px;\n",
              "      padding: 0 0 0 0;\n",
              "      width: 32px;\n",
              "    }\n",
              "\n",
              "    .colab-df-convert:hover {\n",
              "      background-color: #E2EBFA;\n",
              "      box-shadow: 0px 1px 2px rgba(60, 64, 67, 0.3), 0px 1px 3px 1px rgba(60, 64, 67, 0.15);\n",
              "      fill: #174EA6;\n",
              "    }\n",
              "\n",
              "    [theme=dark] .colab-df-convert {\n",
              "      background-color: #3B4455;\n",
              "      fill: #D2E3FC;\n",
              "    }\n",
              "\n",
              "    [theme=dark] .colab-df-convert:hover {\n",
              "      background-color: #434B5C;\n",
              "      box-shadow: 0px 1px 3px 1px rgba(0, 0, 0, 0.15);\n",
              "      filter: drop-shadow(0px 1px 2px rgba(0, 0, 0, 0.3));\n",
              "      fill: #FFFFFF;\n",
              "    }\n",
              "  </style>\n",
              "\n",
              "      <script>\n",
              "        const buttonEl =\n",
              "          document.querySelector('#df-66faa779-7c3e-4503-b5f1-0c22882cf54d button.colab-df-convert');\n",
              "        buttonEl.style.display =\n",
              "          google.colab.kernel.accessAllowed ? 'block' : 'none';\n",
              "\n",
              "        async function convertToInteractive(key) {\n",
              "          const element = document.querySelector('#df-66faa779-7c3e-4503-b5f1-0c22882cf54d');\n",
              "          const dataTable =\n",
              "            await google.colab.kernel.invokeFunction('convertToInteractive',\n",
              "                                                     [key], {});\n",
              "          if (!dataTable) return;\n",
              "\n",
              "          const docLinkHtml = 'Like what you see? Visit the ' +\n",
              "            '<a target=\"_blank\" href=https://colab.research.google.com/notebooks/data_table.ipynb>data table notebook</a>'\n",
              "            + ' to learn more about interactive tables.';\n",
              "          element.innerHTML = '';\n",
              "          dataTable['output_type'] = 'display_data';\n",
              "          await google.colab.output.renderOutput(dataTable, element);\n",
              "          const docLink = document.createElement('div');\n",
              "          docLink.innerHTML = docLinkHtml;\n",
              "          element.appendChild(docLink);\n",
              "        }\n",
              "      </script>\n",
              "    </div>\n",
              "  </div>\n",
              "  "
            ]
          },
          "metadata": {},
          "execution_count": 29
        }
      ]
    },
    {
      "cell_type": "code",
      "source": [
        "price = df[['Close']]\n",
        "scaler = MinMaxScaler(feature_range=(-1, 1))\n",
        "price['Close'] = scaler.fit_transform(price['Close'].values.reshape(-1,1))"
      ],
      "metadata": {
        "id": "DDsjDpWNeh-m",
        "outputId": "242a002e-f3ea-42b8-f9ba-4bb6738c918b",
        "colab": {
          "base_uri": "https://localhost:8080/"
        }
      },
      "execution_count": null,
      "outputs": [
        {
          "output_type": "stream",
          "name": "stderr",
          "text": [
            "<ipython-input-33-f87f87249f99>:3: SettingWithCopyWarning: \n",
            "A value is trying to be set on a copy of a slice from a DataFrame.\n",
            "Try using .loc[row_indexer,col_indexer] = value instead\n",
            "\n",
            "See the caveats in the documentation: https://pandas.pydata.org/pandas-docs/stable/user_guide/indexing.html#returning-a-view-versus-a-copy\n",
            "  price['Close'] = scaler.fit_transform(price['Close'].values.reshape(-1,1))\n"
          ]
        }
      ]
    },
    {
      "cell_type": "code",
      "source": [
        "def split_data(stock, lookback):\n",
        "    data_raw = stock.to_numpy() # convert to numpy array\n",
        "    data = []\n",
        "    \n",
        "    # create all possible sequences of length seq_len\n",
        "    for index in range(len(data_raw) - lookback): \n",
        "        data.append(data_raw[index: index + lookback])\n",
        "    \n",
        "    data = np.array(data);\n",
        "    test_set_size = int(np.round(0.2*data.shape[0]));\n",
        "    train_set_size = data.shape[0] - (test_set_size);\n",
        "    \n",
        "    x_train = data[:train_set_size,:-1,:]\n",
        "    y_train = data[:train_set_size,-1,:]\n",
        "    \n",
        "    x_test = data[train_set_size:,:-1]\n",
        "    y_test = data[train_set_size:,-1,:]\n",
        "    \n",
        "    return [x_train, y_train, x_test, y_test]\n",
        "lookback = 20 # choose sequence length\n",
        "x_train, y_train, x_test, y_test = split_data(price, lookback)"
      ],
      "metadata": {
        "id": "hsq5hg5-ejFT"
      },
      "execution_count": null,
      "outputs": []
    },
    {
      "cell_type": "code",
      "source": [
        "import torch\n",
        "import torch.nn as nn\n",
        "x_train = torch.from_numpy(x_train).type(torch.Tensor)\n",
        "x_test = torch.from_numpy(x_test).type(torch.Tensor)\n",
        "y_train_lstm = torch.from_numpy(y_train).type(torch.Tensor)\n",
        "y_test_lstm = torch.from_numpy(y_test).type(torch.Tensor)\n",
        "y_train_gru = torch.from_numpy(y_train).type(torch.Tensor)\n",
        "y_test_gru = torch.from_numpy(y_test).type(torch.Tensor)"
      ],
      "metadata": {
        "id": "ZPwooxOYge3x"
      },
      "execution_count": null,
      "outputs": []
    },
    {
      "cell_type": "code",
      "source": [
        "input_dim = 1\n",
        "hidden_dim = 32\n",
        "num_layers = 2\n",
        "output_dim = 1\n",
        "num_epochs = 100"
      ],
      "metadata": {
        "id": "hYEF2GKugjt9"
      },
      "execution_count": null,
      "outputs": []
    },
    {
      "cell_type": "code",
      "source": [
        "class LSTM(nn.Module):\n",
        "    def __init__(self, input_dim, hidden_dim, num_layers, output_dim):\n",
        "        super(LSTM, self).__init__()\n",
        "        self.hidden_dim = hidden_dim\n",
        "        self.num_layers = num_layers\n",
        "        \n",
        "        self.lstm = nn.LSTM(input_dim, hidden_dim, num_layers, batch_first=True)\n",
        "        self.fc = nn.Linear(hidden_dim, output_dim)\n",
        "    def forward(self, x):\n",
        "        h0 = torch.zeros(self.num_layers, x.size(0), self.hidden_dim).requires_grad_()\n",
        "        c0 = torch.zeros(self.num_layers, x.size(0), self.hidden_dim).requires_grad_()\n",
        "        out, (hn, cn) = self.lstm(x, (h0.detach(), c0.detach()))\n",
        "        out = self.fc(out[:, -1, :]) \n",
        "        return out"
      ],
      "metadata": {
        "id": "jXhpLSkjgny5"
      },
      "execution_count": null,
      "outputs": []
    },
    {
      "cell_type": "code",
      "source": [
        "model = LSTM(input_dim=input_dim, hidden_dim=hidden_dim, output_dim=output_dim, num_layers=num_layers)\n",
        "criterion = torch.nn.MSELoss(reduction='mean')\n",
        "optimiser = torch.optim.Adam(model.parameters(), lr=0.01)"
      ],
      "metadata": {
        "id": "ji_pZbOBgytB"
      },
      "execution_count": null,
      "outputs": []
    },
    {
      "cell_type": "code",
      "source": [
        "import time\n",
        "hist = np.zeros(num_epochs)\n",
        "start_time = time.time()\n",
        "lstm = []\n",
        "for t in range(num_epochs):\n",
        "    y_train_pred = model(x_train)\n",
        "    loss = criterion(y_train_pred, y_train_lstm)\n",
        "    print(\"Epoch \", t, \"MSE: \", loss.item())\n",
        "    hist[t] = loss.item()\n",
        "    optimiser.zero_grad()\n",
        "    loss.backward()\n",
        "    optimiser.step()\n",
        "    \n",
        "training_time = time.time()-start_time\n",
        "print(\"Training time: {}\".format(training_time))"
      ],
      "metadata": {
        "id": "klDCTZC6gzos",
        "outputId": "a81c3198-f6dc-455c-e6e8-5020e1015f48",
        "colab": {
          "base_uri": "https://localhost:8080/"
        }
      },
      "execution_count": null,
      "outputs": [
        {
          "output_type": "stream",
          "name": "stdout",
          "text": [
            "Epoch  0 MSE:  0.27596357464790344\n",
            "Epoch  1 MSE:  0.19002118706703186\n",
            "Epoch  2 MSE:  0.14383383095264435\n",
            "Epoch  3 MSE:  0.18902045488357544\n",
            "Epoch  4 MSE:  0.13110511004924774\n",
            "Epoch  5 MSE:  0.11463934928178787\n",
            "Epoch  6 MSE:  0.11158068478107452\n",
            "Epoch  7 MSE:  0.0997098982334137\n",
            "Epoch  8 MSE:  0.06789731979370117\n",
            "Epoch  9 MSE:  0.029556849971413612\n",
            "Epoch  10 MSE:  0.05805285647511482\n",
            "Epoch  11 MSE:  0.021408183500170708\n",
            "Epoch  12 MSE:  0.009405575692653656\n",
            "Epoch  13 MSE:  0.031474098563194275\n",
            "Epoch  14 MSE:  0.03380841761827469\n",
            "Epoch  15 MSE:  0.01834254153072834\n",
            "Epoch  16 MSE:  0.006153034511953592\n",
            "Epoch  17 MSE:  0.006142727565020323\n",
            "Epoch  18 MSE:  0.013038773089647293\n",
            "Epoch  19 MSE:  0.016663892194628716\n",
            "Epoch  20 MSE:  0.014284878969192505\n",
            "Epoch  21 MSE:  0.010443804785609245\n",
            "Epoch  22 MSE:  0.008652355521917343\n",
            "Epoch  23 MSE:  0.008617477491497993\n",
            "Epoch  24 MSE:  0.008767519146203995\n",
            "Epoch  25 MSE:  0.008415792137384415\n",
            "Epoch  26 MSE:  0.007498626131564379\n",
            "Epoch  27 MSE:  0.005828649736940861\n",
            "Epoch  28 MSE:  0.004163908772170544\n",
            "Epoch  29 MSE:  0.003642153460532427\n",
            "Epoch  30 MSE:  0.0036771800369024277\n",
            "Epoch  31 MSE:  0.003083590418100357\n",
            "Epoch  32 MSE:  0.0023653218522667885\n",
            "Epoch  33 MSE:  0.0026703649200499058\n",
            "Epoch  34 MSE:  0.0036314602475613356\n",
            "Epoch  35 MSE:  0.0038726453203707933\n",
            "Epoch  36 MSE:  0.0029956114012748003\n",
            "Epoch  37 MSE:  0.0020745520014315844\n",
            "Epoch  38 MSE:  0.002072063274681568\n",
            "Epoch  39 MSE:  0.002358917845413089\n",
            "Epoch  40 MSE:  0.0019617057405412197\n",
            "Epoch  41 MSE:  0.0013607091968879104\n",
            "Epoch  42 MSE:  0.0013440684415400028\n",
            "Epoch  43 MSE:  0.0015467135235667229\n",
            "Epoch  44 MSE:  0.0013022831408306956\n",
            "Epoch  45 MSE:  0.0007656675879843533\n",
            "Epoch  46 MSE:  0.0005790346767753363\n",
            "Epoch  47 MSE:  0.0008740517660044134\n",
            "Epoch  48 MSE:  0.0011295542353764176\n",
            "Epoch  49 MSE:  0.0010428744135424495\n",
            "Epoch  50 MSE:  0.0008934543002396822\n",
            "Epoch  51 MSE:  0.0009177925530821085\n",
            "Epoch  52 MSE:  0.0009633386507630348\n",
            "Epoch  53 MSE:  0.0008613366517238319\n",
            "Epoch  54 MSE:  0.0007210879120975733\n",
            "Epoch  55 MSE:  0.0007043051300570369\n",
            "Epoch  56 MSE:  0.0007208789465948939\n",
            "Epoch  57 MSE:  0.000608431757427752\n",
            "Epoch  58 MSE:  0.0004722476878669113\n",
            "Epoch  59 MSE:  0.0004955532494932413\n",
            "Epoch  60 MSE:  0.0005963461589999497\n",
            "Epoch  61 MSE:  0.0006001778529025614\n",
            "Epoch  62 MSE:  0.0005478317616507411\n",
            "Epoch  63 MSE:  0.0005636414862237871\n",
            "Epoch  64 MSE:  0.0005946160526946187\n",
            "Epoch  65 MSE:  0.0005552888615056872\n",
            "Epoch  66 MSE:  0.0005204622284509242\n",
            "Epoch  67 MSE:  0.0005383281968533993\n",
            "Epoch  68 MSE:  0.0005289436667226255\n",
            "Epoch  69 MSE:  0.00047115868073888123\n",
            "Epoch  70 MSE:  0.00044439887278713286\n",
            "Epoch  71 MSE:  0.0004636275989469141\n",
            "Epoch  72 MSE:  0.0004674905212596059\n",
            "Epoch  73 MSE:  0.0004544830007944256\n",
            "Epoch  74 MSE:  0.00046280756941996515\n",
            "Epoch  75 MSE:  0.0004752962850034237\n",
            "Epoch  76 MSE:  0.0004643257416319102\n",
            "Epoch  77 MSE:  0.000453299522632733\n",
            "Epoch  78 MSE:  0.00046132627176120877\n",
            "Epoch  79 MSE:  0.0004616333171725273\n",
            "Epoch  80 MSE:  0.0004426933010108769\n",
            "Epoch  81 MSE:  0.00043132490827701986\n",
            "Epoch  82 MSE:  0.00043356051901355386\n",
            "Epoch  83 MSE:  0.0004304395988583565\n",
            "Epoch  84 MSE:  0.00042463766294531524\n",
            "Epoch  85 MSE:  0.00042851571924984455\n",
            "Epoch  86 MSE:  0.00043169077252969146\n",
            "Epoch  87 MSE:  0.00042640059837140143\n",
            "Epoch  88 MSE:  0.0004250738420523703\n",
            "Epoch  89 MSE:  0.0004290921788197011\n",
            "Epoch  90 MSE:  0.0004268321208655834\n",
            "Epoch  91 MSE:  0.0004210133629385382\n",
            "Epoch  92 MSE:  0.0004196596273686737\n",
            "Epoch  93 MSE:  0.00041809718823060393\n",
            "Epoch  94 MSE:  0.000413920875871554\n",
            "Epoch  95 MSE:  0.00041325631900690496\n",
            "Epoch  96 MSE:  0.00041475603939034045\n",
            "Epoch  97 MSE:  0.00041309677180834115\n",
            "Epoch  98 MSE:  0.0004113239992875606\n",
            "Epoch  99 MSE:  0.0004123091930523515\n",
            "Training time: 22.987714052200317\n"
          ]
        }
      ]
    },
    {
      "cell_type": "code",
      "source": [
        "predict = pd.DataFrame(scaler.inverse_transform(y_train_pred.detach().numpy()))\n",
        "original = pd.DataFrame(scaler.inverse_transform(y_train_lstm.detach().numpy()))"
      ],
      "metadata": {
        "id": "BLx1TcYWkJwe"
      },
      "execution_count": null,
      "outputs": []
    },
    {
      "cell_type": "code",
      "source": [
        "import seaborn as sns\n",
        "sns.set_style(\"darkgrid\")    \n",
        "\n",
        "fig = plt.figure()\n",
        "fig.subplots_adjust(hspace=0.2, wspace=0.2)\n",
        "\n",
        "plt.subplot(1, 2, 1)\n",
        "ax = sns.lineplot(x = original.index, y = original[0], label=\"Data\", color='royalblue')\n",
        "ax = sns.lineplot(x = predict.index, y = predict[0], label=\"Training Prediction (LSTM)\", color='tomato')\n",
        "ax.set_title('Stock price', size = 14, fontweight='bold')\n",
        "ax.set_xlabel(\"Years\", size = 14)\n",
        "ax.set_ylabel(\"Cost (USD)\", size = 14)\n",
        "ax.set_xticklabels('', size=10)\n",
        "\n",
        "\n",
        "plt.subplot(1, 2, 2)\n",
        "ax = sns.lineplot(data=hist, color='royalblue')\n",
        "ax.set_xlabel(\"Epoch\", size = 14)\n",
        "ax.set_ylabel(\"Loss\", size = 14)\n",
        "ax.set_title(\"Training Loss\", size = 14, fontweight='bold')\n",
        "fig.set_figheight(6)\n",
        "fig.set_figwidth(16)"
      ],
      "metadata": {
        "id": "GrE4cmw0kJoX",
        "outputId": "d0a95593-9477-46fe-d8b0-037f3f3265f2",
        "colab": {
          "base_uri": "https://localhost:8080/",
          "height": 409
        }
      },
      "execution_count": null,
      "outputs": [
        {
          "output_type": "display_data",
          "data": {
            "text/plain": [
              "<Figure size 1152x432 with 2 Axes>"
            ],
            "image/png": "[encoded data removed]"
          },
          "metadata": {}
        }
      ]
    },
    {
      "cell_type": "code",
      "source": [
        "# train_predict = lstm(X_ss)#forward pass\n",
        "# data_predict = train_predict.data.numpy() #numpy conversion\n",
        "dataY_plot = y.Volume.values\n",
        "# data_predict = output_list\n",
        "\n",
        "data_predict = mm.inverse_transform([output_list]) #reverse transformation\n",
        "# dataY_plot = mm.inverse_transform(dataY_plot)\n",
        "plt.figure(figsize=(10,6)) #plotting\n",
        "plt.axvline(x=2200, c='r', linestyle='--') #size of the training set\n",
        "\n",
        "plt.plot(dataY_plot, label='Actuall Data') #actual plot\n",
        "plt.plot(data_predict[0], label='Predicted Data') #predicted plot\n",
        "plt.title('Time-Series Prediction')\n",
        "plt.legend()\n",
        "plt.show() "
      ],
      "metadata": {
        "id": "46vaykwyjZ9J"
      },
      "execution_count": null,
      "outputs": []
    }
  ]
}